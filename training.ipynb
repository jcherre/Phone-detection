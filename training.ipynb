{
 "cells": [
  {
   "cell_type": "code",
   "execution_count": 1,
   "metadata": {},
   "outputs": [
    {
     "name": "stdout",
     "output_type": "stream",
     "text": [
      "Jesus botado\n"
     ]
    }
   ],
   "source": [
    "print(\"Jesus botado\")"
   ]
  },
  {
   "cell_type": "code",
   "execution_count": 2,
   "metadata": {},
   "outputs": [
    {
     "name": "stdout",
     "output_type": "stream",
     "text": [
      "\n",
      "Found https://ultralytics.com/images/bus.jpg locally at bus.jpg\n",
      "image 1/1 d:\\repos\\Phone detection\\bus.jpg: 640x480 4 persons, 1 bus, 242.9ms\n",
      "Speed: 4.6ms preprocess, 242.9ms inference, 2.7ms postprocess per image at shape (1, 3, 640, 480)\n"
     ]
    }
   ],
   "source": [
    "from ultralytics import YOLO\n",
    "\n",
    "# Load a pretrained YOLO model\n",
    "model = YOLO(\"yolo11n.pt\")\n",
    "\n",
    "# Perform object detection on an image\n",
    "results = model(\"https://ultralytics.com/images/bus.jpg\")\n",
    "\n",
    "# Visualize the results\n",
    "for result in results:\n",
    "    result.show()"
   ]
  },
  {
   "cell_type": "code",
   "execution_count": 3,
   "metadata": {},
   "outputs": [
    {
     "name": "stdout",
     "output_type": "stream",
     "text": [
      "\n",
      "image 1/1 d:\\repos\\Phone detection\\test.png: 352x640 5 persons, 4 chairs, 1 dining table, 1 refrigerator, 153.9ms\n",
      "Speed: 3.0ms preprocess, 153.9ms inference, 4.0ms postprocess per image at shape (1, 3, 352, 640)\n"
     ]
    }
   ],
   "source": [
    "# Perform object detection on an image\n",
    "results = model(\"test.png\")\n",
    "\n",
    "# Visualize the results\n",
    "for result in results:\n",
    "    result.show()"
   ]
  },
  {
   "cell_type": "markdown",
   "metadata": {},
   "source": [
    "Creating the dataset"
   ]
  },
  {
   "cell_type": "code",
   "execution_count": 5,
   "metadata": {},
   "outputs": [],
   "source": [
    "import pandas as pd\n",
    "import os\n",
    "from PIL import Image\n",
    "\n",
    "def convert_to_yolo_format(csv_file, image_folder, output_folder, class_mapping):\n",
    "    # Read the CSV file\n",
    "    df = pd.read_csv(csv_file)\n",
    "    \n",
    "    # Create output folder if doesn't exist\n",
    "    os.makedirs(output_folder, exist_ok=True)\n",
    "\n",
    "    for _, row in df.iterrows():\n",
    "        # Get image filename and bounding box coordinates\n",
    "        image_filename = row['filename']  # Assuming the CSV has an 'image' column with image names\n",
    "        xmin, ymin, xmax, ymax = row['xmin'], row['ymin'], row['xmax'], row['ymax']\n",
    "        class_name = row['class']  # Assuming 'class' column contains class name or label\n",
    "        image_width = row['width']\n",
    "        image_height = row['height']\n",
    "\n",
    "        # Get image dimensions\n",
    "        #image_path = os.path.join(image_folder, image_filename)\n",
    "        #image = Image.open(image_path)\n",
    "        #image_width, image_height = image.size\n",
    "\n",
    "        \n",
    "        # Normalize the bounding box to YOLO format\n",
    "        x_center = (xmin + xmax) / 2 / image_width\n",
    "        y_center = (ymin + ymax) / 2 / image_height\n",
    "        width = (xmax - xmin) / image_width\n",
    "        height = (ymax - ymin) / image_height\n",
    "\n",
    "        # Get the class ID from the mapping\n",
    "        class_id = class_mapping.get(class_name, -1)\n",
    "\n",
    "        # Prepare YOLO format annotation line\n",
    "        yolo_annotation = f\"{class_id} {x_center} {y_center} {width} {height}\\n\"\n",
    "\n",
    "        # Write the annotation to a file\n",
    "        output_txt_path = os.path.join(output_folder, os.path.splitext(image_filename)[0] + \".txt\")\n",
    "        with open(output_txt_path, 'a') as f:\n",
    "            f.write(yolo_annotation)\n",
    "\n",
    "# Define class mappings (if class names are used)\n",
    "class_mapping = {\n",
    "    'Comp': 0\n",
    "    # Add more classes as needed\n",
    "}\n",
    "\n",
    "# Example usage\n",
    "csv_file = 'dataset_ori/labels.csv'  # Path to your CSV file\n",
    "image_folder = 'dataset_ori/positive/'       # Folder where images are stored\n",
    "output_folder = 'dataset_ori/yolo_annotations_v2/'  # Folder to save YOLO annotations\n",
    "\n",
    "convert_to_yolo_format(csv_file, image_folder, output_folder, class_mapping)\n"
   ]
  },
  {
   "cell_type": "code",
   "execution_count": 7,
   "metadata": {},
   "outputs": [],
   "source": [
    "image_folder = 'dataset_ori/negative/'\n",
    "output_folder = 'dataset_ori/yolo_annotations_v3/'  # Folder to save YOLO annotations\n",
    "# Create output folder if doesn't exist\n",
    "os.makedirs(output_folder, exist_ok=True)\n",
    "for image_filename in os.listdir(image_folder):\n",
    "    # Write the annotation to a file\n",
    "    output_txt_path = os.path.join(output_folder, os.path.splitext(image_filename)[0] + \".txt\")\n",
    "    with open(output_txt_path, 'a') as f:\n",
    "        f.write('')"
   ]
  },
  {
   "cell_type": "code",
   "execution_count": 9,
   "metadata": {},
   "outputs": [
    {
     "name": "stdout",
     "output_type": "stream",
     "text": [
      "Images have been split into train and validation sets.\n"
     ]
    }
   ],
   "source": [
    "import os\n",
    "import shutil\n",
    "import random\n",
    "\n",
    "# Define paths\n",
    "folder1 = 'dataset_ori/positive'\n",
    "folder2 = 'dataset_ori/negative'\n",
    "folder3 = 'dataset_ori/yolo_labels'\n",
    "train_dir = 'dataset/train/images'\n",
    "train_label = 'dataset/train/labels'\n",
    "val_dir = 'dataset/val/images'\n",
    "val_label = 'dataset/val/labels'\n",
    "\n",
    "# Create train/val directories if they don't exist\n",
    "#os.makedirs(os.path.join(train_dir, 'folder1'), exist_ok=True)\n",
    "#os.makedirs(os.path.join(val_dir, 'folder1'), exist_ok=True)\n",
    "#os.makedirs(os.path.join(train_dir, 'folder2'), exist_ok=True)\n",
    "#os.makedirs(os.path.join(val_dir, 'folder2'), exist_ok=True)\n",
    "\n",
    "# Function to split images into train/val split\n",
    "def split_images(source_folder, labels_folder, train_folder, train_label, val_folder, val_label, split_ratio=0.8):\n",
    "    # List all images in the source folder\n",
    "    all_images = [f for f in os.listdir(source_folder) if os.path.isfile(os.path.join(source_folder, f))]\n",
    "    all_labels = [f for f in os.listdir(labels_folder) if os.path.isfile(os.path.join(labels_folder, f))]\n",
    "    \n",
    "    # Shuffle the images for randomness\n",
    "    random.shuffle(all_images)\n",
    "\n",
    "    # Calculate the number of training images\n",
    "    split_index = int(len(all_images) * split_ratio)\n",
    "\n",
    "    # Split the images into train and validation\n",
    "    train_images = all_images[:split_index]\n",
    "    val_images = all_images[split_index:]\n",
    "\n",
    "    # Move the images to the corresponding folders\n",
    "    for img in train_images:\n",
    "        shutil.copy(os.path.join(source_folder, img), os.path.join(train_folder, img))\n",
    "        name = img.split('.')[0] + '.txt'\n",
    "        if name in all_labels:\n",
    "            shutil.copy(os.path.join(labels_folder, name), os.path.join(train_label, name))\n",
    "        else:\n",
    "            print(name+\" no encontrado en labels\")\n",
    "\n",
    "    for img in val_images:\n",
    "        shutil.copy(os.path.join(source_folder, img), os.path.join(val_folder, img))\n",
    "        name = img.split('.')[0] + '.txt'\n",
    "        if name in all_labels:\n",
    "            shutil.copy(os.path.join(labels_folder, name), os.path.join(val_label, name))\n",
    "        else:\n",
    "            print(name+\" no encontrado en labels\")\n",
    "\n",
    "# Split images from both folders\n",
    "split_images(folder1, folder3, train_dir, train_label, val_dir, val_label)\n",
    "split_images(folder2, folder3, train_dir, train_label, val_dir, val_label)\n",
    "\n",
    "print(\"Images have been split into train and validation sets.\")\n"
   ]
  },
  {
   "cell_type": "code",
   "execution_count": 11,
   "metadata": {},
   "outputs": [
    {
     "name": "stdout",
     "output_type": "stream",
     "text": [
      "New https://pypi.org/project/ultralytics/8.3.71 available  Update with 'pip install -U ultralytics'\n",
      "Ultralytics 8.3.70  Python-3.10.4 torch-2.6.0+cpu CPU (13th Gen Intel Core(TM) i7-1355U)\n",
      "\u001b[34m\u001b[1mengine\\trainer: \u001b[0mtask=detect, mode=train, model=yolo11n.pt, data=cellphone_dataset.yaml, epochs=50, time=None, patience=100, batch=16, imgsz=640, save=True, save_period=-1, cache=False, device=None, workers=8, project=None, name=yolov8_cellphone2, exist_ok=False, pretrained=True, optimizer=auto, verbose=True, seed=0, deterministic=True, single_cls=False, rect=False, cos_lr=False, close_mosaic=10, resume=False, amp=True, fraction=1.0, profile=False, freeze=None, multi_scale=False, overlap_mask=True, mask_ratio=4, dropout=0.0, val=True, split=val, save_json=False, save_hybrid=False, conf=None, iou=0.7, max_det=300, half=False, dnn=False, plots=True, source=None, vid_stride=1, stream_buffer=False, visualize=False, augment=False, agnostic_nms=False, classes=None, retina_masks=False, embed=None, show=False, save_frames=False, save_txt=False, save_conf=False, save_crop=False, show_labels=True, show_conf=True, show_boxes=True, line_width=None, format=torchscript, keras=False, optimize=False, int8=False, dynamic=False, simplify=True, opset=None, workspace=None, nms=False, lr0=0.01, lrf=0.01, momentum=0.937, weight_decay=0.0005, warmup_epochs=3.0, warmup_momentum=0.8, warmup_bias_lr=0.1, box=7.5, cls=0.5, dfl=1.5, pose=12.0, kobj=1.0, nbs=64, hsv_h=0.015, hsv_s=0.7, hsv_v=0.4, degrees=0.0, translate=0.1, scale=0.5, shear=0.0, perspective=0.0, flipud=0.0, fliplr=0.5, bgr=0.0, mosaic=1.0, mixup=0.0, copy_paste=0.0, copy_paste_mode=flip, auto_augment=randaugment, erasing=0.4, crop_fraction=1.0, cfg=None, tracker=botsort.yaml, save_dir=runs\\detect\\yolov8_cellphone2\n",
      "Downloading https://ultralytics.com/assets/Arial.ttf to 'C:\\Users\\jmcherre\\AppData\\Roaming\\Ultralytics\\Arial.ttf'...\n"
     ]
    },
    {
     "name": "stderr",
     "output_type": "stream",
     "text": [
      "100%|██████████| 755k/755k [00:00<00:00, 5.18MB/s]\n"
     ]
    },
    {
     "name": "stdout",
     "output_type": "stream",
     "text": [
      "Overriding model.yaml nc=80 with nc=1\n",
      "\n",
      "                   from  n    params  module                                       arguments                     \n",
      "  0                  -1  1       464  ultralytics.nn.modules.conv.Conv             [3, 16, 3, 2]                 \n",
      "  1                  -1  1      4672  ultralytics.nn.modules.conv.Conv             [16, 32, 3, 2]                \n",
      "  2                  -1  1      6640  ultralytics.nn.modules.block.C3k2            [32, 64, 1, False, 0.25]      \n",
      "  3                  -1  1     36992  ultralytics.nn.modules.conv.Conv             [64, 64, 3, 2]                \n",
      "  4                  -1  1     26080  ultralytics.nn.modules.block.C3k2            [64, 128, 1, False, 0.25]     \n",
      "  5                  -1  1    147712  ultralytics.nn.modules.conv.Conv             [128, 128, 3, 2]              \n",
      "  6                  -1  1     87040  ultralytics.nn.modules.block.C3k2            [128, 128, 1, True]           \n",
      "  7                  -1  1    295424  ultralytics.nn.modules.conv.Conv             [128, 256, 3, 2]              \n",
      "  8                  -1  1    346112  ultralytics.nn.modules.block.C3k2            [256, 256, 1, True]           \n",
      "  9                  -1  1    164608  ultralytics.nn.modules.block.SPPF            [256, 256, 5]                 \n",
      " 10                  -1  1    249728  ultralytics.nn.modules.block.C2PSA           [256, 256, 1]                 \n",
      " 11                  -1  1         0  torch.nn.modules.upsampling.Upsample         [None, 2, 'nearest']          \n",
      " 12             [-1, 6]  1         0  ultralytics.nn.modules.conv.Concat           [1]                           \n",
      " 13                  -1  1    111296  ultralytics.nn.modules.block.C3k2            [384, 128, 1, False]          \n",
      " 14                  -1  1         0  torch.nn.modules.upsampling.Upsample         [None, 2, 'nearest']          \n",
      " 15             [-1, 4]  1         0  ultralytics.nn.modules.conv.Concat           [1]                           \n",
      " 16                  -1  1     32096  ultralytics.nn.modules.block.C3k2            [256, 64, 1, False]           \n",
      " 17                  -1  1     36992  ultralytics.nn.modules.conv.Conv             [64, 64, 3, 2]                \n",
      " 18            [-1, 13]  1         0  ultralytics.nn.modules.conv.Concat           [1]                           \n",
      " 19                  -1  1     86720  ultralytics.nn.modules.block.C3k2            [192, 128, 1, False]          \n",
      " 20                  -1  1    147712  ultralytics.nn.modules.conv.Conv             [128, 128, 3, 2]              \n",
      " 21            [-1, 10]  1         0  ultralytics.nn.modules.conv.Concat           [1]                           \n",
      " 22                  -1  1    378880  ultralytics.nn.modules.block.C3k2            [384, 256, 1, True]           \n",
      " 23        [16, 19, 22]  1    430867  ultralytics.nn.modules.head.Detect           [1, [64, 128, 256]]           \n",
      "YOLO11n summary: 319 layers, 2,590,035 parameters, 2,590,019 gradients, 6.4 GFLOPs\n",
      "\n",
      "Transferred 448/499 items from pretrained weights\n",
      "Freezing layer 'model.23.dfl.conv.weight'\n"
     ]
    },
    {
     "name": "stderr",
     "output_type": "stream",
     "text": [
      "\u001b[34m\u001b[1mtrain: \u001b[0mScanning D:\\repos\\Phone detection\\dataset\\train\\labels... 710 images, 429 backgrounds, 0 corrupt: 100%|██████████| 861/861 [00:02<00:00, 334.76it/s]"
     ]
    },
    {
     "name": "stdout",
     "output_type": "stream",
     "text": [
      "\u001b[34m\u001b[1mtrain: \u001b[0mNew cache created: D:\\repos\\Phone detection\\dataset\\train\\labels.cache\n"
     ]
    },
    {
     "name": "stderr",
     "output_type": "stream",
     "text": [
      "\n",
      "\u001b[34m\u001b[1mval: \u001b[0mScanning D:\\repos\\Phone detection\\dataset\\val\\labels... 178 images, 221 backgrounds, 0 corrupt: 100%|██████████| 329/329 [00:01<00:00, 328.70it/s]"
     ]
    },
    {
     "name": "stdout",
     "output_type": "stream",
     "text": [
      "\u001b[34m\u001b[1mval: \u001b[0mNew cache created: D:\\repos\\Phone detection\\dataset\\val\\labels.cache\n"
     ]
    },
    {
     "name": "stderr",
     "output_type": "stream",
     "text": [
      "\n"
     ]
    },
    {
     "name": "stdout",
     "output_type": "stream",
     "text": [
      "Plotting labels to runs\\detect\\yolov8_cellphone2\\labels.jpg... \n",
      "\u001b[34m\u001b[1moptimizer:\u001b[0m 'optimizer=auto' found, ignoring 'lr0=0.01' and 'momentum=0.937' and determining best 'optimizer', 'lr0' and 'momentum' automatically... \n",
      "\u001b[34m\u001b[1moptimizer:\u001b[0m AdamW(lr=0.002, momentum=0.9) with parameter groups 81 weight(decay=0.0), 88 weight(decay=0.0005), 87 bias(decay=0.0)\n",
      "Image sizes 640 train, 640 val\n",
      "Using 0 dataloader workers\n",
      "Logging results to \u001b[1mruns\\detect\\yolov8_cellphone2\u001b[0m\n",
      "Starting training for 50 epochs...\n",
      "\n",
      "      Epoch    GPU_mem   box_loss   cls_loss   dfl_loss  Instances       Size\n"
     ]
    },
    {
     "name": "stderr",
     "output_type": "stream",
     "text": [
      "       1/50         0G      1.963      4.214      1.691         12        640: 100%|██████████| 54/54 [05:12<00:00,  5.78s/it]\n",
      "                 Class     Images  Instances      Box(P          R      mAP50  mAP50-95): 100%|██████████| 11/11 [00:34<00:00,  3.17s/it]"
     ]
    },
    {
     "name": "stdout",
     "output_type": "stream",
     "text": [
      "                   all        329        129    0.00113      0.868     0.0562      0.015\n"
     ]
    },
    {
     "name": "stderr",
     "output_type": "stream",
     "text": [
      "\n"
     ]
    },
    {
     "name": "stdout",
     "output_type": "stream",
     "text": [
      "\n",
      "      Epoch    GPU_mem   box_loss   cls_loss   dfl_loss  Instances       Size\n"
     ]
    },
    {
     "name": "stderr",
     "output_type": "stream",
     "text": [
      "       2/50         0G      1.994      3.581      1.745         12        640: 100%|██████████| 54/54 [05:04<00:00,  5.65s/it]\n",
      "                 Class     Images  Instances      Box(P          R      mAP50  mAP50-95): 100%|██████████| 11/11 [00:42<00:00,  3.88s/it]"
     ]
    },
    {
     "name": "stdout",
     "output_type": "stream",
     "text": [
      "                   all        329        129      0.133      0.109     0.0556     0.0154\n"
     ]
    },
    {
     "name": "stderr",
     "output_type": "stream",
     "text": [
      "\n"
     ]
    },
    {
     "name": "stdout",
     "output_type": "stream",
     "text": [
      "\n",
      "      Epoch    GPU_mem   box_loss   cls_loss   dfl_loss  Instances       Size\n"
     ]
    },
    {
     "name": "stderr",
     "output_type": "stream",
     "text": [
      "       3/50         0G      2.188      3.454      1.874          9        640: 100%|██████████| 54/54 [05:25<00:00,  6.03s/it]\n",
      "                 Class     Images  Instances      Box(P          R      mAP50  mAP50-95): 100%|██████████| 11/11 [00:39<00:00,  3.56s/it]"
     ]
    },
    {
     "name": "stdout",
     "output_type": "stream",
     "text": [
      "                   all        329        129     0.0959      0.116     0.0309    0.00962\n"
     ]
    },
    {
     "name": "stderr",
     "output_type": "stream",
     "text": [
      "\n"
     ]
    },
    {
     "name": "stdout",
     "output_type": "stream",
     "text": [
      "\n",
      "      Epoch    GPU_mem   box_loss   cls_loss   dfl_loss  Instances       Size\n"
     ]
    },
    {
     "name": "stderr",
     "output_type": "stream",
     "text": [
      "       4/50         0G      2.231      3.146      1.926         12        640: 100%|██████████| 54/54 [05:48<00:00,  6.46s/it]\n",
      "                 Class     Images  Instances      Box(P          R      mAP50  mAP50-95): 100%|██████████| 11/11 [00:44<00:00,  4.02s/it]"
     ]
    },
    {
     "name": "stdout",
     "output_type": "stream",
     "text": [
      "                   all        329        129     0.0765      0.116     0.0212    0.00593\n"
     ]
    },
    {
     "name": "stderr",
     "output_type": "stream",
     "text": [
      "\n"
     ]
    },
    {
     "name": "stdout",
     "output_type": "stream",
     "text": [
      "\n",
      "      Epoch    GPU_mem   box_loss   cls_loss   dfl_loss  Instances       Size\n"
     ]
    },
    {
     "name": "stderr",
     "output_type": "stream",
     "text": [
      "       5/50         0G      2.212      2.872      1.971         17        640: 100%|██████████| 54/54 [06:28<00:00,  7.20s/it]\n",
      "                 Class     Images  Instances      Box(P          R      mAP50  mAP50-95): 100%|██████████| 11/11 [00:38<00:00,  3.54s/it]"
     ]
    },
    {
     "name": "stdout",
     "output_type": "stream",
     "text": [
      "                   all        329        129      0.111      0.217     0.0617     0.0152\n"
     ]
    },
    {
     "name": "stderr",
     "output_type": "stream",
     "text": [
      "\n"
     ]
    },
    {
     "name": "stdout",
     "output_type": "stream",
     "text": [
      "\n",
      "      Epoch    GPU_mem   box_loss   cls_loss   dfl_loss  Instances       Size\n"
     ]
    },
    {
     "name": "stderr",
     "output_type": "stream",
     "text": [
      "       6/50         0G      2.187      2.627      1.906         14        640: 100%|██████████| 54/54 [05:00<00:00,  5.56s/it]\n",
      "                 Class     Images  Instances      Box(P          R      mAP50  mAP50-95): 100%|██████████| 11/11 [00:48<00:00,  4.43s/it]"
     ]
    },
    {
     "name": "stdout",
     "output_type": "stream",
     "text": [
      "                   all        329        129      0.178      0.333      0.125     0.0425\n"
     ]
    },
    {
     "name": "stderr",
     "output_type": "stream",
     "text": [
      "\n"
     ]
    },
    {
     "name": "stdout",
     "output_type": "stream",
     "text": [
      "\n",
      "      Epoch    GPU_mem   box_loss   cls_loss   dfl_loss  Instances       Size\n"
     ]
    },
    {
     "name": "stderr",
     "output_type": "stream",
     "text": [
      "       7/50         0G       2.06      2.333      1.781         18        640: 100%|██████████| 54/54 [08:29<00:00,  9.43s/it]\n",
      "                 Class     Images  Instances      Box(P          R      mAP50  mAP50-95): 100%|██████████| 11/11 [00:32<00:00,  2.96s/it]"
     ]
    },
    {
     "name": "stdout",
     "output_type": "stream",
     "text": [
      "                   all        329        129       0.21      0.318       0.14       0.05\n"
     ]
    },
    {
     "name": "stderr",
     "output_type": "stream",
     "text": [
      "\n"
     ]
    },
    {
     "name": "stdout",
     "output_type": "stream",
     "text": [
      "\n",
      "      Epoch    GPU_mem   box_loss   cls_loss   dfl_loss  Instances       Size\n"
     ]
    },
    {
     "name": "stderr",
     "output_type": "stream",
     "text": [
      "       8/50         0G      2.071       2.34      1.818         14        640: 100%|██████████| 54/54 [05:17<00:00,  5.88s/it]\n",
      "                 Class     Images  Instances      Box(P          R      mAP50  mAP50-95): 100%|██████████| 11/11 [00:47<00:00,  4.33s/it]"
     ]
    },
    {
     "name": "stdout",
     "output_type": "stream",
     "text": [
      "                   all        329        129        0.2      0.255      0.111     0.0398\n"
     ]
    },
    {
     "name": "stderr",
     "output_type": "stream",
     "text": [
      "\n"
     ]
    },
    {
     "name": "stdout",
     "output_type": "stream",
     "text": [
      "\n",
      "      Epoch    GPU_mem   box_loss   cls_loss   dfl_loss  Instances       Size\n"
     ]
    },
    {
     "name": "stderr",
     "output_type": "stream",
     "text": [
      "       9/50         0G      2.067      2.218      1.786         12        640: 100%|██████████| 54/54 [06:34<00:00,  7.30s/it]\n",
      "                 Class     Images  Instances      Box(P          R      mAP50  mAP50-95): 100%|██████████| 11/11 [01:17<00:00,  7.01s/it]"
     ]
    },
    {
     "name": "stdout",
     "output_type": "stream",
     "text": [
      "                   all        329        129      0.274      0.395      0.184     0.0553\n"
     ]
    },
    {
     "name": "stderr",
     "output_type": "stream",
     "text": [
      "\n"
     ]
    },
    {
     "name": "stdout",
     "output_type": "stream",
     "text": [
      "\n",
      "      Epoch    GPU_mem   box_loss   cls_loss   dfl_loss  Instances       Size\n"
     ]
    },
    {
     "name": "stderr",
     "output_type": "stream",
     "text": [
      "      10/50         0G      1.968      2.122      1.725         21        640: 100%|██████████| 54/54 [08:06<00:00,  9.01s/it]\n",
      "                 Class     Images  Instances      Box(P          R      mAP50  mAP50-95): 100%|██████████| 11/11 [00:42<00:00,  3.83s/it]"
     ]
    },
    {
     "name": "stdout",
     "output_type": "stream",
     "text": [
      "                   all        329        129      0.239      0.419      0.155      0.054\n"
     ]
    },
    {
     "name": "stderr",
     "output_type": "stream",
     "text": [
      "\n"
     ]
    },
    {
     "name": "stdout",
     "output_type": "stream",
     "text": [
      "\n",
      "      Epoch    GPU_mem   box_loss   cls_loss   dfl_loss  Instances       Size\n"
     ]
    },
    {
     "name": "stderr",
     "output_type": "stream",
     "text": [
      "      11/50         0G      1.934      2.108      1.735         23        640: 100%|██████████| 54/54 [05:46<00:00,  6.42s/it]\n",
      "                 Class     Images  Instances      Box(P          R      mAP50  mAP50-95): 100%|██████████| 11/11 [00:41<00:00,  3.77s/it]"
     ]
    },
    {
     "name": "stdout",
     "output_type": "stream",
     "text": [
      "                   all        329        129      0.274       0.24      0.144     0.0559\n"
     ]
    },
    {
     "name": "stderr",
     "output_type": "stream",
     "text": [
      "\n"
     ]
    },
    {
     "name": "stdout",
     "output_type": "stream",
     "text": [
      "\n",
      "      Epoch    GPU_mem   box_loss   cls_loss   dfl_loss  Instances       Size\n"
     ]
    },
    {
     "name": "stderr",
     "output_type": "stream",
     "text": [
      "      12/50         0G      1.961      2.083      1.713          9        640: 100%|██████████| 54/54 [05:40<00:00,  6.31s/it]\n",
      "                 Class     Images  Instances      Box(P          R      mAP50  mAP50-95): 100%|██████████| 11/11 [00:44<00:00,  4.06s/it]"
     ]
    },
    {
     "name": "stdout",
     "output_type": "stream",
     "text": [
      "                   all        329        129      0.287      0.364      0.195     0.0703\n"
     ]
    },
    {
     "name": "stderr",
     "output_type": "stream",
     "text": [
      "\n"
     ]
    },
    {
     "name": "stdout",
     "output_type": "stream",
     "text": [
      "\n",
      "      Epoch    GPU_mem   box_loss   cls_loss   dfl_loss  Instances       Size\n"
     ]
    },
    {
     "name": "stderr",
     "output_type": "stream",
     "text": [
      "      13/50         0G      1.912      1.938        1.7          8        640: 100%|██████████| 54/54 [05:38<00:00,  6.27s/it]\n",
      "                 Class     Images  Instances      Box(P          R      mAP50  mAP50-95): 100%|██████████| 11/11 [00:40<00:00,  3.65s/it]"
     ]
    },
    {
     "name": "stdout",
     "output_type": "stream",
     "text": [
      "                   all        329        129      0.228      0.364      0.159     0.0526\n"
     ]
    },
    {
     "name": "stderr",
     "output_type": "stream",
     "text": [
      "\n"
     ]
    },
    {
     "name": "stdout",
     "output_type": "stream",
     "text": [
      "\n",
      "      Epoch    GPU_mem   box_loss   cls_loss   dfl_loss  Instances       Size\n"
     ]
    },
    {
     "name": "stderr",
     "output_type": "stream",
     "text": [
      "      14/50         0G      1.835      1.882      1.667         14        640: 100%|██████████| 54/54 [05:39<00:00,  6.28s/it]\n",
      "                 Class     Images  Instances      Box(P          R      mAP50  mAP50-95): 100%|██████████| 11/11 [00:41<00:00,  3.74s/it]"
     ]
    },
    {
     "name": "stdout",
     "output_type": "stream",
     "text": [
      "                   all        329        129      0.264      0.388      0.175     0.0604\n"
     ]
    },
    {
     "name": "stderr",
     "output_type": "stream",
     "text": [
      "\n"
     ]
    },
    {
     "name": "stdout",
     "output_type": "stream",
     "text": [
      "\n",
      "      Epoch    GPU_mem   box_loss   cls_loss   dfl_loss  Instances       Size\n"
     ]
    },
    {
     "name": "stderr",
     "output_type": "stream",
     "text": [
      "      15/50         0G      1.882        1.9      1.667         14        640: 100%|██████████| 54/54 [05:40<00:00,  6.30s/it]\n",
      "                 Class     Images  Instances      Box(P          R      mAP50  mAP50-95): 100%|██████████| 11/11 [00:41<00:00,  3.77s/it]"
     ]
    },
    {
     "name": "stdout",
     "output_type": "stream",
     "text": [
      "                   all        329        129      0.234      0.391      0.173     0.0638\n"
     ]
    },
    {
     "name": "stderr",
     "output_type": "stream",
     "text": [
      "\n"
     ]
    },
    {
     "name": "stdout",
     "output_type": "stream",
     "text": [
      "\n",
      "      Epoch    GPU_mem   box_loss   cls_loss   dfl_loss  Instances       Size\n"
     ]
    },
    {
     "name": "stderr",
     "output_type": "stream",
     "text": [
      "      16/50         0G      1.819      1.833      1.623         16        640: 100%|██████████| 54/54 [05:41<00:00,  6.32s/it]\n",
      "                 Class     Images  Instances      Box(P          R      mAP50  mAP50-95): 100%|██████████| 11/11 [00:41<00:00,  3.81s/it]"
     ]
    },
    {
     "name": "stdout",
     "output_type": "stream",
     "text": [
      "                   all        329        129      0.262       0.47      0.183     0.0604\n"
     ]
    },
    {
     "name": "stderr",
     "output_type": "stream",
     "text": [
      "\n"
     ]
    },
    {
     "name": "stdout",
     "output_type": "stream",
     "text": [
      "\n",
      "      Epoch    GPU_mem   box_loss   cls_loss   dfl_loss  Instances       Size\n"
     ]
    },
    {
     "name": "stderr",
     "output_type": "stream",
     "text": [
      "      17/50         0G      1.855      1.852      1.643          9        640: 100%|██████████| 54/54 [05:46<00:00,  6.41s/it]\n",
      "                 Class     Images  Instances      Box(P          R      mAP50  mAP50-95): 100%|██████████| 11/11 [00:40<00:00,  3.69s/it]"
     ]
    },
    {
     "name": "stdout",
     "output_type": "stream",
     "text": [
      "                   all        329        129      0.306      0.419       0.19     0.0646\n"
     ]
    },
    {
     "name": "stderr",
     "output_type": "stream",
     "text": [
      "\n"
     ]
    },
    {
     "name": "stdout",
     "output_type": "stream",
     "text": [
      "\n",
      "      Epoch    GPU_mem   box_loss   cls_loss   dfl_loss  Instances       Size\n"
     ]
    },
    {
     "name": "stderr",
     "output_type": "stream",
     "text": [
      "      18/50         0G      1.827      1.836      1.641         15        640: 100%|██████████| 54/54 [05:44<00:00,  6.38s/it]\n",
      "                 Class     Images  Instances      Box(P          R      mAP50  mAP50-95): 100%|██████████| 11/11 [00:40<00:00,  3.70s/it]"
     ]
    },
    {
     "name": "stdout",
     "output_type": "stream",
     "text": [
      "                   all        329        129       0.28      0.473      0.196      0.073\n"
     ]
    },
    {
     "name": "stderr",
     "output_type": "stream",
     "text": [
      "\n"
     ]
    },
    {
     "name": "stdout",
     "output_type": "stream",
     "text": [
      "\n",
      "      Epoch    GPU_mem   box_loss   cls_loss   dfl_loss  Instances       Size\n"
     ]
    },
    {
     "name": "stderr",
     "output_type": "stream",
     "text": [
      "      19/50         0G      1.734       1.68      1.572         16        640: 100%|██████████| 54/54 [05:42<00:00,  6.33s/it]\n",
      "                 Class     Images  Instances      Box(P          R      mAP50  mAP50-95): 100%|██████████| 11/11 [00:41<00:00,  3.78s/it]"
     ]
    },
    {
     "name": "stdout",
     "output_type": "stream",
     "text": [
      "                   all        329        129      0.187      0.419       0.15     0.0599\n"
     ]
    },
    {
     "name": "stderr",
     "output_type": "stream",
     "text": [
      "\n"
     ]
    },
    {
     "name": "stdout",
     "output_type": "stream",
     "text": [
      "\n",
      "      Epoch    GPU_mem   box_loss   cls_loss   dfl_loss  Instances       Size\n"
     ]
    },
    {
     "name": "stderr",
     "output_type": "stream",
     "text": [
      "      20/50         0G       1.73      1.665      1.576         10        640: 100%|██████████| 54/54 [05:44<00:00,  6.37s/it]\n",
      "                 Class     Images  Instances      Box(P          R      mAP50  mAP50-95): 100%|██████████| 11/11 [00:42<00:00,  3.84s/it]"
     ]
    },
    {
     "name": "stdout",
     "output_type": "stream",
     "text": [
      "                   all        329        129      0.309      0.388      0.207     0.0742\n"
     ]
    },
    {
     "name": "stderr",
     "output_type": "stream",
     "text": [
      "\n"
     ]
    },
    {
     "name": "stdout",
     "output_type": "stream",
     "text": [
      "\n",
      "      Epoch    GPU_mem   box_loss   cls_loss   dfl_loss  Instances       Size\n"
     ]
    },
    {
     "name": "stderr",
     "output_type": "stream",
     "text": [
      "      21/50         0G      1.712       1.71      1.558         12        640: 100%|██████████| 54/54 [05:45<00:00,  6.41s/it]\n",
      "                 Class     Images  Instances      Box(P          R      mAP50  mAP50-95): 100%|██████████| 11/11 [00:41<00:00,  3.79s/it]"
     ]
    },
    {
     "name": "stdout",
     "output_type": "stream",
     "text": [
      "                   all        329        129       0.28      0.473      0.192     0.0757\n"
     ]
    },
    {
     "name": "stderr",
     "output_type": "stream",
     "text": [
      "\n"
     ]
    },
    {
     "name": "stdout",
     "output_type": "stream",
     "text": [
      "\n",
      "      Epoch    GPU_mem   box_loss   cls_loss   dfl_loss  Instances       Size\n"
     ]
    },
    {
     "name": "stderr",
     "output_type": "stream",
     "text": [
      "      22/50         0G      1.701      1.689      1.551         10        640: 100%|██████████| 54/54 [05:39<00:00,  6.29s/it]\n",
      "                 Class     Images  Instances      Box(P          R      mAP50  mAP50-95): 100%|██████████| 11/11 [00:40<00:00,  3.68s/it]"
     ]
    },
    {
     "name": "stdout",
     "output_type": "stream",
     "text": [
      "                   all        329        129      0.271      0.512      0.205     0.0829\n"
     ]
    },
    {
     "name": "stderr",
     "output_type": "stream",
     "text": [
      "\n"
     ]
    },
    {
     "name": "stdout",
     "output_type": "stream",
     "text": [
      "\n",
      "      Epoch    GPU_mem   box_loss   cls_loss   dfl_loss  Instances       Size\n"
     ]
    },
    {
     "name": "stderr",
     "output_type": "stream",
     "text": [
      "      23/50         0G       1.71      1.609      1.538         20        640: 100%|██████████| 54/54 [05:38<00:00,  6.27s/it]\n",
      "                 Class     Images  Instances      Box(P          R      mAP50  mAP50-95): 100%|██████████| 11/11 [00:40<00:00,  3.69s/it]"
     ]
    },
    {
     "name": "stdout",
     "output_type": "stream",
     "text": [
      "                   all        329        129       0.29      0.566      0.222      0.083\n"
     ]
    },
    {
     "name": "stderr",
     "output_type": "stream",
     "text": [
      "\n"
     ]
    },
    {
     "name": "stdout",
     "output_type": "stream",
     "text": [
      "\n",
      "      Epoch    GPU_mem   box_loss   cls_loss   dfl_loss  Instances       Size\n"
     ]
    },
    {
     "name": "stderr",
     "output_type": "stream",
     "text": [
      "      24/50         0G      1.687      1.563      1.526         10        640: 100%|██████████| 54/54 [05:35<00:00,  6.20s/it]\n",
      "                 Class     Images  Instances      Box(P          R      mAP50  mAP50-95): 100%|██████████| 11/11 [00:39<00:00,  3.63s/it]"
     ]
    },
    {
     "name": "stdout",
     "output_type": "stream",
     "text": [
      "                   all        329        129      0.259      0.458      0.196     0.0786\n"
     ]
    },
    {
     "name": "stderr",
     "output_type": "stream",
     "text": [
      "\n"
     ]
    },
    {
     "name": "stdout",
     "output_type": "stream",
     "text": [
      "\n",
      "      Epoch    GPU_mem   box_loss   cls_loss   dfl_loss  Instances       Size\n"
     ]
    },
    {
     "name": "stderr",
     "output_type": "stream",
     "text": [
      "      25/50         0G      1.685       1.51      1.529         16        640: 100%|██████████| 54/54 [05:35<00:00,  6.22s/it]\n",
      "                 Class     Images  Instances      Box(P          R      mAP50  mAP50-95): 100%|██████████| 11/11 [00:40<00:00,  3.65s/it]"
     ]
    },
    {
     "name": "stdout",
     "output_type": "stream",
     "text": [
      "                   all        329        129      0.308      0.503      0.224     0.0879\n"
     ]
    },
    {
     "name": "stderr",
     "output_type": "stream",
     "text": [
      "\n"
     ]
    },
    {
     "name": "stdout",
     "output_type": "stream",
     "text": [
      "\n",
      "      Epoch    GPU_mem   box_loss   cls_loss   dfl_loss  Instances       Size\n"
     ]
    },
    {
     "name": "stderr",
     "output_type": "stream",
     "text": [
      "      26/50         0G      1.617      1.475       1.51         13        640: 100%|██████████| 54/54 [05:39<00:00,  6.29s/it]\n",
      "                 Class     Images  Instances      Box(P          R      mAP50  mAP50-95): 100%|██████████| 11/11 [00:41<00:00,  3.77s/it]"
     ]
    },
    {
     "name": "stdout",
     "output_type": "stream",
     "text": [
      "                   all        329        129      0.348      0.434       0.25      0.105\n"
     ]
    },
    {
     "name": "stderr",
     "output_type": "stream",
     "text": [
      "\n"
     ]
    },
    {
     "name": "stdout",
     "output_type": "stream",
     "text": [
      "\n",
      "      Epoch    GPU_mem   box_loss   cls_loss   dfl_loss  Instances       Size\n"
     ]
    },
    {
     "name": "stderr",
     "output_type": "stream",
     "text": [
      "      27/50         0G      1.627      1.498      1.502          9        640: 100%|██████████| 54/54 [05:36<00:00,  6.23s/it]\n",
      "                 Class     Images  Instances      Box(P          R      mAP50  mAP50-95): 100%|██████████| 11/11 [00:40<00:00,  3.71s/it]"
     ]
    },
    {
     "name": "stdout",
     "output_type": "stream",
     "text": [
      "                   all        329        129      0.283       0.45      0.215      0.081\n"
     ]
    },
    {
     "name": "stderr",
     "output_type": "stream",
     "text": [
      "\n"
     ]
    },
    {
     "name": "stdout",
     "output_type": "stream",
     "text": [
      "\n",
      "      Epoch    GPU_mem   box_loss   cls_loss   dfl_loss  Instances       Size\n"
     ]
    },
    {
     "name": "stderr",
     "output_type": "stream",
     "text": [
      "      28/50         0G      1.582      1.443      1.458         15        640: 100%|██████████| 54/54 [05:31<00:00,  6.13s/it]\n",
      "                 Class     Images  Instances      Box(P          R      mAP50  mAP50-95): 100%|██████████| 11/11 [00:39<00:00,  3.60s/it]"
     ]
    },
    {
     "name": "stdout",
     "output_type": "stream",
     "text": [
      "                   all        329        129      0.318      0.543      0.233     0.0984\n"
     ]
    },
    {
     "name": "stderr",
     "output_type": "stream",
     "text": [
      "\n"
     ]
    },
    {
     "name": "stdout",
     "output_type": "stream",
     "text": [
      "\n",
      "      Epoch    GPU_mem   box_loss   cls_loss   dfl_loss  Instances       Size\n"
     ]
    },
    {
     "name": "stderr",
     "output_type": "stream",
     "text": [
      "      29/50         0G      1.549      1.398      1.455         20        640: 100%|██████████| 54/54 [05:32<00:00,  6.16s/it]\n",
      "                 Class     Images  Instances      Box(P          R      mAP50  mAP50-95): 100%|██████████| 11/11 [00:39<00:00,  3.62s/it]"
     ]
    },
    {
     "name": "stdout",
     "output_type": "stream",
     "text": [
      "                   all        329        129      0.311      0.589      0.249      0.107\n"
     ]
    },
    {
     "name": "stderr",
     "output_type": "stream",
     "text": [
      "\n"
     ]
    },
    {
     "name": "stdout",
     "output_type": "stream",
     "text": [
      "\n",
      "      Epoch    GPU_mem   box_loss   cls_loss   dfl_loss  Instances       Size\n"
     ]
    },
    {
     "name": "stderr",
     "output_type": "stream",
     "text": [
      "      30/50         0G      1.591      1.433      1.477         11        640: 100%|██████████| 54/54 [05:29<00:00,  6.10s/it]\n",
      "                 Class     Images  Instances      Box(P          R      mAP50  mAP50-95): 100%|██████████| 11/11 [00:40<00:00,  3.67s/it]"
     ]
    },
    {
     "name": "stdout",
     "output_type": "stream",
     "text": [
      "                   all        329        129      0.281      0.482      0.212     0.0912\n"
     ]
    },
    {
     "name": "stderr",
     "output_type": "stream",
     "text": [
      "\n"
     ]
    },
    {
     "name": "stdout",
     "output_type": "stream",
     "text": [
      "\n",
      "      Epoch    GPU_mem   box_loss   cls_loss   dfl_loss  Instances       Size\n"
     ]
    },
    {
     "name": "stderr",
     "output_type": "stream",
     "text": [
      "      31/50         0G      1.582      1.413      1.475         16        640: 100%|██████████| 54/54 [05:31<00:00,  6.13s/it]\n",
      "                 Class     Images  Instances      Box(P          R      mAP50  mAP50-95): 100%|██████████| 11/11 [00:40<00:00,  3.65s/it]"
     ]
    },
    {
     "name": "stdout",
     "output_type": "stream",
     "text": [
      "                   all        329        129      0.307      0.545      0.226     0.0945\n"
     ]
    },
    {
     "name": "stderr",
     "output_type": "stream",
     "text": [
      "\n"
     ]
    },
    {
     "name": "stdout",
     "output_type": "stream",
     "text": [
      "\n",
      "      Epoch    GPU_mem   box_loss   cls_loss   dfl_loss  Instances       Size\n"
     ]
    },
    {
     "name": "stderr",
     "output_type": "stream",
     "text": [
      "      32/50         0G      1.517      1.388      1.424         20        640: 100%|██████████| 54/54 [05:34<00:00,  6.19s/it]\n",
      "                 Class     Images  Instances      Box(P          R      mAP50  mAP50-95): 100%|██████████| 11/11 [00:39<00:00,  3.60s/it]"
     ]
    },
    {
     "name": "stdout",
     "output_type": "stream",
     "text": [
      "                   all        329        129      0.294      0.519      0.238     0.0979\n"
     ]
    },
    {
     "name": "stderr",
     "output_type": "stream",
     "text": [
      "\n"
     ]
    },
    {
     "name": "stdout",
     "output_type": "stream",
     "text": [
      "\n",
      "      Epoch    GPU_mem   box_loss   cls_loss   dfl_loss  Instances       Size\n"
     ]
    },
    {
     "name": "stderr",
     "output_type": "stream",
     "text": [
      "      33/50         0G      1.474      1.377      1.422         10        640: 100%|██████████| 54/54 [05:35<00:00,  6.22s/it]\n",
      "                 Class     Images  Instances      Box(P          R      mAP50  mAP50-95): 100%|██████████| 11/11 [00:40<00:00,  3.68s/it]"
     ]
    },
    {
     "name": "stdout",
     "output_type": "stream",
     "text": [
      "                   all        329        129      0.285        0.5      0.207     0.0885\n"
     ]
    },
    {
     "name": "stderr",
     "output_type": "stream",
     "text": [
      "\n"
     ]
    },
    {
     "name": "stdout",
     "output_type": "stream",
     "text": [
      "\n",
      "      Epoch    GPU_mem   box_loss   cls_loss   dfl_loss  Instances       Size\n"
     ]
    },
    {
     "name": "stderr",
     "output_type": "stream",
     "text": [
      "      34/50         0G      1.454        1.3      1.395         17        640: 100%|██████████| 54/54 [05:40<00:00,  6.30s/it]\n",
      "                 Class     Images  Instances      Box(P          R      mAP50  mAP50-95): 100%|██████████| 11/11 [00:40<00:00,  3.66s/it]"
     ]
    },
    {
     "name": "stdout",
     "output_type": "stream",
     "text": [
      "                   all        329        129      0.268      0.566      0.214      0.093\n"
     ]
    },
    {
     "name": "stderr",
     "output_type": "stream",
     "text": [
      "\n"
     ]
    },
    {
     "name": "stdout",
     "output_type": "stream",
     "text": [
      "\n",
      "      Epoch    GPU_mem   box_loss   cls_loss   dfl_loss  Instances       Size\n"
     ]
    },
    {
     "name": "stderr",
     "output_type": "stream",
     "text": [
      "      35/50         0G      1.475      1.286      1.377         17        640: 100%|██████████| 54/54 [05:39<00:00,  6.29s/it]\n",
      "                 Class     Images  Instances      Box(P          R      mAP50  mAP50-95): 100%|██████████| 11/11 [00:40<00:00,  3.64s/it]"
     ]
    },
    {
     "name": "stdout",
     "output_type": "stream",
     "text": [
      "                   all        329        129      0.284      0.597       0.23      0.095\n"
     ]
    },
    {
     "name": "stderr",
     "output_type": "stream",
     "text": [
      "\n"
     ]
    },
    {
     "name": "stdout",
     "output_type": "stream",
     "text": [
      "\n",
      "      Epoch    GPU_mem   box_loss   cls_loss   dfl_loss  Instances       Size\n"
     ]
    },
    {
     "name": "stderr",
     "output_type": "stream",
     "text": [
      "      36/50         0G       1.48      1.233      1.387         12        640: 100%|██████████| 54/54 [05:36<00:00,  6.23s/it]\n",
      "                 Class     Images  Instances      Box(P          R      mAP50  mAP50-95): 100%|██████████| 11/11 [00:40<00:00,  3.70s/it]"
     ]
    },
    {
     "name": "stdout",
     "output_type": "stream",
     "text": [
      "                   all        329        129      0.282      0.496      0.204     0.0846\n"
     ]
    },
    {
     "name": "stderr",
     "output_type": "stream",
     "text": [
      "\n"
     ]
    },
    {
     "name": "stdout",
     "output_type": "stream",
     "text": [
      "\n",
      "      Epoch    GPU_mem   box_loss   cls_loss   dfl_loss  Instances       Size\n"
     ]
    },
    {
     "name": "stderr",
     "output_type": "stream",
     "text": [
      "      37/50         0G      1.438      1.268      1.381         13        640: 100%|██████████| 54/54 [05:39<00:00,  6.29s/it]\n",
      "                 Class     Images  Instances      Box(P          R      mAP50  mAP50-95): 100%|██████████| 11/11 [00:39<00:00,  3.62s/it]"
     ]
    },
    {
     "name": "stdout",
     "output_type": "stream",
     "text": [
      "                   all        329        129       0.31      0.551      0.236     0.0991\n"
     ]
    },
    {
     "name": "stderr",
     "output_type": "stream",
     "text": [
      "\n"
     ]
    },
    {
     "name": "stdout",
     "output_type": "stream",
     "text": [
      "\n",
      "      Epoch    GPU_mem   box_loss   cls_loss   dfl_loss  Instances       Size\n"
     ]
    },
    {
     "name": "stderr",
     "output_type": "stream",
     "text": [
      "      38/50         0G      1.393      1.213      1.354          8        640: 100%|██████████| 54/54 [05:30<00:00,  6.12s/it]\n",
      "                 Class     Images  Instances      Box(P          R      mAP50  mAP50-95): 100%|██████████| 11/11 [00:39<00:00,  3.59s/it]"
     ]
    },
    {
     "name": "stdout",
     "output_type": "stream",
     "text": [
      "                   all        329        129      0.313      0.519      0.217     0.0929\n"
     ]
    },
    {
     "name": "stderr",
     "output_type": "stream",
     "text": [
      "\n"
     ]
    },
    {
     "name": "stdout",
     "output_type": "stream",
     "text": [
      "\n",
      "      Epoch    GPU_mem   box_loss   cls_loss   dfl_loss  Instances       Size\n"
     ]
    },
    {
     "name": "stderr",
     "output_type": "stream",
     "text": [
      "      39/50         0G      1.405      1.179      1.356         14        640: 100%|██████████| 54/54 [05:33<00:00,  6.18s/it]\n",
      "                 Class     Images  Instances      Box(P          R      mAP50  mAP50-95): 100%|██████████| 11/11 [00:39<00:00,  3.60s/it]"
     ]
    },
    {
     "name": "stdout",
     "output_type": "stream",
     "text": [
      "                   all        329        129      0.337      0.566      0.254      0.104\n"
     ]
    },
    {
     "name": "stderr",
     "output_type": "stream",
     "text": [
      "\n"
     ]
    },
    {
     "name": "stdout",
     "output_type": "stream",
     "text": [
      "\n",
      "      Epoch    GPU_mem   box_loss   cls_loss   dfl_loss  Instances       Size\n"
     ]
    },
    {
     "name": "stderr",
     "output_type": "stream",
     "text": [
      "      40/50         0G      1.356       1.17      1.333         12        640: 100%|██████████| 54/54 [05:30<00:00,  6.13s/it]\n",
      "                 Class     Images  Instances      Box(P          R      mAP50  mAP50-95): 100%|██████████| 11/11 [00:40<00:00,  3.72s/it]"
     ]
    },
    {
     "name": "stdout",
     "output_type": "stream",
     "text": [
      "                   all        329        129      0.271      0.519      0.209     0.0942\n"
     ]
    },
    {
     "name": "stderr",
     "output_type": "stream",
     "text": [
      "\n"
     ]
    },
    {
     "name": "stdout",
     "output_type": "stream",
     "text": [
      "Closing dataloader mosaic\n",
      "\n",
      "      Epoch    GPU_mem   box_loss   cls_loss   dfl_loss  Instances       Size\n"
     ]
    },
    {
     "name": "stderr",
     "output_type": "stream",
     "text": [
      "      41/50         0G      1.304      1.117       1.32          8        640: 100%|██████████| 54/54 [05:32<00:00,  6.15s/it]\n",
      "                 Class     Images  Instances      Box(P          R      mAP50  mAP50-95): 100%|██████████| 11/11 [00:41<00:00,  3.80s/it]"
     ]
    },
    {
     "name": "stdout",
     "output_type": "stream",
     "text": [
      "                   all        329        129      0.321      0.527      0.244      0.104\n"
     ]
    },
    {
     "name": "stderr",
     "output_type": "stream",
     "text": [
      "\n"
     ]
    },
    {
     "name": "stdout",
     "output_type": "stream",
     "text": [
      "\n",
      "      Epoch    GPU_mem   box_loss   cls_loss   dfl_loss  Instances       Size\n"
     ]
    },
    {
     "name": "stderr",
     "output_type": "stream",
     "text": [
      "      42/50         0G      1.282      1.058      1.309          5        640: 100%|██████████| 54/54 [05:44<00:00,  6.38s/it]\n",
      "                 Class     Images  Instances      Box(P          R      mAP50  mAP50-95): 100%|██████████| 11/11 [00:40<00:00,  3.69s/it]"
     ]
    },
    {
     "name": "stdout",
     "output_type": "stream",
     "text": [
      "                   all        329        129      0.313      0.581       0.24      0.104\n"
     ]
    },
    {
     "name": "stderr",
     "output_type": "stream",
     "text": [
      "\n"
     ]
    },
    {
     "name": "stdout",
     "output_type": "stream",
     "text": [
      "\n",
      "      Epoch    GPU_mem   box_loss   cls_loss   dfl_loss  Instances       Size\n"
     ]
    },
    {
     "name": "stderr",
     "output_type": "stream",
     "text": [
      "      43/50         0G       1.23      1.015      1.303          8        640: 100%|██████████| 54/54 [05:33<00:00,  6.17s/it]\n",
      "                 Class     Images  Instances      Box(P          R      mAP50  mAP50-95): 100%|██████████| 11/11 [00:41<00:00,  3.78s/it]"
     ]
    },
    {
     "name": "stdout",
     "output_type": "stream",
     "text": [
      "                   all        329        129       0.32      0.597      0.251      0.107\n"
     ]
    },
    {
     "name": "stderr",
     "output_type": "stream",
     "text": [
      "\n"
     ]
    },
    {
     "name": "stdout",
     "output_type": "stream",
     "text": [
      "\n",
      "      Epoch    GPU_mem   box_loss   cls_loss   dfl_loss  Instances       Size\n"
     ]
    },
    {
     "name": "stderr",
     "output_type": "stream",
     "text": [
      "      44/50         0G      1.289      1.023      1.323          6        640: 100%|██████████| 54/54 [05:28<00:00,  6.08s/it]\n",
      "                 Class     Images  Instances      Box(P          R      mAP50  mAP50-95): 100%|██████████| 11/11 [00:40<00:00,  3.68s/it]"
     ]
    },
    {
     "name": "stdout",
     "output_type": "stream",
     "text": [
      "                   all        329        129      0.298      0.574       0.23      0.101\n"
     ]
    },
    {
     "name": "stderr",
     "output_type": "stream",
     "text": [
      "\n"
     ]
    },
    {
     "name": "stdout",
     "output_type": "stream",
     "text": [
      "\n",
      "      Epoch    GPU_mem   box_loss   cls_loss   dfl_loss  Instances       Size\n"
     ]
    },
    {
     "name": "stderr",
     "output_type": "stream",
     "text": [
      "      45/50         0G      1.231      1.022       1.29          7        640: 100%|██████████| 54/54 [05:36<00:00,  6.23s/it]\n",
      "                 Class     Images  Instances      Box(P          R      mAP50  mAP50-95): 100%|██████████| 11/11 [00:40<00:00,  3.65s/it]"
     ]
    },
    {
     "name": "stdout",
     "output_type": "stream",
     "text": [
      "                   all        329        129      0.293      0.579      0.244      0.104\n"
     ]
    },
    {
     "name": "stderr",
     "output_type": "stream",
     "text": [
      "\n"
     ]
    },
    {
     "name": "stdout",
     "output_type": "stream",
     "text": [
      "\n",
      "      Epoch    GPU_mem   box_loss   cls_loss   dfl_loss  Instances       Size\n"
     ]
    },
    {
     "name": "stderr",
     "output_type": "stream",
     "text": [
      "      46/50         0G      1.216     0.9794      1.282         12        640: 100%|██████████| 54/54 [05:31<00:00,  6.14s/it]\n",
      "                 Class     Images  Instances      Box(P          R      mAP50  mAP50-95): 100%|██████████| 11/11 [00:39<00:00,  3.63s/it]"
     ]
    },
    {
     "name": "stdout",
     "output_type": "stream",
     "text": [
      "                   all        329        129      0.315      0.527      0.235     0.0985\n"
     ]
    },
    {
     "name": "stderr",
     "output_type": "stream",
     "text": [
      "\n"
     ]
    },
    {
     "name": "stdout",
     "output_type": "stream",
     "text": [
      "\n",
      "      Epoch    GPU_mem   box_loss   cls_loss   dfl_loss  Instances       Size\n"
     ]
    },
    {
     "name": "stderr",
     "output_type": "stream",
     "text": [
      "      47/50         0G       1.21     0.9887      1.278          6        640: 100%|██████████| 54/54 [05:34<00:00,  6.20s/it]\n",
      "                 Class     Images  Instances      Box(P          R      mAP50  mAP50-95): 100%|██████████| 11/11 [00:40<00:00,  3.65s/it]"
     ]
    },
    {
     "name": "stdout",
     "output_type": "stream",
     "text": [
      "                   all        329        129      0.341      0.587      0.259      0.111\n"
     ]
    },
    {
     "name": "stderr",
     "output_type": "stream",
     "text": [
      "\n"
     ]
    },
    {
     "name": "stdout",
     "output_type": "stream",
     "text": [
      "\n",
      "      Epoch    GPU_mem   box_loss   cls_loss   dfl_loss  Instances       Size\n"
     ]
    },
    {
     "name": "stderr",
     "output_type": "stream",
     "text": [
      "      48/50         0G      1.171     0.9233      1.259          7        640: 100%|██████████| 54/54 [05:40<00:00,  6.30s/it]\n",
      "                 Class     Images  Instances      Box(P          R      mAP50  mAP50-95): 100%|██████████| 11/11 [00:40<00:00,  3.64s/it]"
     ]
    },
    {
     "name": "stdout",
     "output_type": "stream",
     "text": [
      "                   all        329        129      0.311      0.581      0.243      0.111\n"
     ]
    },
    {
     "name": "stderr",
     "output_type": "stream",
     "text": [
      "\n"
     ]
    },
    {
     "name": "stdout",
     "output_type": "stream",
     "text": [
      "\n",
      "      Epoch    GPU_mem   box_loss   cls_loss   dfl_loss  Instances       Size\n"
     ]
    },
    {
     "name": "stderr",
     "output_type": "stream",
     "text": [
      "      49/50         0G      1.167     0.9395       1.26          6        640: 100%|██████████| 54/54 [05:32<00:00,  6.16s/it]\n",
      "                 Class     Images  Instances      Box(P          R      mAP50  mAP50-95): 100%|██████████| 11/11 [00:42<00:00,  3.83s/it]"
     ]
    },
    {
     "name": "stdout",
     "output_type": "stream",
     "text": [
      "                   all        329        129      0.309      0.558      0.237      0.107\n"
     ]
    },
    {
     "name": "stderr",
     "output_type": "stream",
     "text": [
      "\n"
     ]
    },
    {
     "name": "stdout",
     "output_type": "stream",
     "text": [
      "\n",
      "      Epoch    GPU_mem   box_loss   cls_loss   dfl_loss  Instances       Size\n"
     ]
    },
    {
     "name": "stderr",
     "output_type": "stream",
     "text": [
      "      50/50         0G       1.16     0.9352      1.235          9        640: 100%|██████████| 54/54 [05:39<00:00,  6.28s/it]\n",
      "                 Class     Images  Instances      Box(P          R      mAP50  mAP50-95): 100%|██████████| 11/11 [00:41<00:00,  3.78s/it]"
     ]
    },
    {
     "name": "stdout",
     "output_type": "stream",
     "text": [
      "                   all        329        129      0.328      0.527      0.234      0.105\n"
     ]
    },
    {
     "name": "stderr",
     "output_type": "stream",
     "text": [
      "\n"
     ]
    },
    {
     "name": "stdout",
     "output_type": "stream",
     "text": [
      "\n",
      "50 epochs completed in 5.361 hours.\n",
      "Optimizer stripped from runs\\detect\\yolov8_cellphone2\\weights\\last.pt, 5.4MB\n",
      "Optimizer stripped from runs\\detect\\yolov8_cellphone2\\weights\\best.pt, 5.4MB\n",
      "\n",
      "Validating runs\\detect\\yolov8_cellphone2\\weights\\best.pt...\n",
      "Ultralytics 8.3.70  Python-3.10.4 torch-2.6.0+cpu CPU (13th Gen Intel Core(TM) i7-1355U)\n",
      "YOLO11n summary (fused): 238 layers, 2,582,347 parameters, 0 gradients, 6.3 GFLOPs\n"
     ]
    },
    {
     "name": "stderr",
     "output_type": "stream",
     "text": [
      "                 Class     Images  Instances      Box(P          R      mAP50  mAP50-95): 100%|██████████| 11/11 [00:36<00:00,  3.29s/it]\n"
     ]
    },
    {
     "name": "stdout",
     "output_type": "stream",
     "text": [
      "                   all        329        129      0.335      0.593      0.259      0.112\n",
      "Speed: 0.8ms preprocess, 58.7ms inference, 0.0ms loss, 0.6ms postprocess per image\n",
      "Results saved to \u001b[1mruns\\detect\\yolov8_cellphone2\u001b[0m\n"
     ]
    }
   ],
   "source": [
    "from ultralytics import YOLO\n",
    "\n",
    "# Load a pretrained YOLO model\n",
    "model = YOLO(\"yolo11n.pt\")\n",
    "\n",
    "# Train the model\n",
    "results = model.train(\n",
    "    data=\"cellphone_dataset.yaml\",  # Path to the dataset configuration file\n",
    "    epochs=50,                      # Number of training epochs\n",
    "    #imgsz=640,                      # Image size\n",
    "    batch=16,                       # Batch size\n",
    "    name=\"yolov8_cellphone\"         # Name of the training run\n",
    ")"
   ]
  },
  {
   "cell_type": "code",
   "execution_count": 12,
   "metadata": {},
   "outputs": [
    {
     "name": "stdout",
     "output_type": "stream",
     "text": [
      "Ultralytics 8.3.70  Python-3.10.4 torch-2.6.0+cpu CPU (13th Gen Intel Core(TM) i7-1355U)\n",
      "YOLO11n summary (fused): 238 layers, 2,582,347 parameters, 0 gradients, 6.3 GFLOPs\n"
     ]
    },
    {
     "name": "stderr",
     "output_type": "stream",
     "text": [
      "\u001b[34m\u001b[1mval: \u001b[0mScanning D:\\repos\\Phone detection\\dataset\\val\\labels.cache... 178 images, 221 backgrounds, 0 corrupt: 100%|██████████| 329/329 [00:00<?, ?it/s]\n",
      "                 Class     Images  Instances      Box(P          R      mAP50  mAP50-95): 100%|██████████| 21/21 [00:39<00:00,  1.87s/it]\n"
     ]
    },
    {
     "name": "stdout",
     "output_type": "stream",
     "text": [
      "                   all        329        129      0.337      0.574       0.26      0.112\n",
      "Speed: 0.8ms preprocess, 53.6ms inference, 0.0ms loss, 0.6ms postprocess per image\n",
      "Results saved to \u001b[1mruns\\detect\\yolov8_cellphone22\u001b[0m\n",
      "ultralytics.utils.metrics.DetMetrics object with attributes:\n",
      "\n",
      "ap_class_index: array([0])\n",
      "box: ultralytics.utils.metrics.Metric object\n",
      "confusion_matrix: <ultralytics.utils.metrics.ConfusionMatrix object at 0x000002055873AE30>\n",
      "curves: ['Precision-Recall(B)', 'F1-Confidence(B)', 'Precision-Confidence(B)', 'Recall-Confidence(B)']\n",
      "curves_results: [[array([          0,    0.001001,    0.002002,    0.003003,    0.004004,    0.005005,    0.006006,    0.007007,    0.008008,    0.009009,     0.01001,    0.011011,    0.012012,    0.013013,    0.014014,    0.015015,    0.016016,    0.017017,    0.018018,    0.019019,     0.02002,    0.021021,    0.022022,    0.023023,\n",
      "          0.024024,    0.025025,    0.026026,    0.027027,    0.028028,    0.029029,     0.03003,    0.031031,    0.032032,    0.033033,    0.034034,    0.035035,    0.036036,    0.037037,    0.038038,    0.039039,     0.04004,    0.041041,    0.042042,    0.043043,    0.044044,    0.045045,    0.046046,    0.047047,\n",
      "          0.048048,    0.049049,     0.05005,    0.051051,    0.052052,    0.053053,    0.054054,    0.055055,    0.056056,    0.057057,    0.058058,    0.059059,     0.06006,    0.061061,    0.062062,    0.063063,    0.064064,    0.065065,    0.066066,    0.067067,    0.068068,    0.069069,     0.07007,    0.071071,\n",
      "          0.072072,    0.073073,    0.074074,    0.075075,    0.076076,    0.077077,    0.078078,    0.079079,     0.08008,    0.081081,    0.082082,    0.083083,    0.084084,    0.085085,    0.086086,    0.087087,    0.088088,    0.089089,     0.09009,    0.091091,    0.092092,    0.093093,    0.094094,    0.095095,\n",
      "          0.096096,    0.097097,    0.098098,    0.099099,      0.1001,      0.1011,      0.1021,      0.1031,      0.1041,     0.10511,     0.10611,     0.10711,     0.10811,     0.10911,     0.11011,     0.11111,     0.11211,     0.11311,     0.11411,     0.11512,     0.11612,     0.11712,     0.11812,     0.11912,\n",
      "           0.12012,     0.12112,     0.12212,     0.12312,     0.12412,     0.12513,     0.12613,     0.12713,     0.12813,     0.12913,     0.13013,     0.13113,     0.13213,     0.13313,     0.13413,     0.13514,     0.13614,     0.13714,     0.13814,     0.13914,     0.14014,     0.14114,     0.14214,     0.14314,\n",
      "           0.14414,     0.14515,     0.14615,     0.14715,     0.14815,     0.14915,     0.15015,     0.15115,     0.15215,     0.15315,     0.15415,     0.15516,     0.15616,     0.15716,     0.15816,     0.15916,     0.16016,     0.16116,     0.16216,     0.16316,     0.16416,     0.16517,     0.16617,     0.16717,\n",
      "           0.16817,     0.16917,     0.17017,     0.17117,     0.17217,     0.17317,     0.17417,     0.17518,     0.17618,     0.17718,     0.17818,     0.17918,     0.18018,     0.18118,     0.18218,     0.18318,     0.18418,     0.18519,     0.18619,     0.18719,     0.18819,     0.18919,     0.19019,     0.19119,\n",
      "           0.19219,     0.19319,     0.19419,      0.1952,      0.1962,      0.1972,      0.1982,      0.1992,      0.2002,      0.2012,      0.2022,      0.2032,      0.2042,     0.20521,     0.20621,     0.20721,     0.20821,     0.20921,     0.21021,     0.21121,     0.21221,     0.21321,     0.21421,     0.21522,\n",
      "           0.21622,     0.21722,     0.21822,     0.21922,     0.22022,     0.22122,     0.22222,     0.22322,     0.22422,     0.22523,     0.22623,     0.22723,     0.22823,     0.22923,     0.23023,     0.23123,     0.23223,     0.23323,     0.23423,     0.23524,     0.23624,     0.23724,     0.23824,     0.23924,\n",
      "           0.24024,     0.24124,     0.24224,     0.24324,     0.24424,     0.24525,     0.24625,     0.24725,     0.24825,     0.24925,     0.25025,     0.25125,     0.25225,     0.25325,     0.25425,     0.25526,     0.25626,     0.25726,     0.25826,     0.25926,     0.26026,     0.26126,     0.26226,     0.26326,\n",
      "           0.26426,     0.26527,     0.26627,     0.26727,     0.26827,     0.26927,     0.27027,     0.27127,     0.27227,     0.27327,     0.27427,     0.27528,     0.27628,     0.27728,     0.27828,     0.27928,     0.28028,     0.28128,     0.28228,     0.28328,     0.28428,     0.28529,     0.28629,     0.28729,\n",
      "           0.28829,     0.28929,     0.29029,     0.29129,     0.29229,     0.29329,     0.29429,      0.2953,      0.2963,      0.2973,      0.2983,      0.2993,      0.3003,      0.3013,      0.3023,      0.3033,      0.3043,     0.30531,     0.30631,     0.30731,     0.30831,     0.30931,     0.31031,     0.31131,\n",
      "           0.31231,     0.31331,     0.31431,     0.31532,     0.31632,     0.31732,     0.31832,     0.31932,     0.32032,     0.32132,     0.32232,     0.32332,     0.32432,     0.32533,     0.32633,     0.32733,     0.32833,     0.32933,     0.33033,     0.33133,     0.33233,     0.33333,     0.33433,     0.33534,\n",
      "           0.33634,     0.33734,     0.33834,     0.33934,     0.34034,     0.34134,     0.34234,     0.34334,     0.34434,     0.34535,     0.34635,     0.34735,     0.34835,     0.34935,     0.35035,     0.35135,     0.35235,     0.35335,     0.35435,     0.35536,     0.35636,     0.35736,     0.35836,     0.35936,\n",
      "           0.36036,     0.36136,     0.36236,     0.36336,     0.36436,     0.36537,     0.36637,     0.36737,     0.36837,     0.36937,     0.37037,     0.37137,     0.37237,     0.37337,     0.37437,     0.37538,     0.37638,     0.37738,     0.37838,     0.37938,     0.38038,     0.38138,     0.38238,     0.38338,\n",
      "           0.38438,     0.38539,     0.38639,     0.38739,     0.38839,     0.38939,     0.39039,     0.39139,     0.39239,     0.39339,     0.39439,      0.3954,      0.3964,      0.3974,      0.3984,      0.3994,      0.4004,      0.4014,      0.4024,      0.4034,      0.4044,     0.40541,     0.40641,     0.40741,\n",
      "           0.40841,     0.40941,     0.41041,     0.41141,     0.41241,     0.41341,     0.41441,     0.41542,     0.41642,     0.41742,     0.41842,     0.41942,     0.42042,     0.42142,     0.42242,     0.42342,     0.42442,     0.42543,     0.42643,     0.42743,     0.42843,     0.42943,     0.43043,     0.43143,\n",
      "           0.43243,     0.43343,     0.43443,     0.43544,     0.43644,     0.43744,     0.43844,     0.43944,     0.44044,     0.44144,     0.44244,     0.44344,     0.44444,     0.44545,     0.44645,     0.44745,     0.44845,     0.44945,     0.45045,     0.45145,     0.45245,     0.45345,     0.45445,     0.45546,\n",
      "           0.45646,     0.45746,     0.45846,     0.45946,     0.46046,     0.46146,     0.46246,     0.46346,     0.46446,     0.46547,     0.46647,     0.46747,     0.46847,     0.46947,     0.47047,     0.47147,     0.47247,     0.47347,     0.47447,     0.47548,     0.47648,     0.47748,     0.47848,     0.47948,\n",
      "           0.48048,     0.48148,     0.48248,     0.48348,     0.48448,     0.48549,     0.48649,     0.48749,     0.48849,     0.48949,     0.49049,     0.49149,     0.49249,     0.49349,     0.49449,      0.4955,      0.4965,      0.4975,      0.4985,      0.4995,      0.5005,      0.5015,      0.5025,      0.5035,\n",
      "            0.5045,     0.50551,     0.50651,     0.50751,     0.50851,     0.50951,     0.51051,     0.51151,     0.51251,     0.51351,     0.51451,     0.51552,     0.51652,     0.51752,     0.51852,     0.51952,     0.52052,     0.52152,     0.52252,     0.52352,     0.52452,     0.52553,     0.52653,     0.52753,\n",
      "           0.52853,     0.52953,     0.53053,     0.53153,     0.53253,     0.53353,     0.53453,     0.53554,     0.53654,     0.53754,     0.53854,     0.53954,     0.54054,     0.54154,     0.54254,     0.54354,     0.54454,     0.54555,     0.54655,     0.54755,     0.54855,     0.54955,     0.55055,     0.55155,\n",
      "           0.55255,     0.55355,     0.55455,     0.55556,     0.55656,     0.55756,     0.55856,     0.55956,     0.56056,     0.56156,     0.56256,     0.56356,     0.56456,     0.56557,     0.56657,     0.56757,     0.56857,     0.56957,     0.57057,     0.57157,     0.57257,     0.57357,     0.57457,     0.57558,\n",
      "           0.57658,     0.57758,     0.57858,     0.57958,     0.58058,     0.58158,     0.58258,     0.58358,     0.58458,     0.58559,     0.58659,     0.58759,     0.58859,     0.58959,     0.59059,     0.59159,     0.59259,     0.59359,     0.59459,      0.5956,      0.5966,      0.5976,      0.5986,      0.5996,\n",
      "            0.6006,      0.6016,      0.6026,      0.6036,      0.6046,     0.60561,     0.60661,     0.60761,     0.60861,     0.60961,     0.61061,     0.61161,     0.61261,     0.61361,     0.61461,     0.61562,     0.61662,     0.61762,     0.61862,     0.61962,     0.62062,     0.62162,     0.62262,     0.62362,\n",
      "           0.62462,     0.62563,     0.62663,     0.62763,     0.62863,     0.62963,     0.63063,     0.63163,     0.63263,     0.63363,     0.63463,     0.63564,     0.63664,     0.63764,     0.63864,     0.63964,     0.64064,     0.64164,     0.64264,     0.64364,     0.64464,     0.64565,     0.64665,     0.64765,\n",
      "           0.64865,     0.64965,     0.65065,     0.65165,     0.65265,     0.65365,     0.65465,     0.65566,     0.65666,     0.65766,     0.65866,     0.65966,     0.66066,     0.66166,     0.66266,     0.66366,     0.66466,     0.66567,     0.66667,     0.66767,     0.66867,     0.66967,     0.67067,     0.67167,\n",
      "           0.67267,     0.67367,     0.67467,     0.67568,     0.67668,     0.67768,     0.67868,     0.67968,     0.68068,     0.68168,     0.68268,     0.68368,     0.68468,     0.68569,     0.68669,     0.68769,     0.68869,     0.68969,     0.69069,     0.69169,     0.69269,     0.69369,     0.69469,      0.6957,\n",
      "            0.6967,      0.6977,      0.6987,      0.6997,      0.7007,      0.7017,      0.7027,      0.7037,      0.7047,     0.70571,     0.70671,     0.70771,     0.70871,     0.70971,     0.71071,     0.71171,     0.71271,     0.71371,     0.71471,     0.71572,     0.71672,     0.71772,     0.71872,     0.71972,\n",
      "           0.72072,     0.72172,     0.72272,     0.72372,     0.72472,     0.72573,     0.72673,     0.72773,     0.72873,     0.72973,     0.73073,     0.73173,     0.73273,     0.73373,     0.73473,     0.73574,     0.73674,     0.73774,     0.73874,     0.73974,     0.74074,     0.74174,     0.74274,     0.74374,\n",
      "           0.74474,     0.74575,     0.74675,     0.74775,     0.74875,     0.74975,     0.75075,     0.75175,     0.75275,     0.75375,     0.75475,     0.75576,     0.75676,     0.75776,     0.75876,     0.75976,     0.76076,     0.76176,     0.76276,     0.76376,     0.76476,     0.76577,     0.76677,     0.76777,\n",
      "           0.76877,     0.76977,     0.77077,     0.77177,     0.77277,     0.77377,     0.77477,     0.77578,     0.77678,     0.77778,     0.77878,     0.77978,     0.78078,     0.78178,     0.78278,     0.78378,     0.78478,     0.78579,     0.78679,     0.78779,     0.78879,     0.78979,     0.79079,     0.79179,\n",
      "           0.79279,     0.79379,     0.79479,      0.7958,      0.7968,      0.7978,      0.7988,      0.7998,      0.8008,      0.8018,      0.8028,      0.8038,      0.8048,     0.80581,     0.80681,     0.80781,     0.80881,     0.80981,     0.81081,     0.81181,     0.81281,     0.81381,     0.81481,     0.81582,\n",
      "           0.81682,     0.81782,     0.81882,     0.81982,     0.82082,     0.82182,     0.82282,     0.82382,     0.82482,     0.82583,     0.82683,     0.82783,     0.82883,     0.82983,     0.83083,     0.83183,     0.83283,     0.83383,     0.83483,     0.83584,     0.83684,     0.83784,     0.83884,     0.83984,\n",
      "           0.84084,     0.84184,     0.84284,     0.84384,     0.84484,     0.84585,     0.84685,     0.84785,     0.84885,     0.84985,     0.85085,     0.85185,     0.85285,     0.85385,     0.85485,     0.85586,     0.85686,     0.85786,     0.85886,     0.85986,     0.86086,     0.86186,     0.86286,     0.86386,\n",
      "           0.86486,     0.86587,     0.86687,     0.86787,     0.86887,     0.86987,     0.87087,     0.87187,     0.87287,     0.87387,     0.87487,     0.87588,     0.87688,     0.87788,     0.87888,     0.87988,     0.88088,     0.88188,     0.88288,     0.88388,     0.88488,     0.88589,     0.88689,     0.88789,\n",
      "           0.88889,     0.88989,     0.89089,     0.89189,     0.89289,     0.89389,     0.89489,      0.8959,      0.8969,      0.8979,      0.8989,      0.8999,      0.9009,      0.9019,      0.9029,      0.9039,      0.9049,     0.90591,     0.90691,     0.90791,     0.90891,     0.90991,     0.91091,     0.91191,\n",
      "           0.91291,     0.91391,     0.91491,     0.91592,     0.91692,     0.91792,     0.91892,     0.91992,     0.92092,     0.92192,     0.92292,     0.92392,     0.92492,     0.92593,     0.92693,     0.92793,     0.92893,     0.92993,     0.93093,     0.93193,     0.93293,     0.93393,     0.93493,     0.93594,\n",
      "           0.93694,     0.93794,     0.93894,     0.93994,     0.94094,     0.94194,     0.94294,     0.94394,     0.94494,     0.94595,     0.94695,     0.94795,     0.94895,     0.94995,     0.95095,     0.95195,     0.95295,     0.95395,     0.95495,     0.95596,     0.95696,     0.95796,     0.95896,     0.95996,\n",
      "           0.96096,     0.96196,     0.96296,     0.96396,     0.96496,     0.96597,     0.96697,     0.96797,     0.96897,     0.96997,     0.97097,     0.97197,     0.97297,     0.97397,     0.97497,     0.97598,     0.97698,     0.97798,     0.97898,     0.97998,     0.98098,     0.98198,     0.98298,     0.98398,\n",
      "           0.98498,     0.98599,     0.98699,     0.98799,     0.98899,     0.98999,     0.99099,     0.99199,     0.99299,     0.99399,     0.99499,       0.996,       0.997,       0.998,       0.999,           1]), array([[    0.35071,     0.35071,     0.35071,     0.35071,     0.35071,     0.35071,     0.35071,     0.35071,     0.35071,     0.35071,     0.35071,     0.35071,     0.35071,     0.35071,     0.35071,     0.35071,     0.35071,     0.35071,     0.35071,     0.35071,     0.35071,     0.35071,     0.35071,\n",
      "            0.35071,     0.35071,     0.35071,     0.35071,     0.35071,     0.35071,     0.35071,     0.35071,     0.35071,     0.35071,     0.35071,     0.35071,     0.35071,     0.35071,     0.35071,     0.35071,     0.35071,     0.35071,     0.35071,     0.35071,     0.35071,     0.35071,     0.35071,\n",
      "            0.35071,     0.35071,     0.35071,     0.35071,     0.35071,     0.35071,     0.35071,     0.35071,     0.35071,     0.35071,     0.35071,     0.35071,     0.35071,     0.35071,     0.35071,     0.35071,     0.35071,     0.35071,     0.35071,     0.35071,     0.35071,     0.35071,     0.35071,\n",
      "            0.35071,     0.35071,     0.35071,     0.35071,     0.35071,     0.35071,     0.35071,     0.35071,     0.35071,     0.35071,     0.35071,     0.35071,     0.35071,     0.35071,     0.35071,     0.35071,     0.35071,     0.35071,     0.35071,     0.35071,     0.35071,     0.35071,     0.35071,\n",
      "            0.35071,     0.35071,     0.35071,     0.35071,     0.35071,     0.35071,     0.35071,     0.35071,     0.35071,     0.35071,     0.35071,     0.35071,     0.35071,     0.35071,     0.35071,     0.35071,     0.35071,     0.35071,     0.35071,     0.35071,     0.35071,     0.35071,     0.35071,\n",
      "            0.35071,     0.35071,     0.35071,     0.35071,     0.35071,     0.35071,     0.35071,     0.35071,     0.35071,     0.35071,     0.35071,     0.35071,     0.35071,     0.35071,     0.35071,     0.35071,     0.35071,     0.35071,     0.35071,     0.35071,     0.35071,     0.35071,     0.35071,\n",
      "            0.35071,     0.35071,     0.35071,     0.35071,     0.35071,     0.35071,     0.35071,     0.35071,     0.35071,     0.35071,     0.35071,     0.35071,     0.35071,     0.35071,     0.35071,     0.35071,     0.35071,     0.35071,     0.35071,     0.35071,     0.35071,     0.35071,     0.35071,\n",
      "            0.35071,     0.35071,     0.35071,     0.35071,     0.35071,     0.35071,     0.35071,     0.35071,     0.35071,     0.35071,     0.35071,     0.35071,     0.35071,     0.35071,     0.35071,     0.35071,     0.35071,     0.35071,     0.35071,     0.35071,     0.35071,     0.35071,     0.35071,\n",
      "            0.35071,     0.35071,     0.35071,     0.35071,     0.35071,     0.35071,     0.35071,     0.35071,     0.35071,     0.35071,     0.35071,     0.35071,     0.35071,     0.35071,     0.35071,     0.35071,     0.35071,     0.35071,     0.35071,     0.35071,     0.35071,     0.35071,     0.35071,\n",
      "            0.35071,     0.35071,     0.35071,     0.35071,     0.35071,     0.35071,     0.35071,     0.35071,     0.35071,     0.35071,     0.35071,     0.35071,     0.35071,     0.35071,     0.35071,     0.35071,     0.35071,     0.35071,     0.35071,     0.35071,     0.35071,     0.35071,     0.35071,\n",
      "            0.35071,     0.35071,     0.35071,     0.35071,     0.35071,     0.35071,     0.35071,     0.35071,     0.35071,     0.35071,     0.35071,     0.35071,     0.35071,     0.35071,     0.35071,     0.35071,     0.35071,     0.35071,     0.35071,     0.35071,     0.35071,     0.35071,     0.35071,\n",
      "            0.35071,     0.35071,     0.35071,     0.35071,     0.35071,     0.35071,     0.35071,     0.35071,     0.35071,     0.35071,     0.35071,     0.35071,     0.35071,     0.35071,     0.35071,     0.35071,     0.35071,     0.35071,     0.35071,     0.35071,     0.35071,     0.35071,     0.35071,\n",
      "            0.35071,     0.35071,     0.35071,     0.35071,     0.35071,     0.35071,     0.35071,     0.35071,     0.35071,     0.35071,     0.35071,     0.35071,     0.35071,     0.35071,     0.35071,     0.35071,     0.35071,     0.35071,     0.35071,     0.35071,     0.35071,     0.35071,     0.35071,\n",
      "            0.35071,     0.35071,     0.35071,     0.35071,     0.35071,     0.35071,     0.35071,     0.35071,     0.35071,     0.35071,     0.35071,     0.35071,     0.35071,     0.35071,     0.35071,     0.35071,     0.35071,     0.35071,     0.35071,     0.35071,     0.35071,     0.35071,     0.35071,\n",
      "            0.35071,     0.35071,     0.35071,     0.35071,     0.35071,     0.35071,     0.35071,     0.35071,     0.35071,     0.35071,     0.35071,     0.35071,     0.35071,     0.35071,     0.35071,     0.35071,     0.35071,     0.35071,     0.35071,     0.35071,     0.35071,     0.35071,     0.35071,\n",
      "            0.35071,     0.35071,     0.35071,     0.35071,     0.35071,     0.35071,     0.35071,     0.35071,     0.35071,     0.35071,     0.35071,     0.35071,     0.35071,     0.35071,     0.35071,     0.35071,     0.35071,     0.35071,     0.35071,     0.35071,     0.35071,     0.35071,     0.35071,\n",
      "            0.35071,     0.35071,     0.35071,     0.35071,     0.35071,     0.35071,     0.35071,     0.35071,     0.35071,     0.35071,     0.35071,     0.35071,     0.35071,     0.35071,     0.35071,     0.35071,     0.35071,     0.35071,     0.35071,     0.35071,     0.35071,     0.35071,     0.35071,\n",
      "            0.35071,     0.35071,     0.35071,     0.35071,     0.35071,     0.35071,     0.35071,     0.35071,     0.35071,     0.35071,     0.35071,     0.35071,     0.35071,     0.35071,     0.35071,     0.35071,     0.35071,     0.35071,     0.35071,     0.35071,     0.35071,     0.35071,     0.35071,\n",
      "            0.35071,     0.35071,     0.35071,     0.35071,     0.35071,     0.35071,     0.35071,     0.35071,     0.35071,     0.35071,     0.35071,     0.35071,     0.35071,     0.35071,     0.35071,     0.35071,     0.35071,     0.35071,     0.35071,     0.35071,     0.35071,     0.35071,     0.35071,\n",
      "            0.35071,     0.35071,     0.35071,     0.35071,     0.35071,     0.35071,     0.35071,     0.35071,     0.35071,     0.35071,     0.35071,     0.35071,     0.35071,     0.35071,     0.35071,     0.35071,     0.35071,     0.35071,     0.35071,     0.35071,     0.35071,     0.35071,     0.35071,\n",
      "            0.35071,     0.35071,     0.35071,     0.35071,     0.35071,     0.35071,     0.35071,     0.35071,     0.35071,     0.35071,     0.35071,     0.35071,     0.35071,     0.35071,     0.35071,     0.35071,     0.35071,     0.35071,     0.35071,     0.35071,     0.35071,     0.35071,     0.35071,\n",
      "            0.35071,     0.35071,     0.35071,     0.35071,     0.35071,     0.35071,     0.35071,     0.35071,     0.35071,     0.35071,     0.35071,     0.35071,     0.35071,     0.35071,     0.35071,     0.35071,     0.35071,     0.35071,     0.35071,     0.35071,     0.35071,     0.35071,     0.35071,\n",
      "            0.35071,     0.35071,     0.35071,     0.35071,     0.35071,     0.35071,     0.35071,     0.35071,     0.35071,     0.35071,     0.35071,     0.35071,     0.35071,     0.35071,     0.35071,     0.35071,     0.35071,     0.35071,     0.35071,     0.35071,     0.35071,     0.35071,     0.35071,\n",
      "            0.35071,     0.35071,     0.35071,     0.35071,     0.35071,     0.35071,     0.35071,     0.35071,     0.35071,     0.35071,     0.35071,     0.35071,     0.35071,     0.35071,     0.35071,     0.35071,     0.35071,     0.35071,     0.35071,     0.35071,     0.35071,     0.35071,     0.35071,\n",
      "            0.35071,     0.35071,     0.35071,     0.35071,     0.35071,     0.35071,     0.35071,     0.35071,     0.35071,     0.35071,     0.35071,     0.35071,     0.35071,     0.35071,     0.35071,     0.35071,     0.35071,     0.35071,     0.35071,     0.35071,     0.35071,     0.35071,     0.33784,\n",
      "            0.33784,     0.33784,     0.33784,     0.33784,     0.33784,     0.33784,     0.33766,     0.33766,     0.33766,     0.33766,     0.33766,     0.33766,     0.33766,     0.33766,     0.33766,     0.33766,     0.33766,     0.33766,     0.33766,     0.33766,     0.33766,     0.33766,     0.33766,\n",
      "            0.33766,     0.33766,     0.33766,     0.33766,     0.33766,     0.33766,     0.33766,     0.33761,     0.33761,     0.33761,     0.33761,     0.33761,     0.33761,     0.33761,     0.33058,     0.33058,     0.33058,     0.33058,     0.33058,     0.33058,     0.33058,     0.33058,     0.31538,\n",
      "            0.31538,     0.31538,     0.31538,     0.31538,     0.31538,     0.31538,     0.31538,     0.31538,     0.31538,     0.31538,     0.31538,     0.31538,     0.31538,     0.31538,     0.31538,     0.31439,     0.31439,     0.31439,     0.31439,     0.31439,     0.31439,     0.31439,     0.30108,\n",
      "            0.30108,     0.30108,     0.30108,     0.30108,     0.30108,     0.30108,     0.30108,      0.2911,      0.2911,      0.2911,      0.2911,      0.2911,      0.2911,      0.2911,      0.2911,     0.28667,     0.28667,     0.28667,     0.28667,     0.28667,     0.28667,     0.28667,     0.27619,\n",
      "            0.27619,     0.27619,     0.27619,     0.27619,     0.27619,     0.27619,     0.27619,     0.24513,     0.24513,     0.24513,     0.24513,     0.24513,     0.24513,     0.24513,     0.24513,     0.24317,     0.24317,     0.24317,     0.24317,     0.24317,     0.24317,     0.24317,     0.24317,\n",
      "            0.24129,     0.24129,     0.24129,     0.24129,     0.24129,     0.24129,     0.24129,     0.23096,     0.23096,     0.23096,     0.23096,     0.23096,     0.23096,     0.23096,     0.23096,     0.21247,     0.21247,     0.21247,     0.21247,     0.21247,     0.21247,     0.21247,     0.21247,\n",
      "            0.20759,     0.20759,     0.20759,     0.20759,     0.20759,     0.20759,     0.20759,     0.20759,     0.18913,     0.18913,     0.18913,     0.18913,     0.18913,     0.18913,     0.18913,     0.18095,     0.18095,     0.18095,     0.18095,     0.18095,     0.18095,     0.18095,     0.18095,\n",
      "            0.17266,     0.17266,     0.17266,     0.17266,     0.17266,     0.17266,     0.17266,     0.17266,      0.1684,      0.1684,      0.1684,      0.1684,      0.1684,      0.1684,      0.1684,      0.1684,     0.14985,     0.14985,     0.14985,     0.14985,     0.14985,     0.14985,     0.14985,\n",
      "            0.13562,     0.13562,     0.13562,     0.13562,     0.13562,     0.13562,     0.13562,     0.13562,     0.13055,     0.13055,     0.13055,     0.13055,     0.13055,     0.13055,     0.13055,     0.13055,     0.11981,     0.11981,     0.11981,     0.11981,     0.11981,     0.11981,     0.11981,\n",
      "            0.11981,    0.081146,    0.081146,    0.081146,    0.081146,    0.081146,    0.081146,    0.081146,    0.064335,    0.064335,    0.064335,    0.064335,    0.064335,    0.064335,    0.064335,    0.064335,    0.060465,    0.060465,    0.060465,    0.060465,    0.060465,    0.060465,    0.060465,\n",
      "           0.060465,    0.046276,    0.046276,    0.046276,    0.046276,    0.046276,    0.046276,    0.046276,    0.046276,    0.042502,    0.042502,    0.042502,    0.042502,    0.042502,    0.042502,    0.042502,    0.040731,    0.040731,    0.040731,    0.040731,    0.040731,    0.040731,    0.040731,\n",
      "           0.040731,    0.038891,    0.038891,    0.038891,    0.038891,    0.038891,    0.038891,    0.038891,    0.038891,    0.037187,    0.036958,    0.036728,    0.036499,    0.036269,     0.03604,     0.03581,     0.03558,    0.035351,    0.035121,    0.034892,    0.034662,    0.034433,    0.034203,\n",
      "           0.033974,    0.033744,    0.033515,    0.033285,    0.033055,    0.032826,    0.032596,    0.032367,    0.032137,    0.031908,    0.031678,    0.031449,    0.031219,    0.030989,     0.03076,     0.03053,    0.030301,    0.030071,    0.029842,    0.029612,    0.029383,    0.029153,    0.028923,\n",
      "           0.028694,    0.028464,    0.028235,    0.028005,    0.027776,    0.027546,    0.027317,    0.027087,    0.026858,    0.026628,    0.026398,    0.026169,    0.025939,     0.02571,     0.02548,    0.025251,    0.025021,    0.024792,    0.024562,    0.024332,    0.024103,    0.023873,    0.023644,\n",
      "           0.023414,    0.023185,    0.022955,    0.022726,    0.022496,    0.022267,    0.022037,    0.021807,    0.021578,    0.021348,    0.021119,    0.020889,     0.02066,     0.02043,    0.020201,    0.019971,    0.019741,    0.019512,    0.019282,    0.019053,    0.018823,    0.018594,    0.018364,\n",
      "           0.018135,    0.017905,    0.017675,    0.017446,    0.017216,    0.016987,    0.016757,    0.016528,    0.016298,    0.016069,    0.015839,     0.01561,     0.01538,     0.01515,    0.014921,    0.014691,    0.014462,    0.014232,    0.014003,    0.013773,    0.013544,    0.013314,    0.013084,\n",
      "           0.012855,    0.012625,    0.012396,    0.012166,    0.011937,    0.011707,    0.011478,    0.011248,    0.011018,    0.010789,    0.010559,     0.01033,      0.0101,   0.0098707,   0.0096412,   0.0094116,   0.0091821,   0.0089525,    0.008723,   0.0084934,   0.0082639,   0.0080343,   0.0078048,\n",
      "          0.0075752,   0.0073456,   0.0071161,   0.0068865,    0.006657,   0.0064274,   0.0061979,   0.0059683,   0.0057388,   0.0055092,   0.0052797,   0.0050501,   0.0048206,    0.004591,   0.0043615,   0.0041319,   0.0039024,   0.0036728,   0.0034433,   0.0032137,   0.0029842,   0.0027546,   0.0025251,\n",
      "          0.0022955,    0.002066,   0.0018364,   0.0016069,   0.0013773,   0.0011478,  0.00091821,  0.00068865,   0.0004591,  0.00022955,           0]]), 'Recall', 'Precision'], [array([          0,    0.001001,    0.002002,    0.003003,    0.004004,    0.005005,    0.006006,    0.007007,    0.008008,    0.009009,     0.01001,    0.011011,    0.012012,    0.013013,    0.014014,    0.015015,    0.016016,    0.017017,    0.018018,    0.019019,     0.02002,    0.021021,    0.022022,    0.023023,\n",
      "          0.024024,    0.025025,    0.026026,    0.027027,    0.028028,    0.029029,     0.03003,    0.031031,    0.032032,    0.033033,    0.034034,    0.035035,    0.036036,    0.037037,    0.038038,    0.039039,     0.04004,    0.041041,    0.042042,    0.043043,    0.044044,    0.045045,    0.046046,    0.047047,\n",
      "          0.048048,    0.049049,     0.05005,    0.051051,    0.052052,    0.053053,    0.054054,    0.055055,    0.056056,    0.057057,    0.058058,    0.059059,     0.06006,    0.061061,    0.062062,    0.063063,    0.064064,    0.065065,    0.066066,    0.067067,    0.068068,    0.069069,     0.07007,    0.071071,\n",
      "          0.072072,    0.073073,    0.074074,    0.075075,    0.076076,    0.077077,    0.078078,    0.079079,     0.08008,    0.081081,    0.082082,    0.083083,    0.084084,    0.085085,    0.086086,    0.087087,    0.088088,    0.089089,     0.09009,    0.091091,    0.092092,    0.093093,    0.094094,    0.095095,\n",
      "          0.096096,    0.097097,    0.098098,    0.099099,      0.1001,      0.1011,      0.1021,      0.1031,      0.1041,     0.10511,     0.10611,     0.10711,     0.10811,     0.10911,     0.11011,     0.11111,     0.11211,     0.11311,     0.11411,     0.11512,     0.11612,     0.11712,     0.11812,     0.11912,\n",
      "           0.12012,     0.12112,     0.12212,     0.12312,     0.12412,     0.12513,     0.12613,     0.12713,     0.12813,     0.12913,     0.13013,     0.13113,     0.13213,     0.13313,     0.13413,     0.13514,     0.13614,     0.13714,     0.13814,     0.13914,     0.14014,     0.14114,     0.14214,     0.14314,\n",
      "           0.14414,     0.14515,     0.14615,     0.14715,     0.14815,     0.14915,     0.15015,     0.15115,     0.15215,     0.15315,     0.15415,     0.15516,     0.15616,     0.15716,     0.15816,     0.15916,     0.16016,     0.16116,     0.16216,     0.16316,     0.16416,     0.16517,     0.16617,     0.16717,\n",
      "           0.16817,     0.16917,     0.17017,     0.17117,     0.17217,     0.17317,     0.17417,     0.17518,     0.17618,     0.17718,     0.17818,     0.17918,     0.18018,     0.18118,     0.18218,     0.18318,     0.18418,     0.18519,     0.18619,     0.18719,     0.18819,     0.18919,     0.19019,     0.19119,\n",
      "           0.19219,     0.19319,     0.19419,      0.1952,      0.1962,      0.1972,      0.1982,      0.1992,      0.2002,      0.2012,      0.2022,      0.2032,      0.2042,     0.20521,     0.20621,     0.20721,     0.20821,     0.20921,     0.21021,     0.21121,     0.21221,     0.21321,     0.21421,     0.21522,\n",
      "           0.21622,     0.21722,     0.21822,     0.21922,     0.22022,     0.22122,     0.22222,     0.22322,     0.22422,     0.22523,     0.22623,     0.22723,     0.22823,     0.22923,     0.23023,     0.23123,     0.23223,     0.23323,     0.23423,     0.23524,     0.23624,     0.23724,     0.23824,     0.23924,\n",
      "           0.24024,     0.24124,     0.24224,     0.24324,     0.24424,     0.24525,     0.24625,     0.24725,     0.24825,     0.24925,     0.25025,     0.25125,     0.25225,     0.25325,     0.25425,     0.25526,     0.25626,     0.25726,     0.25826,     0.25926,     0.26026,     0.26126,     0.26226,     0.26326,\n",
      "           0.26426,     0.26527,     0.26627,     0.26727,     0.26827,     0.26927,     0.27027,     0.27127,     0.27227,     0.27327,     0.27427,     0.27528,     0.27628,     0.27728,     0.27828,     0.27928,     0.28028,     0.28128,     0.28228,     0.28328,     0.28428,     0.28529,     0.28629,     0.28729,\n",
      "           0.28829,     0.28929,     0.29029,     0.29129,     0.29229,     0.29329,     0.29429,      0.2953,      0.2963,      0.2973,      0.2983,      0.2993,      0.3003,      0.3013,      0.3023,      0.3033,      0.3043,     0.30531,     0.30631,     0.30731,     0.30831,     0.30931,     0.31031,     0.31131,\n",
      "           0.31231,     0.31331,     0.31431,     0.31532,     0.31632,     0.31732,     0.31832,     0.31932,     0.32032,     0.32132,     0.32232,     0.32332,     0.32432,     0.32533,     0.32633,     0.32733,     0.32833,     0.32933,     0.33033,     0.33133,     0.33233,     0.33333,     0.33433,     0.33534,\n",
      "           0.33634,     0.33734,     0.33834,     0.33934,     0.34034,     0.34134,     0.34234,     0.34334,     0.34434,     0.34535,     0.34635,     0.34735,     0.34835,     0.34935,     0.35035,     0.35135,     0.35235,     0.35335,     0.35435,     0.35536,     0.35636,     0.35736,     0.35836,     0.35936,\n",
      "           0.36036,     0.36136,     0.36236,     0.36336,     0.36436,     0.36537,     0.36637,     0.36737,     0.36837,     0.36937,     0.37037,     0.37137,     0.37237,     0.37337,     0.37437,     0.37538,     0.37638,     0.37738,     0.37838,     0.37938,     0.38038,     0.38138,     0.38238,     0.38338,\n",
      "           0.38438,     0.38539,     0.38639,     0.38739,     0.38839,     0.38939,     0.39039,     0.39139,     0.39239,     0.39339,     0.39439,      0.3954,      0.3964,      0.3974,      0.3984,      0.3994,      0.4004,      0.4014,      0.4024,      0.4034,      0.4044,     0.40541,     0.40641,     0.40741,\n",
      "           0.40841,     0.40941,     0.41041,     0.41141,     0.41241,     0.41341,     0.41441,     0.41542,     0.41642,     0.41742,     0.41842,     0.41942,     0.42042,     0.42142,     0.42242,     0.42342,     0.42442,     0.42543,     0.42643,     0.42743,     0.42843,     0.42943,     0.43043,     0.43143,\n",
      "           0.43243,     0.43343,     0.43443,     0.43544,     0.43644,     0.43744,     0.43844,     0.43944,     0.44044,     0.44144,     0.44244,     0.44344,     0.44444,     0.44545,     0.44645,     0.44745,     0.44845,     0.44945,     0.45045,     0.45145,     0.45245,     0.45345,     0.45445,     0.45546,\n",
      "           0.45646,     0.45746,     0.45846,     0.45946,     0.46046,     0.46146,     0.46246,     0.46346,     0.46446,     0.46547,     0.46647,     0.46747,     0.46847,     0.46947,     0.47047,     0.47147,     0.47247,     0.47347,     0.47447,     0.47548,     0.47648,     0.47748,     0.47848,     0.47948,\n",
      "           0.48048,     0.48148,     0.48248,     0.48348,     0.48448,     0.48549,     0.48649,     0.48749,     0.48849,     0.48949,     0.49049,     0.49149,     0.49249,     0.49349,     0.49449,      0.4955,      0.4965,      0.4975,      0.4985,      0.4995,      0.5005,      0.5015,      0.5025,      0.5035,\n",
      "            0.5045,     0.50551,     0.50651,     0.50751,     0.50851,     0.50951,     0.51051,     0.51151,     0.51251,     0.51351,     0.51451,     0.51552,     0.51652,     0.51752,     0.51852,     0.51952,     0.52052,     0.52152,     0.52252,     0.52352,     0.52452,     0.52553,     0.52653,     0.52753,\n",
      "           0.52853,     0.52953,     0.53053,     0.53153,     0.53253,     0.53353,     0.53453,     0.53554,     0.53654,     0.53754,     0.53854,     0.53954,     0.54054,     0.54154,     0.54254,     0.54354,     0.54454,     0.54555,     0.54655,     0.54755,     0.54855,     0.54955,     0.55055,     0.55155,\n",
      "           0.55255,     0.55355,     0.55455,     0.55556,     0.55656,     0.55756,     0.55856,     0.55956,     0.56056,     0.56156,     0.56256,     0.56356,     0.56456,     0.56557,     0.56657,     0.56757,     0.56857,     0.56957,     0.57057,     0.57157,     0.57257,     0.57357,     0.57457,     0.57558,\n",
      "           0.57658,     0.57758,     0.57858,     0.57958,     0.58058,     0.58158,     0.58258,     0.58358,     0.58458,     0.58559,     0.58659,     0.58759,     0.58859,     0.58959,     0.59059,     0.59159,     0.59259,     0.59359,     0.59459,      0.5956,      0.5966,      0.5976,      0.5986,      0.5996,\n",
      "            0.6006,      0.6016,      0.6026,      0.6036,      0.6046,     0.60561,     0.60661,     0.60761,     0.60861,     0.60961,     0.61061,     0.61161,     0.61261,     0.61361,     0.61461,     0.61562,     0.61662,     0.61762,     0.61862,     0.61962,     0.62062,     0.62162,     0.62262,     0.62362,\n",
      "           0.62462,     0.62563,     0.62663,     0.62763,     0.62863,     0.62963,     0.63063,     0.63163,     0.63263,     0.63363,     0.63463,     0.63564,     0.63664,     0.63764,     0.63864,     0.63964,     0.64064,     0.64164,     0.64264,     0.64364,     0.64464,     0.64565,     0.64665,     0.64765,\n",
      "           0.64865,     0.64965,     0.65065,     0.65165,     0.65265,     0.65365,     0.65465,     0.65566,     0.65666,     0.65766,     0.65866,     0.65966,     0.66066,     0.66166,     0.66266,     0.66366,     0.66466,     0.66567,     0.66667,     0.66767,     0.66867,     0.66967,     0.67067,     0.67167,\n",
      "           0.67267,     0.67367,     0.67467,     0.67568,     0.67668,     0.67768,     0.67868,     0.67968,     0.68068,     0.68168,     0.68268,     0.68368,     0.68468,     0.68569,     0.68669,     0.68769,     0.68869,     0.68969,     0.69069,     0.69169,     0.69269,     0.69369,     0.69469,      0.6957,\n",
      "            0.6967,      0.6977,      0.6987,      0.6997,      0.7007,      0.7017,      0.7027,      0.7037,      0.7047,     0.70571,     0.70671,     0.70771,     0.70871,     0.70971,     0.71071,     0.71171,     0.71271,     0.71371,     0.71471,     0.71572,     0.71672,     0.71772,     0.71872,     0.71972,\n",
      "           0.72072,     0.72172,     0.72272,     0.72372,     0.72472,     0.72573,     0.72673,     0.72773,     0.72873,     0.72973,     0.73073,     0.73173,     0.73273,     0.73373,     0.73473,     0.73574,     0.73674,     0.73774,     0.73874,     0.73974,     0.74074,     0.74174,     0.74274,     0.74374,\n",
      "           0.74474,     0.74575,     0.74675,     0.74775,     0.74875,     0.74975,     0.75075,     0.75175,     0.75275,     0.75375,     0.75475,     0.75576,     0.75676,     0.75776,     0.75876,     0.75976,     0.76076,     0.76176,     0.76276,     0.76376,     0.76476,     0.76577,     0.76677,     0.76777,\n",
      "           0.76877,     0.76977,     0.77077,     0.77177,     0.77277,     0.77377,     0.77477,     0.77578,     0.77678,     0.77778,     0.77878,     0.77978,     0.78078,     0.78178,     0.78278,     0.78378,     0.78478,     0.78579,     0.78679,     0.78779,     0.78879,     0.78979,     0.79079,     0.79179,\n",
      "           0.79279,     0.79379,     0.79479,      0.7958,      0.7968,      0.7978,      0.7988,      0.7998,      0.8008,      0.8018,      0.8028,      0.8038,      0.8048,     0.80581,     0.80681,     0.80781,     0.80881,     0.80981,     0.81081,     0.81181,     0.81281,     0.81381,     0.81481,     0.81582,\n",
      "           0.81682,     0.81782,     0.81882,     0.81982,     0.82082,     0.82182,     0.82282,     0.82382,     0.82482,     0.82583,     0.82683,     0.82783,     0.82883,     0.82983,     0.83083,     0.83183,     0.83283,     0.83383,     0.83483,     0.83584,     0.83684,     0.83784,     0.83884,     0.83984,\n",
      "           0.84084,     0.84184,     0.84284,     0.84384,     0.84484,     0.84585,     0.84685,     0.84785,     0.84885,     0.84985,     0.85085,     0.85185,     0.85285,     0.85385,     0.85485,     0.85586,     0.85686,     0.85786,     0.85886,     0.85986,     0.86086,     0.86186,     0.86286,     0.86386,\n",
      "           0.86486,     0.86587,     0.86687,     0.86787,     0.86887,     0.86987,     0.87087,     0.87187,     0.87287,     0.87387,     0.87487,     0.87588,     0.87688,     0.87788,     0.87888,     0.87988,     0.88088,     0.88188,     0.88288,     0.88388,     0.88488,     0.88589,     0.88689,     0.88789,\n",
      "           0.88889,     0.88989,     0.89089,     0.89189,     0.89289,     0.89389,     0.89489,      0.8959,      0.8969,      0.8979,      0.8989,      0.8999,      0.9009,      0.9019,      0.9029,      0.9039,      0.9049,     0.90591,     0.90691,     0.90791,     0.90891,     0.90991,     0.91091,     0.91191,\n",
      "           0.91291,     0.91391,     0.91491,     0.91592,     0.91692,     0.91792,     0.91892,     0.91992,     0.92092,     0.92192,     0.92292,     0.92392,     0.92492,     0.92593,     0.92693,     0.92793,     0.92893,     0.92993,     0.93093,     0.93193,     0.93293,     0.93393,     0.93493,     0.93594,\n",
      "           0.93694,     0.93794,     0.93894,     0.93994,     0.94094,     0.94194,     0.94294,     0.94394,     0.94494,     0.94595,     0.94695,     0.94795,     0.94895,     0.94995,     0.95095,     0.95195,     0.95295,     0.95395,     0.95495,     0.95596,     0.95696,     0.95796,     0.95896,     0.95996,\n",
      "           0.96096,     0.96196,     0.96296,     0.96396,     0.96496,     0.96597,     0.96697,     0.96797,     0.96897,     0.96997,     0.97097,     0.97197,     0.97297,     0.97397,     0.97497,     0.97598,     0.97698,     0.97798,     0.97898,     0.97998,     0.98098,     0.98198,     0.98298,     0.98398,\n",
      "           0.98498,     0.98599,     0.98699,     0.98799,     0.98899,     0.98999,     0.99099,     0.99199,     0.99299,     0.99399,     0.99499,       0.996,       0.997,       0.998,       0.999,           1]), array([[   0.071476,    0.071487,      0.1106,     0.13765,     0.15905,     0.17584,     0.19042,     0.20403,     0.21336,     0.22403,     0.23021,     0.23805,     0.24924,     0.25319,      0.2597,     0.26813,      0.2728,     0.27809,     0.28037,     0.28595,     0.28882,     0.29036,     0.28859,\n",
      "            0.29374,     0.29994,     0.29887,       0.302,     0.30469,     0.30882,     0.31189,     0.31466,     0.31823,     0.31945,     0.32157,     0.32024,     0.32068,     0.32245,     0.32567,      0.3266,      0.3274,     0.32554,     0.32859,     0.33192,     0.33553,     0.33804,     0.33946,\n",
      "            0.34123,     0.34252,     0.34479,     0.34665,     0.34583,     0.34841,     0.34922,      0.3506,     0.35264,     0.35463,     0.35775,     0.35625,     0.35697,     0.35948,     0.35867,     0.35955,     0.35914,     0.35817,     0.35897,     0.35931,     0.36058,     0.36335,      0.3638,\n",
      "            0.36435,     0.36586,     0.36771,     0.36894,     0.36926,     0.37055,     0.37131,     0.37353,     0.37557,     0.37768,     0.37931,     0.37968,     0.38013,      0.3807,     0.38333,     0.38354,     0.38376,     0.38397,     0.38437,     0.38508,     0.38671,      0.3885,     0.38895,\n",
      "            0.38965,     0.38837,     0.38883,     0.38969,     0.39065,     0.39295,     0.39681,     0.39962,     0.40058,     0.39911,      0.3974,     0.39807,     0.39965,     0.40086,     0.40212,     0.40254,     0.40311,     0.40329,     0.40163,     0.40003,     0.40135,     0.40205,     0.40259,\n",
      "            0.40489,     0.40598,     0.40645,     0.40815,     0.40953,     0.41038,     0.41158,     0.40803,     0.40824,     0.40864,     0.40927,     0.41003,      0.4105,     0.41209,     0.41324,     0.41381,     0.41439,     0.41497,     0.41731,     0.41771,     0.41812,     0.41837,     0.41862,\n",
      "            0.41886,     0.41911,     0.41934,     0.41956,     0.41978,     0.42001,     0.42023,     0.42193,     0.42198,       0.421,     0.42002,     0.41904,      0.4186,     0.41935,     0.42035,      0.4212,     0.41841,     0.41893,     0.41955,      0.4167,     0.41727,     0.41783,      0.4184,\n",
      "            0.41941,     0.42091,     0.42155,      0.4221,     0.42233,     0.42251,     0.42269,     0.42287,     0.42306,     0.42324,     0.42608,     0.42679,     0.42696,     0.42713,      0.4273,     0.42748,     0.42765,     0.42787,     0.42899,     0.42951,     0.43002,     0.43036,     0.42709,\n",
      "            0.42788,     0.42951,     0.42996,     0.43041,     0.43078,     0.43113,     0.43148,     0.43234,     0.43305,     0.43332,     0.43359,     0.43385,     0.43432,     0.43449,     0.43182,     0.43122,     0.43163,     0.43204,     0.43269,      0.4333,     0.43298,     0.43266,     0.43234,\n",
      "            0.43202,      0.4317,     0.43138,     0.43106,     0.43074,     0.43042,      0.4301,     0.42978,     0.42946,     0.42914,     0.42849,     0.42742,     0.42636,     0.42529,     0.42416,     0.42288,     0.42161,     0.42033,     0.42181,     0.42385,     0.42425,     0.42465,      0.4253,\n",
      "            0.42634,     0.42702,     0.42662,     0.42517,     0.42373,     0.42296,     0.42322,     0.42348,     0.42373,     0.42399,     0.42426,     0.42453,      0.4248,     0.42506,     0.42653,     0.42672,     0.42691,     0.42709,     0.42728,     0.42746,     0.42765,     0.42787,     0.42813,\n",
      "             0.4284,     0.42866,     0.42892,     0.43001,     0.43158,     0.43176,     0.43194,     0.43213,     0.43231,     0.43249,     0.43268,     0.43281,      0.4329,       0.433,      0.4331,     0.43319,     0.43329,     0.43339,     0.43348,     0.43358,     0.43367,     0.43377,     0.43387,\n",
      "            0.43396,     0.43413,     0.43438,     0.43463,     0.43488,     0.43513,     0.43423,     0.43094,     0.43075,     0.43083,     0.43092,       0.431,     0.43108,     0.43116,     0.43124,     0.43132,      0.4314,     0.43148,     0.43156,     0.43165,     0.43173,     0.43181,     0.43189,\n",
      "            0.43155,     0.42964,     0.42773,     0.42626,     0.42491,     0.42356,     0.42234,     0.42143,     0.42051,      0.4196,     0.41868,     0.41798,     0.41841,     0.41884,     0.41868,     0.41676,     0.41483,     0.41519,     0.41645,     0.41699,      0.4171,     0.41721,     0.41731,\n",
      "            0.41742,     0.41753,     0.41763,     0.41774,     0.41785,     0.41795,     0.41806,     0.41817,     0.41855,     0.41898,      0.4194,     0.41734,     0.41495,     0.41419,     0.41368,     0.41316,     0.41265,     0.41214,     0.41163,     0.41111,      0.4106,     0.41009,     0.41022,\n",
      "            0.41109,     0.41132,     0.41154,     0.41176,     0.41198,     0.41221,     0.41248,      0.4128,     0.41311,     0.41343,     0.41286,     0.41145,     0.41004,     0.40865,      0.4078,     0.40694,     0.40609,     0.40524,     0.40438,     0.40345,     0.40228,      0.4011,     0.39993,\n",
      "            0.39876,     0.39932,     0.39989,     0.39957,     0.39905,     0.39852,     0.39799,     0.39746,     0.39693,      0.3964,     0.39588,     0.39535,     0.39507,     0.39536,     0.39565,     0.39594,     0.39622,     0.39256,     0.38776,     0.38554,      0.3834,     0.38392,     0.38443,\n",
      "            0.38385,     0.38267,     0.38148,      0.3803,     0.37422,     0.37461,       0.375,     0.37539,     0.37579,     0.37618,     0.37657,     0.37563,     0.37449,     0.37334,      0.3722,     0.37116,     0.37046,     0.36975,     0.36905,     0.36835,     0.36764,     0.36694,     0.36623,\n",
      "            0.36126,     0.35984,     0.35895,     0.35806,     0.35717,     0.35628,     0.35539,     0.35617,     0.35382,      0.3457,     0.34561,     0.34571,      0.3458,      0.3459,     0.34599,     0.34609,     0.34618,     0.34628,     0.34637,     0.34647,     0.34656,     0.34666,     0.34761,\n",
      "            0.34872,     0.34909,     0.34922,     0.34934,     0.34947,      0.3496,     0.34973,     0.34985,     0.34998,     0.35011,     0.35028,      0.3505,     0.35071,     0.35093,     0.35115,     0.35123,     0.34861,       0.346,     0.34442,     0.34294,     0.34147,     0.33973,     0.33564,\n",
      "            0.33549,     0.33646,     0.33439,     0.33136,      0.3295,     0.32639,     0.32659,      0.3268,       0.327,      0.3272,      0.3274,     0.32744,      0.3272,     0.32696,     0.32672,     0.32647,     0.32623,     0.32599,     0.32575,     0.32551,     0.32527,     0.32503,     0.32479,\n",
      "            0.32455,     0.32431,     0.32407,     0.32383,     0.32359,     0.32335,     0.32311,     0.32286,     0.32262,     0.32238,     0.32214,      0.3219,     0.32171,     0.32208,     0.32245,     0.32278,     0.32226,     0.32175,     0.32123,     0.32072,      0.3202,     0.31968,     0.31917,\n",
      "            0.31865,     0.31814,     0.31762,      0.3171,     0.31699,     0.31714,     0.31729,     0.31744,     0.31759,     0.31774,     0.31789,     0.31686,     0.30358,     0.30004,      0.3002,     0.30036,     0.30052,     0.30067,     0.30083,     0.30099,     0.30128,     0.30172,     0.30216,\n",
      "            0.30236,     0.30255,     0.30275,     0.30294,     0.30314,     0.29708,     0.29668,     0.29627,     0.29587,     0.29546,     0.29506,     0.29466,     0.29425,     0.29385,     0.29344,     0.29304,     0.29263,     0.29223,     0.29183,     0.29142,     0.29102,     0.29008,     0.28894,\n",
      "             0.2878,     0.28667,     0.28553,     0.28484,     0.28552,     0.28282,       0.279,      0.2762,      0.2734,     0.27242,     0.27169,     0.27096,     0.27023,     0.26949,     0.26876,     0.26803,      0.2673,     0.26656,     0.26575,     0.26494,     0.26413,     0.26332,      0.2625,\n",
      "            0.26169,     0.26088,     0.26034,     0.26095,     0.26165,     0.26235,     0.26292,     0.26354,      0.2644,     0.26523,     0.26533,     0.26542,     0.26552,     0.26562,     0.26572,     0.26582,     0.26591,     0.26601,     0.26611,     0.26194,     0.25972,     0.25998,     0.26023,\n",
      "            0.26048,     0.25814,     0.25059,     0.24657,     0.24367,     0.24004,     0.23373,     0.23099,     0.22826,     0.22809,     0.22588,     0.22367,     0.22146,     0.22163,     0.22193,      0.2221,     0.21944,     0.21677,     0.21525,     0.21553,     0.21582,     0.21608,     0.21631,\n",
      "            0.21654,     0.21677,     0.21701,     0.21724,     0.21748,     0.21771,     0.21515,     0.21215,     0.20961,     0.20762,     0.20563,     0.20364,     0.20221,     0.20092,     0.19963,     0.19834,     0.19705,     0.19634,     0.19607,     0.19534,      0.1946,     0.19387,     0.19314,\n",
      "             0.1924,     0.19167,     0.19094,      0.1902,     0.18947,     0.18954,     0.18985,      0.1902,     0.19073,     0.18663,     0.18155,     0.17749,     0.17591,     0.17622,     0.17649,      0.1766,      0.1767,     0.17681,     0.17692,     0.17702,     0.17712,     0.17688,     0.17449,\n",
      "             0.1721,     0.16971,     0.16836,     0.16712,     0.16587,     0.16463,     0.16339,     0.16214,     0.15357,     0.15244,     0.15132,      0.1502,     0.14907,     0.14795,     0.14683,     0.14524,     0.14171,     0.13818,     0.13539,     0.13267,     0.12994,     0.12995,     0.13002,\n",
      "             0.1301,     0.13018,     0.13026,     0.13033,     0.13041,     0.13057,     0.13076,     0.13095,     0.13111,     0.13125,     0.13139,     0.13153,     0.13222,     0.13233,     0.13245,     0.13256,     0.13267,     0.13278,     0.13289,       0.133,      0.1331,     0.13321,     0.13332,\n",
      "            0.13356,     0.13384,     0.13402,     0.13415,     0.13429,     0.13442,     0.13187,     0.12634,     0.12668,     0.12272,     0.11848,      0.1191,     0.12096,     0.12133,     0.11879,     0.11626,     0.11372,     0.11041,     0.10655,     0.10382,     0.10398,     0.10414,     0.10429,\n",
      "            0.10439,     0.10449,     0.10458,     0.10468,     0.10481,     0.10507,     0.10557,     0.10607,     0.10646,     0.10734,     0.10745,     0.10755,     0.10766,     0.10777,     0.10804,     0.10849,     0.10873,      0.1087,     0.10767,     0.10663,      0.1056,     0.10456,     0.10353,\n",
      "            0.10249,     0.10146,     0.10042,    0.099302,    0.097469,    0.095636,    0.093802,    0.091969,    0.090135,    0.090242,    0.090477,    0.090606,    0.090734,    0.090862,    0.091759,    0.092082,    0.091675,    0.088058,    0.084439,    0.083003,    0.083273,    0.083705,    0.083813,\n",
      "           0.083863,    0.083913,    0.083963,    0.084012,    0.084062,    0.084111,     0.08416,    0.084209,    0.084603,    0.083573,    0.077011,    0.073158,    0.065477,    0.052824,    0.049335,    0.045846,    0.043731,     0.04377,    0.043809,    0.043848,    0.043887,    0.043925,    0.043988,\n",
      "           0.044158,     0.04431,    0.044695,    0.044831,    0.044978,    0.045034,    0.035426,    0.034162,    0.034244,     0.03435,    0.034478,    0.034627,    0.034725,    0.034792,    0.034859,    0.033856,    0.031022,    0.028187,    0.025352,    0.023546,    0.023591,    0.023636,    0.023674,\n",
      "           0.023696,    0.023717,    0.023738,    0.023759,     0.02378,    0.023801,    0.023848,    0.023913,    0.024157,    0.024365,    0.024529,    0.024606,    0.024675,    0.024745,    0.024814,    0.024883,    0.024952,     0.02506,    0.025188,    0.025248,    0.025306,    0.025353,    0.025396,\n",
      "           0.025438,    0.025517,    0.025671,    0.025707,    0.025743,    0.025778,    0.025816,    0.025862,    0.025907,    0.025952,    0.013082,    0.013109,    0.013135,     0.01316,    0.013176,    0.013191,    0.013207,    0.013222,    0.013237,    0.013254,    0.013275,    0.013296,    0.013316,\n",
      "           0.012619,   0.0069992,   0.0013797,           0,           0,           0,           0,           0,           0,           0,           0,           0,           0,           0,           0,           0,           0,           0,           0,           0,           0,           0,           0,\n",
      "                  0,           0,           0,           0,           0,           0,           0,           0,           0,           0,           0,           0,           0,           0,           0,           0,           0,           0,           0,           0,           0,           0,           0,\n",
      "                  0,           0,           0,           0,           0,           0,           0,           0,           0,           0,           0,           0,           0,           0,           0,           0,           0,           0,           0,           0,           0,           0,           0,\n",
      "                  0,           0,           0,           0,           0,           0,           0,           0,           0,           0,           0,           0,           0,           0,           0,           0,           0,           0,           0,           0,           0,           0,           0,\n",
      "                  0,           0,           0,           0,           0,           0,           0,           0,           0,           0,           0,           0,           0,           0,           0,           0,           0,           0,           0,           0,           0,           0,           0,\n",
      "                  0,           0,           0,           0,           0,           0,           0,           0,           0,           0,           0]]), 'Confidence', 'F1'], [array([          0,    0.001001,    0.002002,    0.003003,    0.004004,    0.005005,    0.006006,    0.007007,    0.008008,    0.009009,     0.01001,    0.011011,    0.012012,    0.013013,    0.014014,    0.015015,    0.016016,    0.017017,    0.018018,    0.019019,     0.02002,    0.021021,    0.022022,    0.023023,\n",
      "          0.024024,    0.025025,    0.026026,    0.027027,    0.028028,    0.029029,     0.03003,    0.031031,    0.032032,    0.033033,    0.034034,    0.035035,    0.036036,    0.037037,    0.038038,    0.039039,     0.04004,    0.041041,    0.042042,    0.043043,    0.044044,    0.045045,    0.046046,    0.047047,\n",
      "          0.048048,    0.049049,     0.05005,    0.051051,    0.052052,    0.053053,    0.054054,    0.055055,    0.056056,    0.057057,    0.058058,    0.059059,     0.06006,    0.061061,    0.062062,    0.063063,    0.064064,    0.065065,    0.066066,    0.067067,    0.068068,    0.069069,     0.07007,    0.071071,\n",
      "          0.072072,    0.073073,    0.074074,    0.075075,    0.076076,    0.077077,    0.078078,    0.079079,     0.08008,    0.081081,    0.082082,    0.083083,    0.084084,    0.085085,    0.086086,    0.087087,    0.088088,    0.089089,     0.09009,    0.091091,    0.092092,    0.093093,    0.094094,    0.095095,\n",
      "          0.096096,    0.097097,    0.098098,    0.099099,      0.1001,      0.1011,      0.1021,      0.1031,      0.1041,     0.10511,     0.10611,     0.10711,     0.10811,     0.10911,     0.11011,     0.11111,     0.11211,     0.11311,     0.11411,     0.11512,     0.11612,     0.11712,     0.11812,     0.11912,\n",
      "           0.12012,     0.12112,     0.12212,     0.12312,     0.12412,     0.12513,     0.12613,     0.12713,     0.12813,     0.12913,     0.13013,     0.13113,     0.13213,     0.13313,     0.13413,     0.13514,     0.13614,     0.13714,     0.13814,     0.13914,     0.14014,     0.14114,     0.14214,     0.14314,\n",
      "           0.14414,     0.14515,     0.14615,     0.14715,     0.14815,     0.14915,     0.15015,     0.15115,     0.15215,     0.15315,     0.15415,     0.15516,     0.15616,     0.15716,     0.15816,     0.15916,     0.16016,     0.16116,     0.16216,     0.16316,     0.16416,     0.16517,     0.16617,     0.16717,\n",
      "           0.16817,     0.16917,     0.17017,     0.17117,     0.17217,     0.17317,     0.17417,     0.17518,     0.17618,     0.17718,     0.17818,     0.17918,     0.18018,     0.18118,     0.18218,     0.18318,     0.18418,     0.18519,     0.18619,     0.18719,     0.18819,     0.18919,     0.19019,     0.19119,\n",
      "           0.19219,     0.19319,     0.19419,      0.1952,      0.1962,      0.1972,      0.1982,      0.1992,      0.2002,      0.2012,      0.2022,      0.2032,      0.2042,     0.20521,     0.20621,     0.20721,     0.20821,     0.20921,     0.21021,     0.21121,     0.21221,     0.21321,     0.21421,     0.21522,\n",
      "           0.21622,     0.21722,     0.21822,     0.21922,     0.22022,     0.22122,     0.22222,     0.22322,     0.22422,     0.22523,     0.22623,     0.22723,     0.22823,     0.22923,     0.23023,     0.23123,     0.23223,     0.23323,     0.23423,     0.23524,     0.23624,     0.23724,     0.23824,     0.23924,\n",
      "           0.24024,     0.24124,     0.24224,     0.24324,     0.24424,     0.24525,     0.24625,     0.24725,     0.24825,     0.24925,     0.25025,     0.25125,     0.25225,     0.25325,     0.25425,     0.25526,     0.25626,     0.25726,     0.25826,     0.25926,     0.26026,     0.26126,     0.26226,     0.26326,\n",
      "           0.26426,     0.26527,     0.26627,     0.26727,     0.26827,     0.26927,     0.27027,     0.27127,     0.27227,     0.27327,     0.27427,     0.27528,     0.27628,     0.27728,     0.27828,     0.27928,     0.28028,     0.28128,     0.28228,     0.28328,     0.28428,     0.28529,     0.28629,     0.28729,\n",
      "           0.28829,     0.28929,     0.29029,     0.29129,     0.29229,     0.29329,     0.29429,      0.2953,      0.2963,      0.2973,      0.2983,      0.2993,      0.3003,      0.3013,      0.3023,      0.3033,      0.3043,     0.30531,     0.30631,     0.30731,     0.30831,     0.30931,     0.31031,     0.31131,\n",
      "           0.31231,     0.31331,     0.31431,     0.31532,     0.31632,     0.31732,     0.31832,     0.31932,     0.32032,     0.32132,     0.32232,     0.32332,     0.32432,     0.32533,     0.32633,     0.32733,     0.32833,     0.32933,     0.33033,     0.33133,     0.33233,     0.33333,     0.33433,     0.33534,\n",
      "           0.33634,     0.33734,     0.33834,     0.33934,     0.34034,     0.34134,     0.34234,     0.34334,     0.34434,     0.34535,     0.34635,     0.34735,     0.34835,     0.34935,     0.35035,     0.35135,     0.35235,     0.35335,     0.35435,     0.35536,     0.35636,     0.35736,     0.35836,     0.35936,\n",
      "           0.36036,     0.36136,     0.36236,     0.36336,     0.36436,     0.36537,     0.36637,     0.36737,     0.36837,     0.36937,     0.37037,     0.37137,     0.37237,     0.37337,     0.37437,     0.37538,     0.37638,     0.37738,     0.37838,     0.37938,     0.38038,     0.38138,     0.38238,     0.38338,\n",
      "           0.38438,     0.38539,     0.38639,     0.38739,     0.38839,     0.38939,     0.39039,     0.39139,     0.39239,     0.39339,     0.39439,      0.3954,      0.3964,      0.3974,      0.3984,      0.3994,      0.4004,      0.4014,      0.4024,      0.4034,      0.4044,     0.40541,     0.40641,     0.40741,\n",
      "           0.40841,     0.40941,     0.41041,     0.41141,     0.41241,     0.41341,     0.41441,     0.41542,     0.41642,     0.41742,     0.41842,     0.41942,     0.42042,     0.42142,     0.42242,     0.42342,     0.42442,     0.42543,     0.42643,     0.42743,     0.42843,     0.42943,     0.43043,     0.43143,\n",
      "           0.43243,     0.43343,     0.43443,     0.43544,     0.43644,     0.43744,     0.43844,     0.43944,     0.44044,     0.44144,     0.44244,     0.44344,     0.44444,     0.44545,     0.44645,     0.44745,     0.44845,     0.44945,     0.45045,     0.45145,     0.45245,     0.45345,     0.45445,     0.45546,\n",
      "           0.45646,     0.45746,     0.45846,     0.45946,     0.46046,     0.46146,     0.46246,     0.46346,     0.46446,     0.46547,     0.46647,     0.46747,     0.46847,     0.46947,     0.47047,     0.47147,     0.47247,     0.47347,     0.47447,     0.47548,     0.47648,     0.47748,     0.47848,     0.47948,\n",
      "           0.48048,     0.48148,     0.48248,     0.48348,     0.48448,     0.48549,     0.48649,     0.48749,     0.48849,     0.48949,     0.49049,     0.49149,     0.49249,     0.49349,     0.49449,      0.4955,      0.4965,      0.4975,      0.4985,      0.4995,      0.5005,      0.5015,      0.5025,      0.5035,\n",
      "            0.5045,     0.50551,     0.50651,     0.50751,     0.50851,     0.50951,     0.51051,     0.51151,     0.51251,     0.51351,     0.51451,     0.51552,     0.51652,     0.51752,     0.51852,     0.51952,     0.52052,     0.52152,     0.52252,     0.52352,     0.52452,     0.52553,     0.52653,     0.52753,\n",
      "           0.52853,     0.52953,     0.53053,     0.53153,     0.53253,     0.53353,     0.53453,     0.53554,     0.53654,     0.53754,     0.53854,     0.53954,     0.54054,     0.54154,     0.54254,     0.54354,     0.54454,     0.54555,     0.54655,     0.54755,     0.54855,     0.54955,     0.55055,     0.55155,\n",
      "           0.55255,     0.55355,     0.55455,     0.55556,     0.55656,     0.55756,     0.55856,     0.55956,     0.56056,     0.56156,     0.56256,     0.56356,     0.56456,     0.56557,     0.56657,     0.56757,     0.56857,     0.56957,     0.57057,     0.57157,     0.57257,     0.57357,     0.57457,     0.57558,\n",
      "           0.57658,     0.57758,     0.57858,     0.57958,     0.58058,     0.58158,     0.58258,     0.58358,     0.58458,     0.58559,     0.58659,     0.58759,     0.58859,     0.58959,     0.59059,     0.59159,     0.59259,     0.59359,     0.59459,      0.5956,      0.5966,      0.5976,      0.5986,      0.5996,\n",
      "            0.6006,      0.6016,      0.6026,      0.6036,      0.6046,     0.60561,     0.60661,     0.60761,     0.60861,     0.60961,     0.61061,     0.61161,     0.61261,     0.61361,     0.61461,     0.61562,     0.61662,     0.61762,     0.61862,     0.61962,     0.62062,     0.62162,     0.62262,     0.62362,\n",
      "           0.62462,     0.62563,     0.62663,     0.62763,     0.62863,     0.62963,     0.63063,     0.63163,     0.63263,     0.63363,     0.63463,     0.63564,     0.63664,     0.63764,     0.63864,     0.63964,     0.64064,     0.64164,     0.64264,     0.64364,     0.64464,     0.64565,     0.64665,     0.64765,\n",
      "           0.64865,     0.64965,     0.65065,     0.65165,     0.65265,     0.65365,     0.65465,     0.65566,     0.65666,     0.65766,     0.65866,     0.65966,     0.66066,     0.66166,     0.66266,     0.66366,     0.66466,     0.66567,     0.66667,     0.66767,     0.66867,     0.66967,     0.67067,     0.67167,\n",
      "           0.67267,     0.67367,     0.67467,     0.67568,     0.67668,     0.67768,     0.67868,     0.67968,     0.68068,     0.68168,     0.68268,     0.68368,     0.68468,     0.68569,     0.68669,     0.68769,     0.68869,     0.68969,     0.69069,     0.69169,     0.69269,     0.69369,     0.69469,      0.6957,\n",
      "            0.6967,      0.6977,      0.6987,      0.6997,      0.7007,      0.7017,      0.7027,      0.7037,      0.7047,     0.70571,     0.70671,     0.70771,     0.70871,     0.70971,     0.71071,     0.71171,     0.71271,     0.71371,     0.71471,     0.71572,     0.71672,     0.71772,     0.71872,     0.71972,\n",
      "           0.72072,     0.72172,     0.72272,     0.72372,     0.72472,     0.72573,     0.72673,     0.72773,     0.72873,     0.72973,     0.73073,     0.73173,     0.73273,     0.73373,     0.73473,     0.73574,     0.73674,     0.73774,     0.73874,     0.73974,     0.74074,     0.74174,     0.74274,     0.74374,\n",
      "           0.74474,     0.74575,     0.74675,     0.74775,     0.74875,     0.74975,     0.75075,     0.75175,     0.75275,     0.75375,     0.75475,     0.75576,     0.75676,     0.75776,     0.75876,     0.75976,     0.76076,     0.76176,     0.76276,     0.76376,     0.76476,     0.76577,     0.76677,     0.76777,\n",
      "           0.76877,     0.76977,     0.77077,     0.77177,     0.77277,     0.77377,     0.77477,     0.77578,     0.77678,     0.77778,     0.77878,     0.77978,     0.78078,     0.78178,     0.78278,     0.78378,     0.78478,     0.78579,     0.78679,     0.78779,     0.78879,     0.78979,     0.79079,     0.79179,\n",
      "           0.79279,     0.79379,     0.79479,      0.7958,      0.7968,      0.7978,      0.7988,      0.7998,      0.8008,      0.8018,      0.8028,      0.8038,      0.8048,     0.80581,     0.80681,     0.80781,     0.80881,     0.80981,     0.81081,     0.81181,     0.81281,     0.81381,     0.81481,     0.81582,\n",
      "           0.81682,     0.81782,     0.81882,     0.81982,     0.82082,     0.82182,     0.82282,     0.82382,     0.82482,     0.82583,     0.82683,     0.82783,     0.82883,     0.82983,     0.83083,     0.83183,     0.83283,     0.83383,     0.83483,     0.83584,     0.83684,     0.83784,     0.83884,     0.83984,\n",
      "           0.84084,     0.84184,     0.84284,     0.84384,     0.84484,     0.84585,     0.84685,     0.84785,     0.84885,     0.84985,     0.85085,     0.85185,     0.85285,     0.85385,     0.85485,     0.85586,     0.85686,     0.85786,     0.85886,     0.85986,     0.86086,     0.86186,     0.86286,     0.86386,\n",
      "           0.86486,     0.86587,     0.86687,     0.86787,     0.86887,     0.86987,     0.87087,     0.87187,     0.87287,     0.87387,     0.87487,     0.87588,     0.87688,     0.87788,     0.87888,     0.87988,     0.88088,     0.88188,     0.88288,     0.88388,     0.88488,     0.88589,     0.88689,     0.88789,\n",
      "           0.88889,     0.88989,     0.89089,     0.89189,     0.89289,     0.89389,     0.89489,      0.8959,      0.8969,      0.8979,      0.8989,      0.8999,      0.9009,      0.9019,      0.9029,      0.9039,      0.9049,     0.90591,     0.90691,     0.90791,     0.90891,     0.90991,     0.91091,     0.91191,\n",
      "           0.91291,     0.91391,     0.91491,     0.91592,     0.91692,     0.91792,     0.91892,     0.91992,     0.92092,     0.92192,     0.92292,     0.92392,     0.92492,     0.92593,     0.92693,     0.92793,     0.92893,     0.92993,     0.93093,     0.93193,     0.93293,     0.93393,     0.93493,     0.93594,\n",
      "           0.93694,     0.93794,     0.93894,     0.93994,     0.94094,     0.94194,     0.94294,     0.94394,     0.94494,     0.94595,     0.94695,     0.94795,     0.94895,     0.94995,     0.95095,     0.95195,     0.95295,     0.95395,     0.95495,     0.95596,     0.95696,     0.95796,     0.95896,     0.95996,\n",
      "           0.96096,     0.96196,     0.96296,     0.96396,     0.96496,     0.96597,     0.96697,     0.96797,     0.96897,     0.96997,     0.97097,     0.97197,     0.97297,     0.97397,     0.97497,     0.97598,     0.97698,     0.97798,     0.97898,     0.97998,     0.98098,     0.98198,     0.98298,     0.98398,\n",
      "           0.98498,     0.98599,     0.98699,     0.98799,     0.98899,     0.98999,     0.99099,     0.99199,     0.99299,     0.99399,     0.99499,       0.996,       0.997,       0.998,       0.999,           1]), array([[   0.037331,    0.037338,    0.059371,    0.075384,    0.088518,    0.099039,     0.10839,      0.1173,      0.1237,     0.13116,     0.13566,     0.14114,     0.14908,     0.15222,     0.15695,     0.16315,     0.16701,     0.17099,     0.17314,     0.17742,     0.17964,     0.18083,     0.17992,\n",
      "            0.18395,     0.18883,     0.18851,     0.19101,     0.19316,      0.1965,     0.19899,     0.20125,     0.20418,     0.20519,     0.20694,      0.2063,     0.20684,     0.20832,     0.21102,      0.2118,     0.21247,     0.21159,     0.21417,     0.21701,     0.22012,     0.22228,     0.22351,\n",
      "            0.22505,     0.22617,     0.22815,     0.23013,     0.22989,     0.23218,      0.2329,     0.23413,     0.23595,     0.23773,     0.24055,     0.24012,     0.24077,     0.24307,      0.2433,     0.24411,     0.24418,     0.24383,     0.24458,     0.24489,     0.24607,     0.24866,     0.24908,\n",
      "            0.24959,     0.25102,     0.25276,     0.25392,     0.25423,     0.25545,     0.25617,     0.25829,     0.26025,     0.26228,     0.26385,     0.26421,     0.26465,      0.2652,     0.26776,     0.26797,     0.26818,     0.26839,     0.26878,     0.26947,     0.27107,     0.27284,     0.27328,\n",
      "            0.27397,     0.27399,     0.27445,     0.27531,     0.27626,     0.27857,     0.28247,     0.28533,      0.2863,      0.2855,     0.28449,     0.28518,      0.2868,     0.28805,     0.28935,     0.28979,     0.29038,     0.29077,     0.28971,     0.28869,     0.29007,      0.2908,     0.29136,\n",
      "            0.29378,     0.29493,     0.29542,     0.29722,     0.29869,     0.29959,     0.30096,     0.29867,     0.29897,      0.2994,     0.30007,     0.30089,      0.3014,     0.30312,     0.30436,     0.30498,     0.30561,     0.30624,      0.3088,     0.30924,     0.30968,     0.30996,     0.31023,\n",
      "             0.3105,     0.31077,     0.31102,     0.31127,     0.31151,     0.31176,       0.312,     0.31388,     0.31412,     0.31349,     0.31286,     0.31223,     0.31204,     0.31288,     0.31399,     0.31513,     0.31331,     0.31432,     0.31502,     0.31377,     0.31441,     0.31504,      0.3157,\n",
      "            0.31684,     0.31856,     0.31929,     0.31993,     0.32019,      0.3204,     0.32061,     0.32082,     0.32103,     0.32124,     0.32453,     0.32535,     0.32555,     0.32575,     0.32594,     0.32614,     0.32634,      0.3266,     0.32791,     0.32851,     0.32911,     0.32998,     0.32784,\n",
      "            0.32881,     0.33074,     0.33127,      0.3318,     0.33225,     0.33266,     0.33308,      0.3341,     0.33496,     0.33528,     0.33559,     0.33591,     0.33647,      0.3371,     0.33534,      0.3351,      0.3356,      0.3361,     0.33689,     0.33764,     0.33743,     0.33722,     0.33701,\n",
      "             0.3368,     0.33658,     0.33637,     0.33616,     0.33595,     0.33574,     0.33553,     0.33532,     0.33511,      0.3349,     0.33446,     0.33376,     0.33305,     0.33235,     0.33159,     0.33075,      0.3299,     0.32906,     0.33097,     0.33349,     0.33398,     0.33448,     0.33529,\n",
      "            0.33658,     0.33742,     0.33735,     0.33639,     0.33542,     0.33497,     0.33529,     0.33562,     0.33594,     0.33627,      0.3366,     0.33694,     0.33728,     0.33762,     0.33948,     0.33971,     0.33995,     0.34018,     0.34042,     0.34065,     0.34089,     0.34117,     0.34151,\n",
      "            0.34184,     0.34218,     0.34251,      0.3439,     0.34591,     0.34615,     0.34638,     0.34662,     0.34685,     0.34709,     0.34732,     0.34749,     0.34762,     0.34774,     0.34787,     0.34799,     0.34811,     0.34824,     0.34836,     0.34849,     0.34861,     0.34874,     0.34886,\n",
      "            0.34899,      0.3492,     0.34952,     0.34984,     0.35017,     0.35049,        0.35,     0.34779,     0.34772,     0.34782,     0.34793,     0.34803,     0.34814,     0.34825,     0.34835,     0.34846,     0.34856,     0.34867,     0.34878,     0.34888,     0.34899,     0.34909,      0.3492,\n",
      "            0.34901,     0.34773,     0.34644,     0.34545,     0.34454,     0.34363,     0.34281,     0.34219,     0.34157,     0.34095,     0.34033,      0.3399,     0.34047,     0.34104,     0.34114,     0.33983,     0.33852,     0.33926,     0.34095,     0.34168,     0.34183,     0.34197,     0.34211,\n",
      "            0.34226,      0.3424,     0.34255,     0.34269,     0.34283,     0.34298,     0.34312,     0.34326,     0.34378,     0.34436,     0.34493,     0.34356,     0.34193,      0.3414,     0.34105,      0.3407,     0.34035,        0.34,     0.33964,     0.33929,     0.33894,     0.33859,     0.33898,\n",
      "            0.34017,     0.34047,     0.34078,     0.34109,     0.34139,      0.3417,     0.34207,     0.34251,     0.34294,     0.34338,     0.34309,     0.34212,     0.34115,     0.34019,      0.3396,     0.33901,     0.33842,     0.33783,     0.33724,      0.3366,     0.33578,     0.33496,     0.33415,\n",
      "            0.33334,     0.33413,     0.33493,     0.33478,     0.33441,     0.33404,     0.33367,     0.33331,     0.33294,     0.33257,      0.3322,     0.33183,     0.33171,     0.33211,     0.33252,     0.33292,     0.33333,     0.33178,     0.32918,     0.32761,     0.32611,     0.32686,      0.3276,\n",
      "            0.32732,     0.32648,     0.32564,      0.3248,     0.32049,     0.32106,     0.32163,      0.3222,     0.32278,     0.32336,     0.32394,     0.32331,     0.32249,     0.32167,     0.32084,      0.3201,     0.31959,     0.31908,     0.31858,     0.31807,     0.31756,     0.31705,     0.31654,\n",
      "            0.31293,     0.31191,     0.31126,     0.31061,     0.30996,     0.30931,     0.30866,     0.30995,     0.30843,     0.30246,     0.30247,     0.30262,     0.30276,     0.30291,     0.30306,      0.3032,     0.30335,      0.3035,     0.30364,     0.30379,     0.30393,     0.30408,     0.30555,\n",
      "            0.30727,     0.30784,     0.30804,     0.30824,     0.30844,     0.30864,     0.30883,     0.30903,     0.30923,     0.30943,      0.3097,     0.31004,     0.31038,     0.31072,     0.31105,     0.31128,     0.30935,     0.30741,     0.30623,     0.30513,     0.30402,     0.30273,     0.29965,\n",
      "            0.30041,     0.30197,     0.30067,     0.29867,     0.29797,      0.2956,     0.29593,     0.29626,      0.2966,     0.29693,     0.29726,      0.2974,     0.29722,     0.29703,     0.29685,     0.29666,     0.29648,      0.2963,     0.29611,     0.29593,     0.29574,     0.29556,     0.29537,\n",
      "            0.29519,     0.29501,     0.29482,     0.29464,     0.29445,     0.29427,     0.29409,      0.2939,     0.29372,     0.29353,     0.29335,     0.29316,     0.29304,     0.29366,     0.29428,     0.29485,     0.29445,     0.29406,     0.29366,     0.29326,     0.29286,     0.29247,     0.29207,\n",
      "            0.29167,     0.29127,     0.29088,     0.29048,     0.29048,     0.29073,     0.29098,     0.29123,     0.29148,     0.29173,     0.29198,     0.29131,     0.28096,     0.27822,     0.27849,     0.27876,     0.27903,     0.27931,     0.27958,     0.27985,     0.28035,     0.28113,     0.28189,\n",
      "            0.28223,     0.28257,     0.28291,     0.28325,     0.28359,     0.27889,     0.27857,     0.27825,     0.27793,     0.27761,     0.27728,     0.27696,     0.27664,     0.27632,     0.27599,     0.27567,     0.27535,     0.27503,      0.2747,     0.27438,     0.27406,      0.2733,     0.27239,\n",
      "            0.27148,     0.27057,     0.26966,     0.26926,     0.27049,     0.26849,      0.2654,     0.26312,     0.26083,     0.26004,     0.25944,     0.25884,     0.25824,     0.25764,     0.25704,     0.25644,     0.25584,     0.25523,     0.25456,     0.25389,     0.25322,     0.25255,     0.25188,\n",
      "            0.25121,     0.25054,     0.25021,     0.25135,     0.25265,     0.25396,     0.25502,     0.25619,     0.25782,      0.2594,     0.25959,     0.25978,     0.25997,     0.26016,     0.26035,     0.26053,     0.26072,     0.26091,      0.2611,     0.25765,     0.25599,     0.25649,     0.25698,\n",
      "            0.25747,     0.25666,     0.25022,     0.24677,     0.24428,     0.24114,     0.23565,     0.23326,     0.23086,     0.23178,     0.22982,     0.22786,     0.22591,     0.22641,     0.22704,     0.22753,     0.22515,     0.22277,     0.22154,     0.22215,     0.22275,     0.22331,     0.22381,\n",
      "             0.2243,      0.2248,      0.2253,     0.22581,     0.22632,     0.22682,     0.22453,     0.22181,      0.2195,     0.21768,     0.21585,     0.21403,     0.21271,     0.21152,     0.21033,     0.20914,     0.20794,     0.20783,     0.20809,      0.2074,     0.20671,     0.20603,     0.20534,\n",
      "            0.20466,     0.20397,     0.20328,      0.2026,     0.20191,      0.2023,       0.203,     0.20382,     0.20502,     0.20133,     0.19649,      0.1926,     0.19133,     0.19208,     0.19271,     0.19297,     0.19322,     0.19347,     0.19372,     0.19398,     0.19423,     0.19412,     0.19179,\n",
      "            0.18946,     0.18713,      0.1858,     0.18458,     0.18335,     0.18213,      0.1809,     0.17968,     0.17115,     0.17002,     0.16889,     0.16776,     0.16663,      0.1655,     0.16437,     0.16276,     0.15918,     0.15559,     0.15273,     0.14993,     0.14713,     0.14725,     0.14745,\n",
      "            0.14765,     0.14786,     0.14806,     0.14826,     0.14846,     0.14887,     0.14936,     0.14986,     0.15027,     0.15064,     0.15101,     0.15138,     0.15322,     0.15353,     0.15384,     0.15414,     0.15445,     0.15475,     0.15504,     0.15533,     0.15562,     0.15591,      0.1562,\n",
      "            0.15688,     0.15765,     0.15815,     0.15852,     0.15889,     0.15926,     0.15671,     0.15116,     0.15212,     0.14782,     0.14318,     0.14556,     0.15126,     0.15275,     0.14985,     0.14695,     0.14405,     0.14022,     0.13575,     0.13268,     0.13321,     0.13375,     0.13423,\n",
      "            0.13456,     0.13488,     0.13521,     0.13554,     0.13596,     0.13685,     0.13854,     0.14028,     0.14167,     0.14481,      0.1452,      0.1456,     0.14599,     0.14639,     0.14739,     0.14909,     0.14998,     0.15042,     0.14913,     0.14783,     0.14653,     0.14523,     0.14394,\n",
      "            0.14264,     0.14134,     0.14004,     0.13863,     0.13629,     0.13395,     0.13161,     0.12927,     0.12693,     0.12773,     0.12867,     0.12919,     0.12972,     0.13024,     0.13399,     0.13538,     0.13551,     0.13062,     0.12573,     0.12546,      0.1267,     0.12873,     0.12924,\n",
      "            0.12948,     0.12971,     0.12995,     0.13019,     0.13043,     0.13067,      0.1309,     0.13114,     0.13307,     0.13336,     0.12381,     0.11963,     0.10806,    0.088495,     0.08297,    0.077446,    0.074162,    0.074387,    0.074613,    0.074838,    0.075063,    0.075289,    0.075662,\n",
      "           0.076677,      0.0776,    0.080016,    0.080891,    0.081861,    0.083045,    0.066173,    0.064334,    0.064919,    0.065683,    0.066633,    0.067762,    0.068515,    0.069043,    0.069572,    0.069015,    0.063461,    0.057906,    0.052352,    0.048921,    0.049314,    0.049708,    0.050049,\n",
      "           0.050241,    0.050433,    0.050625,    0.050816,    0.051008,      0.0512,    0.051637,    0.052257,    0.054665,    0.056871,    0.058696,     0.05959,    0.060414,    0.061259,     0.06211,    0.062988,    0.063888,    0.065322,    0.067094,    0.067955,    0.068816,    0.069505,    0.070158,\n",
      "           0.070811,    0.072051,    0.074581,    0.075197,    0.075813,    0.076428,    0.077087,     0.07792,    0.078753,    0.079586,     0.04187,    0.042431,    0.042993,    0.043525,    0.043872,    0.044219,    0.044565,    0.044912,    0.045259,    0.045673,    0.046176,    0.046678,     0.04718,\n",
      "           0.045067,    0.024997,   0.0049275,           0,           0,           0,           0,           0,           0,           0,           0,           0,           0,           0,           0,           0,           0,           0,           0,           0,           0,           0,           0,\n",
      "                  0,           0,           0,           0,           0,           0,           0,           0,           0,           0,           0,           0,           0,           0,           0,           0,           0,           0,           0,           0,           0,           0,           0,\n",
      "                  0,           0,           0,           0,           0,           0,           0,           0,           0,           0,           0,           0,           0,           0,           1,           1,           1,           1,           1,           1,           1,           1,           1,\n",
      "                  1,           1,           1,           1,           1,           1,           1,           1,           1,           1,           1,           1,           1,           1,           1,           1,           1,           1,           1,           1,           1,           1,           1,\n",
      "                  1,           1,           1,           1,           1,           1,           1,           1,           1,           1,           1,           1,           1,           1,           1,           1,           1,           1,           1,           1,           1,           1,           1,\n",
      "                  1,           1,           1,           1,           1,           1,           1,           1,           1,           1,           1]]), 'Confidence', 'Precision'], [array([          0,    0.001001,    0.002002,    0.003003,    0.004004,    0.005005,    0.006006,    0.007007,    0.008008,    0.009009,     0.01001,    0.011011,    0.012012,    0.013013,    0.014014,    0.015015,    0.016016,    0.017017,    0.018018,    0.019019,     0.02002,    0.021021,    0.022022,    0.023023,\n",
      "          0.024024,    0.025025,    0.026026,    0.027027,    0.028028,    0.029029,     0.03003,    0.031031,    0.032032,    0.033033,    0.034034,    0.035035,    0.036036,    0.037037,    0.038038,    0.039039,     0.04004,    0.041041,    0.042042,    0.043043,    0.044044,    0.045045,    0.046046,    0.047047,\n",
      "          0.048048,    0.049049,     0.05005,    0.051051,    0.052052,    0.053053,    0.054054,    0.055055,    0.056056,    0.057057,    0.058058,    0.059059,     0.06006,    0.061061,    0.062062,    0.063063,    0.064064,    0.065065,    0.066066,    0.067067,    0.068068,    0.069069,     0.07007,    0.071071,\n",
      "          0.072072,    0.073073,    0.074074,    0.075075,    0.076076,    0.077077,    0.078078,    0.079079,     0.08008,    0.081081,    0.082082,    0.083083,    0.084084,    0.085085,    0.086086,    0.087087,    0.088088,    0.089089,     0.09009,    0.091091,    0.092092,    0.093093,    0.094094,    0.095095,\n",
      "          0.096096,    0.097097,    0.098098,    0.099099,      0.1001,      0.1011,      0.1021,      0.1031,      0.1041,     0.10511,     0.10611,     0.10711,     0.10811,     0.10911,     0.11011,     0.11111,     0.11211,     0.11311,     0.11411,     0.11512,     0.11612,     0.11712,     0.11812,     0.11912,\n",
      "           0.12012,     0.12112,     0.12212,     0.12312,     0.12412,     0.12513,     0.12613,     0.12713,     0.12813,     0.12913,     0.13013,     0.13113,     0.13213,     0.13313,     0.13413,     0.13514,     0.13614,     0.13714,     0.13814,     0.13914,     0.14014,     0.14114,     0.14214,     0.14314,\n",
      "           0.14414,     0.14515,     0.14615,     0.14715,     0.14815,     0.14915,     0.15015,     0.15115,     0.15215,     0.15315,     0.15415,     0.15516,     0.15616,     0.15716,     0.15816,     0.15916,     0.16016,     0.16116,     0.16216,     0.16316,     0.16416,     0.16517,     0.16617,     0.16717,\n",
      "           0.16817,     0.16917,     0.17017,     0.17117,     0.17217,     0.17317,     0.17417,     0.17518,     0.17618,     0.17718,     0.17818,     0.17918,     0.18018,     0.18118,     0.18218,     0.18318,     0.18418,     0.18519,     0.18619,     0.18719,     0.18819,     0.18919,     0.19019,     0.19119,\n",
      "           0.19219,     0.19319,     0.19419,      0.1952,      0.1962,      0.1972,      0.1982,      0.1992,      0.2002,      0.2012,      0.2022,      0.2032,      0.2042,     0.20521,     0.20621,     0.20721,     0.20821,     0.20921,     0.21021,     0.21121,     0.21221,     0.21321,     0.21421,     0.21522,\n",
      "           0.21622,     0.21722,     0.21822,     0.21922,     0.22022,     0.22122,     0.22222,     0.22322,     0.22422,     0.22523,     0.22623,     0.22723,     0.22823,     0.22923,     0.23023,     0.23123,     0.23223,     0.23323,     0.23423,     0.23524,     0.23624,     0.23724,     0.23824,     0.23924,\n",
      "           0.24024,     0.24124,     0.24224,     0.24324,     0.24424,     0.24525,     0.24625,     0.24725,     0.24825,     0.24925,     0.25025,     0.25125,     0.25225,     0.25325,     0.25425,     0.25526,     0.25626,     0.25726,     0.25826,     0.25926,     0.26026,     0.26126,     0.26226,     0.26326,\n",
      "           0.26426,     0.26527,     0.26627,     0.26727,     0.26827,     0.26927,     0.27027,     0.27127,     0.27227,     0.27327,     0.27427,     0.27528,     0.27628,     0.27728,     0.27828,     0.27928,     0.28028,     0.28128,     0.28228,     0.28328,     0.28428,     0.28529,     0.28629,     0.28729,\n",
      "           0.28829,     0.28929,     0.29029,     0.29129,     0.29229,     0.29329,     0.29429,      0.2953,      0.2963,      0.2973,      0.2983,      0.2993,      0.3003,      0.3013,      0.3023,      0.3033,      0.3043,     0.30531,     0.30631,     0.30731,     0.30831,     0.30931,     0.31031,     0.31131,\n",
      "           0.31231,     0.31331,     0.31431,     0.31532,     0.31632,     0.31732,     0.31832,     0.31932,     0.32032,     0.32132,     0.32232,     0.32332,     0.32432,     0.32533,     0.32633,     0.32733,     0.32833,     0.32933,     0.33033,     0.33133,     0.33233,     0.33333,     0.33433,     0.33534,\n",
      "           0.33634,     0.33734,     0.33834,     0.33934,     0.34034,     0.34134,     0.34234,     0.34334,     0.34434,     0.34535,     0.34635,     0.34735,     0.34835,     0.34935,     0.35035,     0.35135,     0.35235,     0.35335,     0.35435,     0.35536,     0.35636,     0.35736,     0.35836,     0.35936,\n",
      "           0.36036,     0.36136,     0.36236,     0.36336,     0.36436,     0.36537,     0.36637,     0.36737,     0.36837,     0.36937,     0.37037,     0.37137,     0.37237,     0.37337,     0.37437,     0.37538,     0.37638,     0.37738,     0.37838,     0.37938,     0.38038,     0.38138,     0.38238,     0.38338,\n",
      "           0.38438,     0.38539,     0.38639,     0.38739,     0.38839,     0.38939,     0.39039,     0.39139,     0.39239,     0.39339,     0.39439,      0.3954,      0.3964,      0.3974,      0.3984,      0.3994,      0.4004,      0.4014,      0.4024,      0.4034,      0.4044,     0.40541,     0.40641,     0.40741,\n",
      "           0.40841,     0.40941,     0.41041,     0.41141,     0.41241,     0.41341,     0.41441,     0.41542,     0.41642,     0.41742,     0.41842,     0.41942,     0.42042,     0.42142,     0.42242,     0.42342,     0.42442,     0.42543,     0.42643,     0.42743,     0.42843,     0.42943,     0.43043,     0.43143,\n",
      "           0.43243,     0.43343,     0.43443,     0.43544,     0.43644,     0.43744,     0.43844,     0.43944,     0.44044,     0.44144,     0.44244,     0.44344,     0.44444,     0.44545,     0.44645,     0.44745,     0.44845,     0.44945,     0.45045,     0.45145,     0.45245,     0.45345,     0.45445,     0.45546,\n",
      "           0.45646,     0.45746,     0.45846,     0.45946,     0.46046,     0.46146,     0.46246,     0.46346,     0.46446,     0.46547,     0.46647,     0.46747,     0.46847,     0.46947,     0.47047,     0.47147,     0.47247,     0.47347,     0.47447,     0.47548,     0.47648,     0.47748,     0.47848,     0.47948,\n",
      "           0.48048,     0.48148,     0.48248,     0.48348,     0.48448,     0.48549,     0.48649,     0.48749,     0.48849,     0.48949,     0.49049,     0.49149,     0.49249,     0.49349,     0.49449,      0.4955,      0.4965,      0.4975,      0.4985,      0.4995,      0.5005,      0.5015,      0.5025,      0.5035,\n",
      "            0.5045,     0.50551,     0.50651,     0.50751,     0.50851,     0.50951,     0.51051,     0.51151,     0.51251,     0.51351,     0.51451,     0.51552,     0.51652,     0.51752,     0.51852,     0.51952,     0.52052,     0.52152,     0.52252,     0.52352,     0.52452,     0.52553,     0.52653,     0.52753,\n",
      "           0.52853,     0.52953,     0.53053,     0.53153,     0.53253,     0.53353,     0.53453,     0.53554,     0.53654,     0.53754,     0.53854,     0.53954,     0.54054,     0.54154,     0.54254,     0.54354,     0.54454,     0.54555,     0.54655,     0.54755,     0.54855,     0.54955,     0.55055,     0.55155,\n",
      "           0.55255,     0.55355,     0.55455,     0.55556,     0.55656,     0.55756,     0.55856,     0.55956,     0.56056,     0.56156,     0.56256,     0.56356,     0.56456,     0.56557,     0.56657,     0.56757,     0.56857,     0.56957,     0.57057,     0.57157,     0.57257,     0.57357,     0.57457,     0.57558,\n",
      "           0.57658,     0.57758,     0.57858,     0.57958,     0.58058,     0.58158,     0.58258,     0.58358,     0.58458,     0.58559,     0.58659,     0.58759,     0.58859,     0.58959,     0.59059,     0.59159,     0.59259,     0.59359,     0.59459,      0.5956,      0.5966,      0.5976,      0.5986,      0.5996,\n",
      "            0.6006,      0.6016,      0.6026,      0.6036,      0.6046,     0.60561,     0.60661,     0.60761,     0.60861,     0.60961,     0.61061,     0.61161,     0.61261,     0.61361,     0.61461,     0.61562,     0.61662,     0.61762,     0.61862,     0.61962,     0.62062,     0.62162,     0.62262,     0.62362,\n",
      "           0.62462,     0.62563,     0.62663,     0.62763,     0.62863,     0.62963,     0.63063,     0.63163,     0.63263,     0.63363,     0.63463,     0.63564,     0.63664,     0.63764,     0.63864,     0.63964,     0.64064,     0.64164,     0.64264,     0.64364,     0.64464,     0.64565,     0.64665,     0.64765,\n",
      "           0.64865,     0.64965,     0.65065,     0.65165,     0.65265,     0.65365,     0.65465,     0.65566,     0.65666,     0.65766,     0.65866,     0.65966,     0.66066,     0.66166,     0.66266,     0.66366,     0.66466,     0.66567,     0.66667,     0.66767,     0.66867,     0.66967,     0.67067,     0.67167,\n",
      "           0.67267,     0.67367,     0.67467,     0.67568,     0.67668,     0.67768,     0.67868,     0.67968,     0.68068,     0.68168,     0.68268,     0.68368,     0.68468,     0.68569,     0.68669,     0.68769,     0.68869,     0.68969,     0.69069,     0.69169,     0.69269,     0.69369,     0.69469,      0.6957,\n",
      "            0.6967,      0.6977,      0.6987,      0.6997,      0.7007,      0.7017,      0.7027,      0.7037,      0.7047,     0.70571,     0.70671,     0.70771,     0.70871,     0.70971,     0.71071,     0.71171,     0.71271,     0.71371,     0.71471,     0.71572,     0.71672,     0.71772,     0.71872,     0.71972,\n",
      "           0.72072,     0.72172,     0.72272,     0.72372,     0.72472,     0.72573,     0.72673,     0.72773,     0.72873,     0.72973,     0.73073,     0.73173,     0.73273,     0.73373,     0.73473,     0.73574,     0.73674,     0.73774,     0.73874,     0.73974,     0.74074,     0.74174,     0.74274,     0.74374,\n",
      "           0.74474,     0.74575,     0.74675,     0.74775,     0.74875,     0.74975,     0.75075,     0.75175,     0.75275,     0.75375,     0.75475,     0.75576,     0.75676,     0.75776,     0.75876,     0.75976,     0.76076,     0.76176,     0.76276,     0.76376,     0.76476,     0.76577,     0.76677,     0.76777,\n",
      "           0.76877,     0.76977,     0.77077,     0.77177,     0.77277,     0.77377,     0.77477,     0.77578,     0.77678,     0.77778,     0.77878,     0.77978,     0.78078,     0.78178,     0.78278,     0.78378,     0.78478,     0.78579,     0.78679,     0.78779,     0.78879,     0.78979,     0.79079,     0.79179,\n",
      "           0.79279,     0.79379,     0.79479,      0.7958,      0.7968,      0.7978,      0.7988,      0.7998,      0.8008,      0.8018,      0.8028,      0.8038,      0.8048,     0.80581,     0.80681,     0.80781,     0.80881,     0.80981,     0.81081,     0.81181,     0.81281,     0.81381,     0.81481,     0.81582,\n",
      "           0.81682,     0.81782,     0.81882,     0.81982,     0.82082,     0.82182,     0.82282,     0.82382,     0.82482,     0.82583,     0.82683,     0.82783,     0.82883,     0.82983,     0.83083,     0.83183,     0.83283,     0.83383,     0.83483,     0.83584,     0.83684,     0.83784,     0.83884,     0.83984,\n",
      "           0.84084,     0.84184,     0.84284,     0.84384,     0.84484,     0.84585,     0.84685,     0.84785,     0.84885,     0.84985,     0.85085,     0.85185,     0.85285,     0.85385,     0.85485,     0.85586,     0.85686,     0.85786,     0.85886,     0.85986,     0.86086,     0.86186,     0.86286,     0.86386,\n",
      "           0.86486,     0.86587,     0.86687,     0.86787,     0.86887,     0.86987,     0.87087,     0.87187,     0.87287,     0.87387,     0.87487,     0.87588,     0.87688,     0.87788,     0.87888,     0.87988,     0.88088,     0.88188,     0.88288,     0.88388,     0.88488,     0.88589,     0.88689,     0.88789,\n",
      "           0.88889,     0.88989,     0.89089,     0.89189,     0.89289,     0.89389,     0.89489,      0.8959,      0.8969,      0.8979,      0.8989,      0.8999,      0.9009,      0.9019,      0.9029,      0.9039,      0.9049,     0.90591,     0.90691,     0.90791,     0.90891,     0.90991,     0.91091,     0.91191,\n",
      "           0.91291,     0.91391,     0.91491,     0.91592,     0.91692,     0.91792,     0.91892,     0.91992,     0.92092,     0.92192,     0.92292,     0.92392,     0.92492,     0.92593,     0.92693,     0.92793,     0.92893,     0.92993,     0.93093,     0.93193,     0.93293,     0.93393,     0.93493,     0.93594,\n",
      "           0.93694,     0.93794,     0.93894,     0.93994,     0.94094,     0.94194,     0.94294,     0.94394,     0.94494,     0.94595,     0.94695,     0.94795,     0.94895,     0.94995,     0.95095,     0.95195,     0.95295,     0.95395,     0.95495,     0.95596,     0.95696,     0.95796,     0.95896,     0.95996,\n",
      "           0.96096,     0.96196,     0.96296,     0.96396,     0.96496,     0.96597,     0.96697,     0.96797,     0.96897,     0.96997,     0.97097,     0.97197,     0.97297,     0.97397,     0.97497,     0.97598,     0.97698,     0.97798,     0.97898,     0.97998,     0.98098,     0.98198,     0.98298,     0.98398,\n",
      "           0.98498,     0.98599,     0.98699,     0.98799,     0.98899,     0.98999,     0.99099,     0.99199,     0.99299,     0.99399,     0.99499,       0.996,       0.997,       0.998,       0.999,           1]), array([[    0.83721,     0.83721,      0.8062,      0.7907,     0.78295,     0.78295,     0.78295,     0.78295,     0.77519,     0.76744,     0.75969,     0.75969,     0.75969,     0.75194,     0.75194,     0.75194,     0.74419,     0.74419,     0.73643,     0.73643,     0.73643,     0.73643,     0.72868,\n",
      "            0.72868,     0.72868,     0.72093,     0.72093,     0.72093,     0.72093,     0.72093,     0.72093,     0.72093,     0.72093,     0.72093,     0.71529,     0.71318,     0.71318,     0.71318,     0.71318,     0.71318,     0.70543,     0.70543,     0.70543,     0.70543,     0.70543,     0.70543,\n",
      "            0.70543,     0.70543,     0.70543,     0.70213,     0.69767,     0.69767,     0.69767,     0.69767,     0.69767,     0.69767,     0.69767,     0.68992,     0.68992,     0.68992,     0.68217,     0.68217,     0.67868,     0.67442,     0.67442,     0.67442,     0.67442,     0.67442,     0.67442,\n",
      "            0.67442,     0.67442,     0.67442,     0.67442,     0.67442,     0.67442,     0.67442,     0.67442,     0.67442,     0.67442,     0.67442,     0.67442,     0.67442,     0.67442,     0.67442,     0.67442,     0.67442,     0.67442,     0.67442,     0.67442,     0.67442,     0.67442,     0.67442,\n",
      "            0.67442,     0.66667,     0.66667,     0.66667,     0.66667,     0.66667,     0.66667,     0.66667,     0.66667,     0.66289,     0.65891,     0.65891,     0.65891,     0.65891,     0.65891,     0.65891,     0.65891,     0.65788,     0.65449,     0.65116,     0.65116,     0.65116,     0.65116,\n",
      "            0.65116,     0.65116,     0.65116,     0.65116,     0.65116,     0.65116,      0.6508,     0.64374,     0.64341,     0.64341,     0.64341,     0.64341,     0.64341,     0.64341,     0.64341,     0.64341,     0.64341,     0.64341,     0.64341,     0.64341,     0.64341,     0.64341,     0.64341,\n",
      "            0.64341,     0.64341,     0.64341,     0.64341,     0.64341,     0.64341,     0.64341,     0.64341,     0.64261,     0.64073,     0.63885,     0.63696,     0.63566,     0.63566,     0.63566,      0.6349,     0.62959,     0.62791,     0.62791,     0.62016,     0.62016,     0.62016,     0.62016,\n",
      "            0.62016,     0.62016,     0.62016,     0.62016,     0.62016,     0.62016,     0.62016,     0.62016,     0.62016,     0.62016,     0.62016,     0.62016,     0.62016,     0.62016,     0.62016,     0.62016,     0.62016,     0.62016,     0.62016,     0.62016,     0.62016,      0.6185,     0.61251,\n",
      "             0.6124,      0.6124,      0.6124,      0.6124,      0.6124,      0.6124,      0.6124,      0.6124,      0.6124,      0.6124,      0.6124,      0.6124,      0.6124,     0.61102,     0.60623,     0.60465,     0.60465,     0.60465,     0.60465,     0.60459,     0.60402,     0.60345,     0.60289,\n",
      "            0.60232,     0.60175,     0.60118,     0.60062,     0.60005,     0.59948,     0.59891,     0.59834,     0.59778,     0.59721,     0.59605,     0.59416,     0.59228,      0.5904,      0.5884,     0.58616,     0.58393,     0.58169,      0.5814,      0.5814,      0.5814,      0.5814,      0.5814,\n",
      "             0.5814,      0.5814,     0.58013,     0.57764,     0.57514,     0.57364,     0.57364,     0.57364,     0.57364,     0.57364,     0.57364,     0.57364,     0.57364,     0.57364,     0.57364,     0.57364,     0.57364,     0.57364,     0.57364,     0.57364,     0.57364,     0.57364,     0.57364,\n",
      "            0.57364,     0.57364,     0.57364,     0.57364,     0.57364,     0.57364,     0.57364,     0.57364,     0.57364,     0.57364,     0.57364,     0.57364,     0.57364,     0.57364,     0.57364,     0.57364,     0.57364,     0.57364,     0.57364,     0.57364,     0.57364,     0.57364,     0.57364,\n",
      "            0.57364,     0.57364,     0.57364,     0.57364,     0.57364,     0.57364,     0.57185,     0.56633,     0.56589,     0.56589,     0.56589,     0.56589,     0.56589,     0.56589,     0.56589,     0.56589,     0.56589,     0.56589,     0.56589,     0.56589,     0.56589,     0.56589,     0.56589,\n",
      "            0.56523,     0.56204,     0.55886,     0.55641,     0.55418,     0.55195,     0.54994,     0.54843,     0.54692,     0.54541,     0.54391,     0.54264,     0.54264,     0.54264,     0.54185,     0.53871,     0.53557,     0.53488,     0.53488,     0.53488,     0.53488,     0.53488,     0.53488,\n",
      "            0.53488,     0.53488,     0.53488,     0.53488,     0.53488,     0.53488,     0.53488,     0.53488,     0.53488,     0.53488,     0.53488,     0.53148,     0.52764,     0.52642,      0.5256,     0.52478,     0.52396,     0.52314,     0.52232,      0.5215,     0.52068,     0.51986,     0.51938,\n",
      "            0.51938,     0.51938,     0.51938,     0.51938,     0.51938,     0.51938,     0.51938,     0.51938,     0.51938,     0.51938,     0.51825,     0.51602,      0.5138,      0.5116,     0.51026,     0.50892,     0.50758,     0.50624,      0.5049,     0.50345,     0.50162,     0.49978,     0.49795,\n",
      "            0.49612,     0.49612,     0.49612,     0.49546,     0.49465,     0.49383,     0.49301,      0.4922,     0.49138,     0.49057,     0.48975,     0.48893,     0.48837,     0.48837,     0.48837,     0.48837,     0.48837,     0.48062,      0.4717,     0.46835,     0.46512,     0.46512,     0.46512,\n",
      "            0.46397,     0.46221,     0.46044,     0.45867,     0.44961,     0.44961,     0.44961,     0.44961,     0.44961,     0.44961,     0.44961,     0.44816,     0.44648,      0.4448,     0.44313,     0.44161,     0.44058,     0.43956,     0.43853,     0.43751,     0.43648,     0.43546,     0.43443,\n",
      "            0.42722,     0.42519,     0.42391,     0.42263,     0.42135,     0.42007,     0.41879,      0.4186,     0.41488,     0.40336,      0.4031,      0.4031,      0.4031,      0.4031,      0.4031,      0.4031,      0.4031,      0.4031,      0.4031,      0.4031,      0.4031,      0.4031,      0.4031,\n",
      "             0.4031,      0.4031,      0.4031,      0.4031,      0.4031,      0.4031,      0.4031,      0.4031,      0.4031,      0.4031,      0.4031,      0.4031,      0.4031,      0.4031,      0.4031,     0.40293,      0.3993,     0.39568,      0.3935,     0.39147,     0.38943,     0.38705,     0.38144,\n",
      "            0.37984,     0.37984,     0.37662,     0.37209,     0.36851,     0.36434,     0.36434,     0.36434,     0.36434,     0.36434,     0.36434,     0.36422,      0.3639,     0.36358,     0.36327,     0.36295,     0.36263,     0.36231,     0.36199,     0.36167,     0.36135,     0.36103,     0.36071,\n",
      "            0.36039,     0.36008,     0.35976,     0.35944,     0.35912,      0.3588,     0.35848,     0.35816,     0.35784,     0.35752,      0.3572,     0.35689,     0.35659,     0.35659,     0.35659,     0.35655,     0.35588,      0.3552,     0.35452,     0.35384,     0.35317,     0.35249,     0.35181,\n",
      "            0.35113,     0.35046,     0.34978,      0.3491,     0.34884,     0.34884,     0.34884,     0.34884,     0.34884,     0.34884,     0.34884,     0.34733,     0.33017,     0.32558,     0.32558,     0.32558,     0.32558,     0.32558,     0.32558,     0.32558,     0.32558,     0.32558,     0.32558,\n",
      "            0.32558,     0.32558,     0.32558,     0.32558,     0.32558,      0.3178,      0.3173,     0.31679,     0.31629,     0.31578,     0.31527,     0.31477,     0.31426,     0.31375,     0.31325,     0.31274,     0.31224,     0.31173,     0.31122,     0.31072,     0.31021,     0.30904,     0.30763,\n",
      "            0.30622,     0.30481,     0.30339,     0.30233,     0.30233,     0.29877,     0.29407,     0.29065,     0.28723,     0.28604,     0.28515,     0.28427,     0.28338,      0.2825,     0.28161,     0.28072,     0.27984,     0.27894,     0.27796,     0.27699,     0.27601,     0.27504,     0.27406,\n",
      "            0.27309,     0.27211,     0.27132,     0.27132,     0.27132,     0.27132,     0.27132,     0.27132,     0.27132,     0.27132,     0.27132,     0.27132,     0.27132,     0.27132,     0.27132,     0.27132,     0.27132,     0.27132,     0.27132,     0.26637,     0.26357,     0.26357,     0.26357,\n",
      "            0.26357,     0.25964,     0.25096,     0.24636,     0.24307,     0.23895,     0.23183,     0.22877,     0.22571,     0.22453,     0.22208,     0.21963,     0.21718,     0.21705,     0.21705,     0.21692,     0.21401,     0.21109,      0.2093,      0.2093,      0.2093,      0.2093,      0.2093,\n",
      "             0.2093,      0.2093,      0.2093,      0.2093,      0.2093,      0.2093,     0.20651,     0.20329,     0.20058,     0.19845,     0.19633,     0.19421,      0.1927,     0.19133,     0.18997,     0.18861,     0.18725,     0.18605,     0.18537,      0.1846,     0.18383,     0.18307,      0.1823,\n",
      "            0.18153,     0.18077,        0.18,     0.17924,     0.17847,     0.17829,     0.17829,     0.17829,     0.17829,     0.17393,     0.16873,     0.16459,     0.16279,     0.16279,     0.16279,     0.16279,     0.16279,     0.16279,     0.16279,     0.16279,     0.16279,     0.16246,     0.16006,\n",
      "            0.15766,     0.15526,     0.15391,     0.15268,     0.15144,      0.1502,     0.14896,     0.14772,     0.13926,     0.13816,     0.13706,     0.13596,     0.13487,     0.13377,     0.13267,     0.13112,     0.12769,     0.12427,     0.12159,     0.11897,     0.11634,     0.11628,     0.11628,\n",
      "            0.11628,     0.11628,     0.11628,     0.11628,     0.11628,     0.11628,     0.11628,     0.11628,     0.11628,     0.11628,     0.11628,     0.11628,     0.11628,     0.11628,     0.11628,     0.11628,     0.11628,     0.11628,     0.11628,     0.11628,     0.11628,     0.11628,     0.11628,\n",
      "            0.11628,     0.11628,     0.11628,     0.11628,     0.11628,     0.11628,     0.11382,     0.10853,     0.10853,      0.1049,     0.10105,     0.10078,     0.10078,     0.10063,    0.098398,    0.096168,    0.093938,    0.091046,    0.087691,    0.085271,    0.085271,    0.085271,    0.085271,\n",
      "           0.085271,    0.085271,    0.085271,    0.085271,    0.085271,    0.085271,    0.085271,    0.085271,    0.085271,    0.085271,    0.085271,    0.085271,    0.085271,    0.085271,    0.085271,    0.085271,    0.085271,      0.0851,    0.084247,    0.083395,    0.082542,    0.081689,    0.080837,\n",
      "           0.079984,    0.079131,    0.078279,    0.077355,     0.07586,    0.074364,    0.072869,    0.071373,    0.069877,    0.069767,    0.069767,    0.069767,    0.069767,    0.069767,    0.069767,    0.069767,    0.069268,    0.066416,    0.063564,    0.062016,    0.062016,    0.062016,    0.062016,\n",
      "           0.062016,    0.062016,    0.062016,    0.062016,    0.062016,    0.062016,    0.062016,    0.062016,    0.062016,    0.060854,    0.055887,     0.05269,    0.046967,    0.037648,    0.035104,     0.03256,    0.031008,    0.031008,    0.031008,    0.031008,    0.031008,    0.031008,    0.031008,\n",
      "           0.031008,    0.031008,    0.031008,    0.031008,    0.031008,    0.030893,    0.024187,    0.023256,    0.023256,    0.023256,    0.023256,    0.023256,    0.023256,    0.023256,    0.023256,     0.02243,    0.020529,    0.018627,    0.016726,    0.015504,    0.015504,    0.015504,    0.015504,\n",
      "           0.015504,    0.015504,    0.015504,    0.015504,    0.015504,    0.015504,    0.015504,    0.015504,    0.015504,    0.015504,    0.015504,    0.015504,    0.015504,    0.015504,    0.015504,    0.015504,    0.015504,    0.015504,    0.015504,    0.015504,    0.015504,    0.015504,    0.015504,\n",
      "           0.015504,    0.015504,    0.015504,    0.015504,    0.015504,    0.015504,    0.015504,    0.015504,    0.015504,    0.015504,   0.0077519,   0.0077519,   0.0077519,   0.0077519,   0.0077519,   0.0077519,   0.0077519,   0.0077519,   0.0077519,   0.0077519,   0.0077519,   0.0077519,   0.0077519,\n",
      "          0.0073364,   0.0040693,  0.00080214,           0,           0,           0,           0,           0,           0,           0,           0,           0,           0,           0,           0,           0,           0,           0,           0,           0,           0,           0,           0,\n",
      "                  0,           0,           0,           0,           0,           0,           0,           0,           0,           0,           0,           0,           0,           0,           0,           0,           0,           0,           0,           0,           0,           0,           0,\n",
      "                  0,           0,           0,           0,           0,           0,           0,           0,           0,           0,           0,           0,           0,           0,           0,           0,           0,           0,           0,           0,           0,           0,           0,\n",
      "                  0,           0,           0,           0,           0,           0,           0,           0,           0,           0,           0,           0,           0,           0,           0,           0,           0,           0,           0,           0,           0,           0,           0,\n",
      "                  0,           0,           0,           0,           0,           0,           0,           0,           0,           0,           0,           0,           0,           0,           0,           0,           0,           0,           0,           0,           0,           0,           0,\n",
      "                  0,           0,           0,           0,           0,           0,           0,           0,           0,           0,           0]]), 'Confidence', 'Recall']]\n",
      "fitness: np.float64(0.1264666917294474)\n",
      "keys: ['metrics/precision(B)', 'metrics/recall(B)', 'metrics/mAP50(B)', 'metrics/mAP50-95(B)']\n",
      "maps: array([    0.11167])\n",
      "names: {0: 'cellphone_use'}\n",
      "plot: True\n",
      "results_dict: {'metrics/precision(B)': np.float64(0.3366000145019258), 'metrics/recall(B)': np.float64(0.5736434108527132), 'metrics/mAP50(B)': np.float64(0.25967522094494944), 'metrics/mAP50-95(B)': np.float64(0.11166574403883608), 'fitness': np.float64(0.1264666917294474)}\n",
      "save_dir: WindowsPath('runs/detect/yolov8_cellphone22')\n",
      "speed: {'preprocess': 0.8473983289260633, 'inference': 53.60205122765074, 'loss': 0.0, 'postprocess': 0.6236341586591263}\n",
      "task: 'detect'\n"
     ]
    }
   ],
   "source": [
    "# Evaluate the model\n",
    "metrics = model.val()  # Evaluate on the validation set\n",
    "print(metrics)         # Print evaluation metrics (mAP, precision, recall, etc.)"
   ]
  },
  {
   "cell_type": "code",
   "execution_count": 4,
   "metadata": {},
   "outputs": [
    {
     "name": "stdout",
     "output_type": "stream",
     "text": [
      "\n",
      "image 1/1 d:\\repos\\Phone detection\\test.png: 352x640 (no detections), 150.2ms\n",
      "Speed: 3.1ms preprocess, 150.2ms inference, 1.1ms postprocess per image at shape (1, 3, 352, 640)\n"
     ]
    }
   ],
   "source": [
    "# Load the trained model\n",
    "model_trained = YOLO(\"runs/detect/yolov8_cellphone2/weights/best.pt\")\n",
    "\n",
    "# Run inference on an image\n",
    "results = model_trained(\"test.png\")\n",
    "\n",
    "# Visualize the results\n",
    "for result in results:\n",
    "    result.show()"
   ]
  },
  {
   "cell_type": "code",
   "execution_count": 5,
   "metadata": {},
   "outputs": [
    {
     "name": "stdout",
     "output_type": "stream",
     "text": [
      "\n",
      "video 1/1 (frame 1/1489) d:\\repos\\Phone detection\\0122_cut.mp4: 384x640 (no detections), 164.3ms\n",
      "video 1/1 (frame 2/1489) d:\\repos\\Phone detection\\0122_cut.mp4: 384x640 (no detections), 160.0ms\n",
      "video 1/1 (frame 3/1489) d:\\repos\\Phone detection\\0122_cut.mp4: 384x640 (no detections), 149.5ms\n",
      "video 1/1 (frame 4/1489) d:\\repos\\Phone detection\\0122_cut.mp4: 384x640 (no detections), 109.7ms\n",
      "video 1/1 (frame 5/1489) d:\\repos\\Phone detection\\0122_cut.mp4: 384x640 (no detections), 128.7ms\n",
      "video 1/1 (frame 6/1489) d:\\repos\\Phone detection\\0122_cut.mp4: 384x640 (no detections), 118.9ms\n",
      "video 1/1 (frame 7/1489) d:\\repos\\Phone detection\\0122_cut.mp4: 384x640 (no detections), 147.8ms\n",
      "video 1/1 (frame 8/1489) d:\\repos\\Phone detection\\0122_cut.mp4: 384x640 (no detections), 114.4ms\n",
      "video 1/1 (frame 9/1489) d:\\repos\\Phone detection\\0122_cut.mp4: 384x640 (no detections), 159.9ms\n",
      "video 1/1 (frame 10/1489) d:\\repos\\Phone detection\\0122_cut.mp4: 384x640 (no detections), 145.6ms\n",
      "video 1/1 (frame 11/1489) d:\\repos\\Phone detection\\0122_cut.mp4: 384x640 (no detections), 141.6ms\n",
      "video 1/1 (frame 12/1489) d:\\repos\\Phone detection\\0122_cut.mp4: 384x640 (no detections), 135.2ms\n",
      "video 1/1 (frame 13/1489) d:\\repos\\Phone detection\\0122_cut.mp4: 384x640 (no detections), 154.2ms\n",
      "video 1/1 (frame 14/1489) d:\\repos\\Phone detection\\0122_cut.mp4: 384x640 (no detections), 176.6ms\n",
      "video 1/1 (frame 15/1489) d:\\repos\\Phone detection\\0122_cut.mp4: 384x640 (no detections), 168.3ms\n",
      "video 1/1 (frame 16/1489) d:\\repos\\Phone detection\\0122_cut.mp4: 384x640 (no detections), 177.3ms\n",
      "video 1/1 (frame 17/1489) d:\\repos\\Phone detection\\0122_cut.mp4: 384x640 (no detections), 175.9ms\n",
      "video 1/1 (frame 18/1489) d:\\repos\\Phone detection\\0122_cut.mp4: 384x640 (no detections), 173.3ms\n",
      "video 1/1 (frame 19/1489) d:\\repos\\Phone detection\\0122_cut.mp4: 384x640 (no detections), 199.8ms\n",
      "video 1/1 (frame 20/1489) d:\\repos\\Phone detection\\0122_cut.mp4: 384x640 (no detections), 175.4ms\n",
      "video 1/1 (frame 21/1489) d:\\repos\\Phone detection\\0122_cut.mp4: 384x640 (no detections), 158.3ms\n",
      "video 1/1 (frame 22/1489) d:\\repos\\Phone detection\\0122_cut.mp4: 384x640 (no detections), 162.6ms\n",
      "video 1/1 (frame 23/1489) d:\\repos\\Phone detection\\0122_cut.mp4: 384x640 (no detections), 160.8ms\n",
      "video 1/1 (frame 24/1489) d:\\repos\\Phone detection\\0122_cut.mp4: 384x640 (no detections), 169.7ms\n",
      "video 1/1 (frame 25/1489) d:\\repos\\Phone detection\\0122_cut.mp4: 384x640 (no detections), 178.4ms\n",
      "video 1/1 (frame 26/1489) d:\\repos\\Phone detection\\0122_cut.mp4: 384x640 (no detections), 156.4ms\n",
      "video 1/1 (frame 27/1489) d:\\repos\\Phone detection\\0122_cut.mp4: 384x640 (no detections), 155.2ms\n",
      "video 1/1 (frame 28/1489) d:\\repos\\Phone detection\\0122_cut.mp4: 384x640 (no detections), 178.6ms\n",
      "video 1/1 (frame 29/1489) d:\\repos\\Phone detection\\0122_cut.mp4: 384x640 (no detections), 173.6ms\n",
      "video 1/1 (frame 30/1489) d:\\repos\\Phone detection\\0122_cut.mp4: 384x640 (no detections), 113.4ms\n",
      "video 1/1 (frame 31/1489) d:\\repos\\Phone detection\\0122_cut.mp4: 384x640 (no detections), 157.7ms\n",
      "video 1/1 (frame 32/1489) d:\\repos\\Phone detection\\0122_cut.mp4: 384x640 (no detections), 180.2ms\n",
      "video 1/1 (frame 33/1489) d:\\repos\\Phone detection\\0122_cut.mp4: 384x640 (no detections), 184.4ms\n",
      "video 1/1 (frame 34/1489) d:\\repos\\Phone detection\\0122_cut.mp4: 384x640 (no detections), 198.2ms\n",
      "video 1/1 (frame 35/1489) d:\\repos\\Phone detection\\0122_cut.mp4: 384x640 (no detections), 193.8ms\n",
      "video 1/1 (frame 36/1489) d:\\repos\\Phone detection\\0122_cut.mp4: 384x640 (no detections), 176.4ms\n",
      "video 1/1 (frame 37/1489) d:\\repos\\Phone detection\\0122_cut.mp4: 384x640 (no detections), 158.0ms\n",
      "video 1/1 (frame 38/1489) d:\\repos\\Phone detection\\0122_cut.mp4: 384x640 (no detections), 173.2ms\n",
      "video 1/1 (frame 39/1489) d:\\repos\\Phone detection\\0122_cut.mp4: 384x640 (no detections), 163.8ms\n",
      "video 1/1 (frame 40/1489) d:\\repos\\Phone detection\\0122_cut.mp4: 384x640 (no detections), 176.2ms\n",
      "video 1/1 (frame 41/1489) d:\\repos\\Phone detection\\0122_cut.mp4: 384x640 (no detections), 153.2ms\n",
      "video 1/1 (frame 42/1489) d:\\repos\\Phone detection\\0122_cut.mp4: 384x640 (no detections), 143.3ms\n",
      "video 1/1 (frame 43/1489) d:\\repos\\Phone detection\\0122_cut.mp4: 384x640 (no detections), 165.6ms\n",
      "video 1/1 (frame 44/1489) d:\\repos\\Phone detection\\0122_cut.mp4: 384x640 (no detections), 131.7ms\n",
      "video 1/1 (frame 45/1489) d:\\repos\\Phone detection\\0122_cut.mp4: 384x640 (no detections), 155.4ms\n",
      "video 1/1 (frame 46/1489) d:\\repos\\Phone detection\\0122_cut.mp4: 384x640 (no detections), 197.1ms\n",
      "video 1/1 (frame 47/1489) d:\\repos\\Phone detection\\0122_cut.mp4: 384x640 (no detections), 211.6ms\n",
      "video 1/1 (frame 48/1489) d:\\repos\\Phone detection\\0122_cut.mp4: 384x640 (no detections), 161.2ms\n",
      "video 1/1 (frame 49/1489) d:\\repos\\Phone detection\\0122_cut.mp4: 384x640 (no detections), 157.6ms\n",
      "video 1/1 (frame 50/1489) d:\\repos\\Phone detection\\0122_cut.mp4: 384x640 (no detections), 159.4ms\n",
      "video 1/1 (frame 51/1489) d:\\repos\\Phone detection\\0122_cut.mp4: 384x640 (no detections), 167.5ms\n",
      "video 1/1 (frame 52/1489) d:\\repos\\Phone detection\\0122_cut.mp4: 384x640 (no detections), 163.7ms\n",
      "video 1/1 (frame 53/1489) d:\\repos\\Phone detection\\0122_cut.mp4: 384x640 (no detections), 180.8ms\n",
      "video 1/1 (frame 54/1489) d:\\repos\\Phone detection\\0122_cut.mp4: 384x640 (no detections), 167.5ms\n",
      "video 1/1 (frame 55/1489) d:\\repos\\Phone detection\\0122_cut.mp4: 384x640 (no detections), 174.7ms\n",
      "video 1/1 (frame 56/1489) d:\\repos\\Phone detection\\0122_cut.mp4: 384x640 (no detections), 186.6ms\n",
      "video 1/1 (frame 57/1489) d:\\repos\\Phone detection\\0122_cut.mp4: 384x640 (no detections), 193.3ms\n",
      "video 1/1 (frame 58/1489) d:\\repos\\Phone detection\\0122_cut.mp4: 384x640 (no detections), 182.9ms\n",
      "video 1/1 (frame 59/1489) d:\\repos\\Phone detection\\0122_cut.mp4: 384x640 (no detections), 182.2ms\n",
      "video 1/1 (frame 60/1489) d:\\repos\\Phone detection\\0122_cut.mp4: 384x640 (no detections), 165.4ms\n",
      "video 1/1 (frame 61/1489) d:\\repos\\Phone detection\\0122_cut.mp4: 384x640 (no detections), 185.7ms\n",
      "video 1/1 (frame 62/1489) d:\\repos\\Phone detection\\0122_cut.mp4: 384x640 (no detections), 159.2ms\n",
      "video 1/1 (frame 63/1489) d:\\repos\\Phone detection\\0122_cut.mp4: 384x640 (no detections), 159.6ms\n",
      "video 1/1 (frame 64/1489) d:\\repos\\Phone detection\\0122_cut.mp4: 384x640 (no detections), 187.2ms\n",
      "video 1/1 (frame 65/1489) d:\\repos\\Phone detection\\0122_cut.mp4: 384x640 (no detections), 188.7ms\n",
      "video 1/1 (frame 66/1489) d:\\repos\\Phone detection\\0122_cut.mp4: 384x640 (no detections), 168.0ms\n",
      "video 1/1 (frame 67/1489) d:\\repos\\Phone detection\\0122_cut.mp4: 384x640 (no detections), 178.3ms\n",
      "video 1/1 (frame 68/1489) d:\\repos\\Phone detection\\0122_cut.mp4: 384x640 (no detections), 164.2ms\n",
      "video 1/1 (frame 69/1489) d:\\repos\\Phone detection\\0122_cut.mp4: 384x640 (no detections), 168.3ms\n",
      "video 1/1 (frame 70/1489) d:\\repos\\Phone detection\\0122_cut.mp4: 384x640 (no detections), 162.6ms\n",
      "video 1/1 (frame 71/1489) d:\\repos\\Phone detection\\0122_cut.mp4: 384x640 (no detections), 158.2ms\n",
      "video 1/1 (frame 72/1489) d:\\repos\\Phone detection\\0122_cut.mp4: 384x640 (no detections), 191.7ms\n",
      "video 1/1 (frame 73/1489) d:\\repos\\Phone detection\\0122_cut.mp4: 384x640 (no detections), 181.6ms\n",
      "video 1/1 (frame 74/1489) d:\\repos\\Phone detection\\0122_cut.mp4: 384x640 (no detections), 177.8ms\n",
      "video 1/1 (frame 75/1489) d:\\repos\\Phone detection\\0122_cut.mp4: 384x640 (no detections), 139.2ms\n",
      "video 1/1 (frame 76/1489) d:\\repos\\Phone detection\\0122_cut.mp4: 384x640 (no detections), 134.4ms\n",
      "video 1/1 (frame 77/1489) d:\\repos\\Phone detection\\0122_cut.mp4: 384x640 (no detections), 158.0ms\n",
      "video 1/1 (frame 78/1489) d:\\repos\\Phone detection\\0122_cut.mp4: 384x640 (no detections), 152.9ms\n",
      "video 1/1 (frame 79/1489) d:\\repos\\Phone detection\\0122_cut.mp4: 384x640 (no detections), 145.8ms\n",
      "video 1/1 (frame 80/1489) d:\\repos\\Phone detection\\0122_cut.mp4: 384x640 (no detections), 164.3ms\n",
      "video 1/1 (frame 81/1489) d:\\repos\\Phone detection\\0122_cut.mp4: 384x640 (no detections), 104.0ms\n",
      "video 1/1 (frame 82/1489) d:\\repos\\Phone detection\\0122_cut.mp4: 384x640 (no detections), 94.7ms\n",
      "video 1/1 (frame 83/1489) d:\\repos\\Phone detection\\0122_cut.mp4: 384x640 (no detections), 93.9ms\n",
      "video 1/1 (frame 84/1489) d:\\repos\\Phone detection\\0122_cut.mp4: 384x640 (no detections), 90.3ms\n",
      "video 1/1 (frame 85/1489) d:\\repos\\Phone detection\\0122_cut.mp4: 384x640 (no detections), 97.6ms\n",
      "video 1/1 (frame 86/1489) d:\\repos\\Phone detection\\0122_cut.mp4: 384x640 (no detections), 102.9ms\n",
      "video 1/1 (frame 87/1489) d:\\repos\\Phone detection\\0122_cut.mp4: 384x640 (no detections), 91.8ms\n",
      "video 1/1 (frame 88/1489) d:\\repos\\Phone detection\\0122_cut.mp4: 384x640 (no detections), 129.8ms\n",
      "video 1/1 (frame 89/1489) d:\\repos\\Phone detection\\0122_cut.mp4: 384x640 (no detections), 115.3ms\n",
      "video 1/1 (frame 90/1489) d:\\repos\\Phone detection\\0122_cut.mp4: 384x640 (no detections), 125.9ms\n",
      "video 1/1 (frame 91/1489) d:\\repos\\Phone detection\\0122_cut.mp4: 384x640 (no detections), 120.1ms\n",
      "video 1/1 (frame 92/1489) d:\\repos\\Phone detection\\0122_cut.mp4: 384x640 (no detections), 115.8ms\n",
      "video 1/1 (frame 93/1489) d:\\repos\\Phone detection\\0122_cut.mp4: 384x640 (no detections), 151.7ms\n",
      "video 1/1 (frame 94/1489) d:\\repos\\Phone detection\\0122_cut.mp4: 384x640 (no detections), 154.8ms\n",
      "video 1/1 (frame 95/1489) d:\\repos\\Phone detection\\0122_cut.mp4: 384x640 (no detections), 156.7ms\n",
      "video 1/1 (frame 96/1489) d:\\repos\\Phone detection\\0122_cut.mp4: 384x640 (no detections), 163.9ms\n",
      "video 1/1 (frame 97/1489) d:\\repos\\Phone detection\\0122_cut.mp4: 384x640 (no detections), 172.4ms\n",
      "video 1/1 (frame 98/1489) d:\\repos\\Phone detection\\0122_cut.mp4: 384x640 (no detections), 172.3ms\n",
      "video 1/1 (frame 99/1489) d:\\repos\\Phone detection\\0122_cut.mp4: 384x640 (no detections), 162.6ms\n",
      "video 1/1 (frame 100/1489) d:\\repos\\Phone detection\\0122_cut.mp4: 384x640 (no detections), 161.5ms\n",
      "video 1/1 (frame 101/1489) d:\\repos\\Phone detection\\0122_cut.mp4: 384x640 (no detections), 166.3ms\n",
      "video 1/1 (frame 102/1489) d:\\repos\\Phone detection\\0122_cut.mp4: 384x640 (no detections), 164.2ms\n",
      "video 1/1 (frame 103/1489) d:\\repos\\Phone detection\\0122_cut.mp4: 384x640 (no detections), 156.7ms\n",
      "video 1/1 (frame 104/1489) d:\\repos\\Phone detection\\0122_cut.mp4: 384x640 (no detections), 160.3ms\n",
      "video 1/1 (frame 105/1489) d:\\repos\\Phone detection\\0122_cut.mp4: 384x640 (no detections), 176.9ms\n",
      "video 1/1 (frame 106/1489) d:\\repos\\Phone detection\\0122_cut.mp4: 384x640 (no detections), 154.3ms\n",
      "video 1/1 (frame 107/1489) d:\\repos\\Phone detection\\0122_cut.mp4: 384x640 (no detections), 135.5ms\n",
      "video 1/1 (frame 108/1489) d:\\repos\\Phone detection\\0122_cut.mp4: 384x640 (no detections), 170.9ms\n",
      "video 1/1 (frame 109/1489) d:\\repos\\Phone detection\\0122_cut.mp4: 384x640 (no detections), 174.1ms\n",
      "video 1/1 (frame 110/1489) d:\\repos\\Phone detection\\0122_cut.mp4: 384x640 (no detections), 135.5ms\n",
      "video 1/1 (frame 111/1489) d:\\repos\\Phone detection\\0122_cut.mp4: 384x640 (no detections), 185.6ms\n",
      "video 1/1 (frame 112/1489) d:\\repos\\Phone detection\\0122_cut.mp4: 384x640 (no detections), 195.8ms\n",
      "video 1/1 (frame 113/1489) d:\\repos\\Phone detection\\0122_cut.mp4: 384x640 (no detections), 178.4ms\n",
      "video 1/1 (frame 114/1489) d:\\repos\\Phone detection\\0122_cut.mp4: 384x640 (no detections), 202.1ms\n",
      "video 1/1 (frame 115/1489) d:\\repos\\Phone detection\\0122_cut.mp4: 384x640 (no detections), 173.7ms\n",
      "video 1/1 (frame 116/1489) d:\\repos\\Phone detection\\0122_cut.mp4: 384x640 (no detections), 169.7ms\n",
      "video 1/1 (frame 117/1489) d:\\repos\\Phone detection\\0122_cut.mp4: 384x640 (no detections), 164.1ms\n",
      "video 1/1 (frame 118/1489) d:\\repos\\Phone detection\\0122_cut.mp4: 384x640 (no detections), 174.3ms\n",
      "video 1/1 (frame 119/1489) d:\\repos\\Phone detection\\0122_cut.mp4: 384x640 (no detections), 161.8ms\n",
      "video 1/1 (frame 120/1489) d:\\repos\\Phone detection\\0122_cut.mp4: 384x640 (no detections), 148.3ms\n",
      "video 1/1 (frame 121/1489) d:\\repos\\Phone detection\\0122_cut.mp4: 384x640 (no detections), 154.1ms\n",
      "video 1/1 (frame 122/1489) d:\\repos\\Phone detection\\0122_cut.mp4: 384x640 (no detections), 135.9ms\n",
      "video 1/1 (frame 123/1489) d:\\repos\\Phone detection\\0122_cut.mp4: 384x640 (no detections), 169.9ms\n",
      "video 1/1 (frame 124/1489) d:\\repos\\Phone detection\\0122_cut.mp4: 384x640 (no detections), 178.3ms\n",
      "video 1/1 (frame 125/1489) d:\\repos\\Phone detection\\0122_cut.mp4: 384x640 (no detections), 173.4ms\n",
      "video 1/1 (frame 126/1489) d:\\repos\\Phone detection\\0122_cut.mp4: 384x640 (no detections), 165.1ms\n",
      "video 1/1 (frame 127/1489) d:\\repos\\Phone detection\\0122_cut.mp4: 384x640 (no detections), 152.9ms\n",
      "video 1/1 (frame 128/1489) d:\\repos\\Phone detection\\0122_cut.mp4: 384x640 (no detections), 141.1ms\n",
      "video 1/1 (frame 129/1489) d:\\repos\\Phone detection\\0122_cut.mp4: 384x640 (no detections), 165.3ms\n",
      "video 1/1 (frame 130/1489) d:\\repos\\Phone detection\\0122_cut.mp4: 384x640 (no detections), 217.4ms\n",
      "video 1/1 (frame 131/1489) d:\\repos\\Phone detection\\0122_cut.mp4: 384x640 (no detections), 153.6ms\n",
      "video 1/1 (frame 132/1489) d:\\repos\\Phone detection\\0122_cut.mp4: 384x640 (no detections), 165.1ms\n",
      "video 1/1 (frame 133/1489) d:\\repos\\Phone detection\\0122_cut.mp4: 384x640 (no detections), 214.5ms\n",
      "video 1/1 (frame 134/1489) d:\\repos\\Phone detection\\0122_cut.mp4: 384x640 (no detections), 159.0ms\n",
      "video 1/1 (frame 135/1489) d:\\repos\\Phone detection\\0122_cut.mp4: 384x640 (no detections), 174.0ms\n",
      "video 1/1 (frame 136/1489) d:\\repos\\Phone detection\\0122_cut.mp4: 384x640 (no detections), 166.0ms\n",
      "video 1/1 (frame 137/1489) d:\\repos\\Phone detection\\0122_cut.mp4: 384x640 (no detections), 161.8ms\n",
      "video 1/1 (frame 138/1489) d:\\repos\\Phone detection\\0122_cut.mp4: 384x640 (no detections), 143.4ms\n",
      "video 1/1 (frame 139/1489) d:\\repos\\Phone detection\\0122_cut.mp4: 384x640 (no detections), 178.1ms\n",
      "video 1/1 (frame 140/1489) d:\\repos\\Phone detection\\0122_cut.mp4: 384x640 (no detections), 170.3ms\n",
      "video 1/1 (frame 141/1489) d:\\repos\\Phone detection\\0122_cut.mp4: 384x640 (no detections), 159.1ms\n",
      "video 1/1 (frame 142/1489) d:\\repos\\Phone detection\\0122_cut.mp4: 384x640 (no detections), 172.7ms\n",
      "video 1/1 (frame 143/1489) d:\\repos\\Phone detection\\0122_cut.mp4: 384x640 (no detections), 171.5ms\n",
      "video 1/1 (frame 144/1489) d:\\repos\\Phone detection\\0122_cut.mp4: 384x640 (no detections), 152.8ms\n",
      "video 1/1 (frame 145/1489) d:\\repos\\Phone detection\\0122_cut.mp4: 384x640 (no detections), 177.4ms\n",
      "video 1/1 (frame 146/1489) d:\\repos\\Phone detection\\0122_cut.mp4: 384x640 (no detections), 165.7ms\n",
      "video 1/1 (frame 147/1489) d:\\repos\\Phone detection\\0122_cut.mp4: 384x640 (no detections), 194.0ms\n",
      "video 1/1 (frame 148/1489) d:\\repos\\Phone detection\\0122_cut.mp4: 384x640 (no detections), 200.3ms\n",
      "video 1/1 (frame 149/1489) d:\\repos\\Phone detection\\0122_cut.mp4: 384x640 (no detections), 180.4ms\n",
      "video 1/1 (frame 150/1489) d:\\repos\\Phone detection\\0122_cut.mp4: 384x640 (no detections), 177.9ms\n",
      "video 1/1 (frame 151/1489) d:\\repos\\Phone detection\\0122_cut.mp4: 384x640 (no detections), 154.8ms\n",
      "video 1/1 (frame 152/1489) d:\\repos\\Phone detection\\0122_cut.mp4: 384x640 (no detections), 178.1ms\n",
      "video 1/1 (frame 153/1489) d:\\repos\\Phone detection\\0122_cut.mp4: 384x640 (no detections), 203.8ms\n",
      "video 1/1 (frame 154/1489) d:\\repos\\Phone detection\\0122_cut.mp4: 384x640 (no detections), 209.8ms\n",
      "video 1/1 (frame 155/1489) d:\\repos\\Phone detection\\0122_cut.mp4: 384x640 (no detections), 191.8ms\n",
      "video 1/1 (frame 156/1489) d:\\repos\\Phone detection\\0122_cut.mp4: 384x640 (no detections), 148.2ms\n",
      "video 1/1 (frame 157/1489) d:\\repos\\Phone detection\\0122_cut.mp4: 384x640 (no detections), 193.3ms\n",
      "video 1/1 (frame 158/1489) d:\\repos\\Phone detection\\0122_cut.mp4: 384x640 (no detections), 204.3ms\n",
      "video 1/1 (frame 159/1489) d:\\repos\\Phone detection\\0122_cut.mp4: 384x640 (no detections), 120.8ms\n",
      "video 1/1 (frame 160/1489) d:\\repos\\Phone detection\\0122_cut.mp4: 384x640 (no detections), 106.6ms\n",
      "video 1/1 (frame 161/1489) d:\\repos\\Phone detection\\0122_cut.mp4: 384x640 (no detections), 138.3ms\n",
      "video 1/1 (frame 162/1489) d:\\repos\\Phone detection\\0122_cut.mp4: 384x640 (no detections), 153.1ms\n",
      "video 1/1 (frame 163/1489) d:\\repos\\Phone detection\\0122_cut.mp4: 384x640 (no detections), 140.5ms\n",
      "video 1/1 (frame 164/1489) d:\\repos\\Phone detection\\0122_cut.mp4: 384x640 (no detections), 123.5ms\n",
      "video 1/1 (frame 165/1489) d:\\repos\\Phone detection\\0122_cut.mp4: 384x640 (no detections), 113.5ms\n",
      "video 1/1 (frame 166/1489) d:\\repos\\Phone detection\\0122_cut.mp4: 384x640 (no detections), 159.3ms\n",
      "video 1/1 (frame 167/1489) d:\\repos\\Phone detection\\0122_cut.mp4: 384x640 (no detections), 165.7ms\n",
      "video 1/1 (frame 168/1489) d:\\repos\\Phone detection\\0122_cut.mp4: 384x640 (no detections), 193.7ms\n",
      "video 1/1 (frame 169/1489) d:\\repos\\Phone detection\\0122_cut.mp4: 384x640 (no detections), 161.7ms\n",
      "video 1/1 (frame 170/1489) d:\\repos\\Phone detection\\0122_cut.mp4: 384x640 (no detections), 165.8ms\n",
      "video 1/1 (frame 171/1489) d:\\repos\\Phone detection\\0122_cut.mp4: 384x640 (no detections), 174.3ms\n",
      "video 1/1 (frame 172/1489) d:\\repos\\Phone detection\\0122_cut.mp4: 384x640 (no detections), 156.9ms\n",
      "video 1/1 (frame 173/1489) d:\\repos\\Phone detection\\0122_cut.mp4: 384x640 (no detections), 165.0ms\n",
      "video 1/1 (frame 174/1489) d:\\repos\\Phone detection\\0122_cut.mp4: 384x640 (no detections), 167.6ms\n",
      "video 1/1 (frame 175/1489) d:\\repos\\Phone detection\\0122_cut.mp4: 384x640 (no detections), 135.8ms\n",
      "video 1/1 (frame 176/1489) d:\\repos\\Phone detection\\0122_cut.mp4: 384x640 (no detections), 161.4ms\n",
      "video 1/1 (frame 177/1489) d:\\repos\\Phone detection\\0122_cut.mp4: 384x640 (no detections), 153.8ms\n",
      "video 1/1 (frame 178/1489) d:\\repos\\Phone detection\\0122_cut.mp4: 384x640 (no detections), 164.3ms\n",
      "video 1/1 (frame 179/1489) d:\\repos\\Phone detection\\0122_cut.mp4: 384x640 (no detections), 150.1ms\n",
      "video 1/1 (frame 180/1489) d:\\repos\\Phone detection\\0122_cut.mp4: 384x640 (no detections), 156.1ms\n",
      "video 1/1 (frame 181/1489) d:\\repos\\Phone detection\\0122_cut.mp4: 384x640 (no detections), 164.6ms\n",
      "video 1/1 (frame 182/1489) d:\\repos\\Phone detection\\0122_cut.mp4: 384x640 (no detections), 169.6ms\n",
      "video 1/1 (frame 183/1489) d:\\repos\\Phone detection\\0122_cut.mp4: 384x640 (no detections), 180.1ms\n",
      "video 1/1 (frame 184/1489) d:\\repos\\Phone detection\\0122_cut.mp4: 384x640 (no detections), 131.9ms\n",
      "video 1/1 (frame 185/1489) d:\\repos\\Phone detection\\0122_cut.mp4: 384x640 (no detections), 133.4ms\n",
      "video 1/1 (frame 186/1489) d:\\repos\\Phone detection\\0122_cut.mp4: 384x640 (no detections), 146.8ms\n",
      "video 1/1 (frame 187/1489) d:\\repos\\Phone detection\\0122_cut.mp4: 384x640 (no detections), 145.8ms\n",
      "video 1/1 (frame 188/1489) d:\\repos\\Phone detection\\0122_cut.mp4: 384x640 (no detections), 145.8ms\n",
      "video 1/1 (frame 189/1489) d:\\repos\\Phone detection\\0122_cut.mp4: 384x640 (no detections), 139.6ms\n",
      "video 1/1 (frame 190/1489) d:\\repos\\Phone detection\\0122_cut.mp4: 384x640 (no detections), 131.5ms\n",
      "video 1/1 (frame 191/1489) d:\\repos\\Phone detection\\0122_cut.mp4: 384x640 (no detections), 135.7ms\n",
      "video 1/1 (frame 192/1489) d:\\repos\\Phone detection\\0122_cut.mp4: 384x640 (no detections), 122.9ms\n",
      "video 1/1 (frame 193/1489) d:\\repos\\Phone detection\\0122_cut.mp4: 384x640 (no detections), 154.8ms\n",
      "video 1/1 (frame 194/1489) d:\\repos\\Phone detection\\0122_cut.mp4: 384x640 (no detections), 157.5ms\n",
      "video 1/1 (frame 195/1489) d:\\repos\\Phone detection\\0122_cut.mp4: 384x640 (no detections), 150.9ms\n",
      "video 1/1 (frame 196/1489) d:\\repos\\Phone detection\\0122_cut.mp4: 384x640 (no detections), 154.3ms\n",
      "video 1/1 (frame 197/1489) d:\\repos\\Phone detection\\0122_cut.mp4: 384x640 (no detections), 124.5ms\n",
      "video 1/1 (frame 198/1489) d:\\repos\\Phone detection\\0122_cut.mp4: 384x640 (no detections), 110.0ms\n",
      "video 1/1 (frame 199/1489) d:\\repos\\Phone detection\\0122_cut.mp4: 384x640 (no detections), 105.2ms\n",
      "video 1/1 (frame 200/1489) d:\\repos\\Phone detection\\0122_cut.mp4: 384x640 (no detections), 102.3ms\n",
      "video 1/1 (frame 201/1489) d:\\repos\\Phone detection\\0122_cut.mp4: 384x640 (no detections), 89.9ms\n",
      "video 1/1 (frame 202/1489) d:\\repos\\Phone detection\\0122_cut.mp4: 384x640 (no detections), 95.8ms\n",
      "video 1/1 (frame 203/1489) d:\\repos\\Phone detection\\0122_cut.mp4: 384x640 (no detections), 102.3ms\n",
      "video 1/1 (frame 204/1489) d:\\repos\\Phone detection\\0122_cut.mp4: 384x640 (no detections), 165.9ms\n",
      "video 1/1 (frame 205/1489) d:\\repos\\Phone detection\\0122_cut.mp4: 384x640 (no detections), 173.3ms\n",
      "video 1/1 (frame 206/1489) d:\\repos\\Phone detection\\0122_cut.mp4: 384x640 (no detections), 151.0ms\n",
      "video 1/1 (frame 207/1489) d:\\repos\\Phone detection\\0122_cut.mp4: 384x640 (no detections), 151.9ms\n",
      "video 1/1 (frame 208/1489) d:\\repos\\Phone detection\\0122_cut.mp4: 384x640 (no detections), 122.2ms\n",
      "video 1/1 (frame 209/1489) d:\\repos\\Phone detection\\0122_cut.mp4: 384x640 (no detections), 121.7ms\n",
      "video 1/1 (frame 210/1489) d:\\repos\\Phone detection\\0122_cut.mp4: 384x640 (no detections), 147.3ms\n",
      "video 1/1 (frame 211/1489) d:\\repos\\Phone detection\\0122_cut.mp4: 384x640 (no detections), 142.7ms\n",
      "video 1/1 (frame 212/1489) d:\\repos\\Phone detection\\0122_cut.mp4: 384x640 (no detections), 157.1ms\n",
      "video 1/1 (frame 213/1489) d:\\repos\\Phone detection\\0122_cut.mp4: 384x640 (no detections), 171.9ms\n",
      "video 1/1 (frame 214/1489) d:\\repos\\Phone detection\\0122_cut.mp4: 384x640 (no detections), 173.8ms\n",
      "video 1/1 (frame 215/1489) d:\\repos\\Phone detection\\0122_cut.mp4: 384x640 (no detections), 162.3ms\n",
      "video 1/1 (frame 216/1489) d:\\repos\\Phone detection\\0122_cut.mp4: 384x640 (no detections), 165.6ms\n",
      "video 1/1 (frame 217/1489) d:\\repos\\Phone detection\\0122_cut.mp4: 384x640 (no detections), 177.2ms\n",
      "video 1/1 (frame 218/1489) d:\\repos\\Phone detection\\0122_cut.mp4: 384x640 (no detections), 168.9ms\n",
      "video 1/1 (frame 219/1489) d:\\repos\\Phone detection\\0122_cut.mp4: 384x640 (no detections), 171.5ms\n",
      "video 1/1 (frame 220/1489) d:\\repos\\Phone detection\\0122_cut.mp4: 384x640 (no detections), 175.9ms\n",
      "video 1/1 (frame 221/1489) d:\\repos\\Phone detection\\0122_cut.mp4: 384x640 (no detections), 163.3ms\n",
      "video 1/1 (frame 222/1489) d:\\repos\\Phone detection\\0122_cut.mp4: 384x640 (no detections), 146.2ms\n",
      "video 1/1 (frame 223/1489) d:\\repos\\Phone detection\\0122_cut.mp4: 384x640 (no detections), 157.9ms\n",
      "video 1/1 (frame 224/1489) d:\\repos\\Phone detection\\0122_cut.mp4: 384x640 (no detections), 179.7ms\n",
      "video 1/1 (frame 225/1489) d:\\repos\\Phone detection\\0122_cut.mp4: 384x640 (no detections), 171.0ms\n",
      "video 1/1 (frame 226/1489) d:\\repos\\Phone detection\\0122_cut.mp4: 384x640 (no detections), 162.7ms\n",
      "video 1/1 (frame 227/1489) d:\\repos\\Phone detection\\0122_cut.mp4: 384x640 (no detections), 150.4ms\n",
      "video 1/1 (frame 228/1489) d:\\repos\\Phone detection\\0122_cut.mp4: 384x640 (no detections), 153.1ms\n",
      "video 1/1 (frame 229/1489) d:\\repos\\Phone detection\\0122_cut.mp4: 384x640 (no detections), 167.6ms\n",
      "video 1/1 (frame 230/1489) d:\\repos\\Phone detection\\0122_cut.mp4: 384x640 (no detections), 156.9ms\n",
      "video 1/1 (frame 231/1489) d:\\repos\\Phone detection\\0122_cut.mp4: 384x640 (no detections), 175.7ms\n",
      "video 1/1 (frame 232/1489) d:\\repos\\Phone detection\\0122_cut.mp4: 384x640 (no detections), 187.7ms\n",
      "video 1/1 (frame 233/1489) d:\\repos\\Phone detection\\0122_cut.mp4: 384x640 (no detections), 170.4ms\n",
      "video 1/1 (frame 234/1489) d:\\repos\\Phone detection\\0122_cut.mp4: 384x640 (no detections), 152.2ms\n",
      "video 1/1 (frame 235/1489) d:\\repos\\Phone detection\\0122_cut.mp4: 384x640 (no detections), 184.7ms\n",
      "video 1/1 (frame 236/1489) d:\\repos\\Phone detection\\0122_cut.mp4: 384x640 (no detections), 169.1ms\n",
      "video 1/1 (frame 237/1489) d:\\repos\\Phone detection\\0122_cut.mp4: 384x640 (no detections), 154.6ms\n",
      "video 1/1 (frame 238/1489) d:\\repos\\Phone detection\\0122_cut.mp4: 384x640 (no detections), 168.8ms\n",
      "video 1/1 (frame 239/1489) d:\\repos\\Phone detection\\0122_cut.mp4: 384x640 (no detections), 144.9ms\n",
      "video 1/1 (frame 240/1489) d:\\repos\\Phone detection\\0122_cut.mp4: 384x640 (no detections), 133.2ms\n",
      "video 1/1 (frame 241/1489) d:\\repos\\Phone detection\\0122_cut.mp4: 384x640 (no detections), 156.1ms\n",
      "video 1/1 (frame 242/1489) d:\\repos\\Phone detection\\0122_cut.mp4: 384x640 (no detections), 167.2ms\n",
      "video 1/1 (frame 243/1489) d:\\repos\\Phone detection\\0122_cut.mp4: 384x640 (no detections), 156.8ms\n",
      "video 1/1 (frame 244/1489) d:\\repos\\Phone detection\\0122_cut.mp4: 384x640 (no detections), 150.6ms\n",
      "video 1/1 (frame 245/1489) d:\\repos\\Phone detection\\0122_cut.mp4: 384x640 (no detections), 159.7ms\n",
      "video 1/1 (frame 246/1489) d:\\repos\\Phone detection\\0122_cut.mp4: 384x640 (no detections), 170.8ms\n",
      "video 1/1 (frame 247/1489) d:\\repos\\Phone detection\\0122_cut.mp4: 384x640 (no detections), 194.2ms\n",
      "video 1/1 (frame 248/1489) d:\\repos\\Phone detection\\0122_cut.mp4: 384x640 (no detections), 177.6ms\n",
      "video 1/1 (frame 249/1489) d:\\repos\\Phone detection\\0122_cut.mp4: 384x640 (no detections), 181.2ms\n",
      "video 1/1 (frame 250/1489) d:\\repos\\Phone detection\\0122_cut.mp4: 384x640 (no detections), 153.4ms\n",
      "video 1/1 (frame 251/1489) d:\\repos\\Phone detection\\0122_cut.mp4: 384x640 (no detections), 180.8ms\n",
      "video 1/1 (frame 252/1489) d:\\repos\\Phone detection\\0122_cut.mp4: 384x640 (no detections), 193.9ms\n",
      "video 1/1 (frame 253/1489) d:\\repos\\Phone detection\\0122_cut.mp4: 384x640 (no detections), 137.9ms\n",
      "video 1/1 (frame 254/1489) d:\\repos\\Phone detection\\0122_cut.mp4: 384x640 (no detections), 149.1ms\n",
      "video 1/1 (frame 255/1489) d:\\repos\\Phone detection\\0122_cut.mp4: 384x640 (no detections), 142.0ms\n",
      "video 1/1 (frame 256/1489) d:\\repos\\Phone detection\\0122_cut.mp4: 384x640 (no detections), 153.6ms\n",
      "video 1/1 (frame 257/1489) d:\\repos\\Phone detection\\0122_cut.mp4: 384x640 (no detections), 176.6ms\n",
      "video 1/1 (frame 258/1489) d:\\repos\\Phone detection\\0122_cut.mp4: 384x640 (no detections), 185.6ms\n",
      "video 1/1 (frame 259/1489) d:\\repos\\Phone detection\\0122_cut.mp4: 384x640 (no detections), 185.6ms\n",
      "video 1/1 (frame 260/1489) d:\\repos\\Phone detection\\0122_cut.mp4: 384x640 (no detections), 158.2ms\n",
      "video 1/1 (frame 261/1489) d:\\repos\\Phone detection\\0122_cut.mp4: 384x640 (no detections), 158.0ms\n",
      "video 1/1 (frame 262/1489) d:\\repos\\Phone detection\\0122_cut.mp4: 384x640 (no detections), 167.9ms\n",
      "video 1/1 (frame 263/1489) d:\\repos\\Phone detection\\0122_cut.mp4: 384x640 (no detections), 150.2ms\n",
      "video 1/1 (frame 264/1489) d:\\repos\\Phone detection\\0122_cut.mp4: 384x640 (no detections), 136.6ms\n",
      "video 1/1 (frame 265/1489) d:\\repos\\Phone detection\\0122_cut.mp4: 384x640 (no detections), 107.5ms\n",
      "video 1/1 (frame 266/1489) d:\\repos\\Phone detection\\0122_cut.mp4: 384x640 (no detections), 101.0ms\n",
      "video 1/1 (frame 267/1489) d:\\repos\\Phone detection\\0122_cut.mp4: 384x640 (no detections), 96.3ms\n",
      "video 1/1 (frame 268/1489) d:\\repos\\Phone detection\\0122_cut.mp4: 384x640 (no detections), 100.1ms\n",
      "video 1/1 (frame 269/1489) d:\\repos\\Phone detection\\0122_cut.mp4: 384x640 (no detections), 89.4ms\n",
      "video 1/1 (frame 270/1489) d:\\repos\\Phone detection\\0122_cut.mp4: 384x640 (no detections), 122.1ms\n",
      "video 1/1 (frame 271/1489) d:\\repos\\Phone detection\\0122_cut.mp4: 384x640 (no detections), 118.4ms\n",
      "video 1/1 (frame 272/1489) d:\\repos\\Phone detection\\0122_cut.mp4: 384x640 (no detections), 136.1ms\n",
      "video 1/1 (frame 273/1489) d:\\repos\\Phone detection\\0122_cut.mp4: 384x640 (no detections), 113.6ms\n",
      "video 1/1 (frame 274/1489) d:\\repos\\Phone detection\\0122_cut.mp4: 384x640 (no detections), 95.1ms\n",
      "video 1/1 (frame 275/1489) d:\\repos\\Phone detection\\0122_cut.mp4: 384x640 (no detections), 132.1ms\n",
      "video 1/1 (frame 276/1489) d:\\repos\\Phone detection\\0122_cut.mp4: 384x640 (no detections), 167.7ms\n",
      "video 1/1 (frame 277/1489) d:\\repos\\Phone detection\\0122_cut.mp4: 384x640 (no detections), 157.4ms\n",
      "video 1/1 (frame 278/1489) d:\\repos\\Phone detection\\0122_cut.mp4: 384x640 (no detections), 166.3ms\n",
      "video 1/1 (frame 279/1489) d:\\repos\\Phone detection\\0122_cut.mp4: 384x640 (no detections), 190.1ms\n",
      "video 1/1 (frame 280/1489) d:\\repos\\Phone detection\\0122_cut.mp4: 384x640 (no detections), 137.1ms\n",
      "video 1/1 (frame 281/1489) d:\\repos\\Phone detection\\0122_cut.mp4: 384x640 (no detections), 114.7ms\n",
      "video 1/1 (frame 282/1489) d:\\repos\\Phone detection\\0122_cut.mp4: 384x640 (no detections), 111.2ms\n",
      "video 1/1 (frame 283/1489) d:\\repos\\Phone detection\\0122_cut.mp4: 384x640 (no detections), 88.7ms\n",
      "video 1/1 (frame 284/1489) d:\\repos\\Phone detection\\0122_cut.mp4: 384x640 (no detections), 87.0ms\n",
      "video 1/1 (frame 285/1489) d:\\repos\\Phone detection\\0122_cut.mp4: 384x640 (no detections), 85.0ms\n",
      "video 1/1 (frame 286/1489) d:\\repos\\Phone detection\\0122_cut.mp4: 384x640 (no detections), 95.8ms\n",
      "video 1/1 (frame 287/1489) d:\\repos\\Phone detection\\0122_cut.mp4: 384x640 (no detections), 86.1ms\n",
      "video 1/1 (frame 288/1489) d:\\repos\\Phone detection\\0122_cut.mp4: 384x640 (no detections), 85.1ms\n",
      "video 1/1 (frame 289/1489) d:\\repos\\Phone detection\\0122_cut.mp4: 384x640 (no detections), 159.0ms\n",
      "video 1/1 (frame 290/1489) d:\\repos\\Phone detection\\0122_cut.mp4: 384x640 (no detections), 133.3ms\n",
      "video 1/1 (frame 291/1489) d:\\repos\\Phone detection\\0122_cut.mp4: 384x640 (no detections), 198.6ms\n",
      "video 1/1 (frame 292/1489) d:\\repos\\Phone detection\\0122_cut.mp4: 384x640 (no detections), 116.4ms\n",
      "video 1/1 (frame 293/1489) d:\\repos\\Phone detection\\0122_cut.mp4: 384x640 (no detections), 135.9ms\n",
      "video 1/1 (frame 294/1489) d:\\repos\\Phone detection\\0122_cut.mp4: 384x640 (no detections), 127.7ms\n",
      "video 1/1 (frame 295/1489) d:\\repos\\Phone detection\\0122_cut.mp4: 384x640 (no detections), 98.9ms\n",
      "video 1/1 (frame 296/1489) d:\\repos\\Phone detection\\0122_cut.mp4: 384x640 (no detections), 117.0ms\n",
      "video 1/1 (frame 297/1489) d:\\repos\\Phone detection\\0122_cut.mp4: 384x640 (no detections), 124.3ms\n",
      "video 1/1 (frame 298/1489) d:\\repos\\Phone detection\\0122_cut.mp4: 384x640 (no detections), 130.9ms\n",
      "video 1/1 (frame 299/1489) d:\\repos\\Phone detection\\0122_cut.mp4: 384x640 (no detections), 111.6ms\n",
      "video 1/1 (frame 300/1489) d:\\repos\\Phone detection\\0122_cut.mp4: 384x640 (no detections), 124.9ms\n",
      "video 1/1 (frame 301/1489) d:\\repos\\Phone detection\\0122_cut.mp4: 384x640 (no detections), 163.7ms\n",
      "video 1/1 (frame 302/1489) d:\\repos\\Phone detection\\0122_cut.mp4: 384x640 (no detections), 132.8ms\n",
      "video 1/1 (frame 303/1489) d:\\repos\\Phone detection\\0122_cut.mp4: 384x640 (no detections), 122.9ms\n",
      "video 1/1 (frame 304/1489) d:\\repos\\Phone detection\\0122_cut.mp4: 384x640 (no detections), 115.6ms\n",
      "video 1/1 (frame 305/1489) d:\\repos\\Phone detection\\0122_cut.mp4: 384x640 (no detections), 105.1ms\n",
      "video 1/1 (frame 306/1489) d:\\repos\\Phone detection\\0122_cut.mp4: 384x640 (no detections), 150.0ms\n",
      "video 1/1 (frame 307/1489) d:\\repos\\Phone detection\\0122_cut.mp4: 384x640 (no detections), 150.3ms\n",
      "video 1/1 (frame 308/1489) d:\\repos\\Phone detection\\0122_cut.mp4: 384x640 (no detections), 139.2ms\n",
      "video 1/1 (frame 309/1489) d:\\repos\\Phone detection\\0122_cut.mp4: 384x640 (no detections), 153.2ms\n",
      "video 1/1 (frame 310/1489) d:\\repos\\Phone detection\\0122_cut.mp4: 384x640 (no detections), 135.7ms\n",
      "video 1/1 (frame 311/1489) d:\\repos\\Phone detection\\0122_cut.mp4: 384x640 (no detections), 163.3ms\n",
      "video 1/1 (frame 312/1489) d:\\repos\\Phone detection\\0122_cut.mp4: 384x640 (no detections), 165.9ms\n",
      "video 1/1 (frame 313/1489) d:\\repos\\Phone detection\\0122_cut.mp4: 384x640 (no detections), 190.5ms\n",
      "video 1/1 (frame 314/1489) d:\\repos\\Phone detection\\0122_cut.mp4: 384x640 (no detections), 173.9ms\n",
      "video 1/1 (frame 315/1489) d:\\repos\\Phone detection\\0122_cut.mp4: 384x640 (no detections), 107.4ms\n",
      "video 1/1 (frame 316/1489) d:\\repos\\Phone detection\\0122_cut.mp4: 384x640 (no detections), 92.4ms\n",
      "video 1/1 (frame 317/1489) d:\\repos\\Phone detection\\0122_cut.mp4: 384x640 (no detections), 94.1ms\n",
      "video 1/1 (frame 318/1489) d:\\repos\\Phone detection\\0122_cut.mp4: 384x640 (no detections), 89.6ms\n",
      "video 1/1 (frame 319/1489) d:\\repos\\Phone detection\\0122_cut.mp4: 384x640 (no detections), 79.5ms\n",
      "video 1/1 (frame 320/1489) d:\\repos\\Phone detection\\0122_cut.mp4: 384x640 (no detections), 103.5ms\n",
      "video 1/1 (frame 321/1489) d:\\repos\\Phone detection\\0122_cut.mp4: 384x640 (no detections), 105.6ms\n",
      "video 1/1 (frame 322/1489) d:\\repos\\Phone detection\\0122_cut.mp4: 384x640 (no detections), 100.2ms\n",
      "video 1/1 (frame 323/1489) d:\\repos\\Phone detection\\0122_cut.mp4: 384x640 (no detections), 104.0ms\n",
      "video 1/1 (frame 324/1489) d:\\repos\\Phone detection\\0122_cut.mp4: 384x640 (no detections), 153.0ms\n",
      "video 1/1 (frame 325/1489) d:\\repos\\Phone detection\\0122_cut.mp4: 384x640 (no detections), 158.4ms\n",
      "video 1/1 (frame 326/1489) d:\\repos\\Phone detection\\0122_cut.mp4: 384x640 (no detections), 164.7ms\n",
      "video 1/1 (frame 327/1489) d:\\repos\\Phone detection\\0122_cut.mp4: 384x640 (no detections), 166.7ms\n",
      "video 1/1 (frame 328/1489) d:\\repos\\Phone detection\\0122_cut.mp4: 384x640 (no detections), 166.8ms\n",
      "video 1/1 (frame 329/1489) d:\\repos\\Phone detection\\0122_cut.mp4: 384x640 (no detections), 160.1ms\n",
      "video 1/1 (frame 330/1489) d:\\repos\\Phone detection\\0122_cut.mp4: 384x640 (no detections), 168.3ms\n",
      "video 1/1 (frame 331/1489) d:\\repos\\Phone detection\\0122_cut.mp4: 384x640 (no detections), 150.3ms\n",
      "video 1/1 (frame 332/1489) d:\\repos\\Phone detection\\0122_cut.mp4: 384x640 (no detections), 169.8ms\n",
      "video 1/1 (frame 333/1489) d:\\repos\\Phone detection\\0122_cut.mp4: 384x640 (no detections), 147.6ms\n",
      "video 1/1 (frame 334/1489) d:\\repos\\Phone detection\\0122_cut.mp4: 384x640 (no detections), 178.5ms\n",
      "video 1/1 (frame 335/1489) d:\\repos\\Phone detection\\0122_cut.mp4: 384x640 (no detections), 154.1ms\n",
      "video 1/1 (frame 336/1489) d:\\repos\\Phone detection\\0122_cut.mp4: 384x640 (no detections), 170.4ms\n",
      "video 1/1 (frame 337/1489) d:\\repos\\Phone detection\\0122_cut.mp4: 384x640 (no detections), 143.6ms\n",
      "video 1/1 (frame 338/1489) d:\\repos\\Phone detection\\0122_cut.mp4: 384x640 (no detections), 185.6ms\n",
      "video 1/1 (frame 339/1489) d:\\repos\\Phone detection\\0122_cut.mp4: 384x640 (no detections), 169.4ms\n",
      "video 1/1 (frame 340/1489) d:\\repos\\Phone detection\\0122_cut.mp4: 384x640 (no detections), 186.1ms\n",
      "video 1/1 (frame 341/1489) d:\\repos\\Phone detection\\0122_cut.mp4: 384x640 (no detections), 169.6ms\n",
      "video 1/1 (frame 342/1489) d:\\repos\\Phone detection\\0122_cut.mp4: 384x640 (no detections), 145.3ms\n",
      "video 1/1 (frame 343/1489) d:\\repos\\Phone detection\\0122_cut.mp4: 384x640 (no detections), 145.2ms\n",
      "video 1/1 (frame 344/1489) d:\\repos\\Phone detection\\0122_cut.mp4: 384x640 (no detections), 164.2ms\n",
      "video 1/1 (frame 345/1489) d:\\repos\\Phone detection\\0122_cut.mp4: 384x640 (no detections), 184.1ms\n",
      "video 1/1 (frame 346/1489) d:\\repos\\Phone detection\\0122_cut.mp4: 384x640 (no detections), 167.4ms\n",
      "video 1/1 (frame 347/1489) d:\\repos\\Phone detection\\0122_cut.mp4: 384x640 (no detections), 133.2ms\n",
      "video 1/1 (frame 348/1489) d:\\repos\\Phone detection\\0122_cut.mp4: 384x640 (no detections), 122.2ms\n",
      "video 1/1 (frame 349/1489) d:\\repos\\Phone detection\\0122_cut.mp4: 384x640 (no detections), 157.9ms\n",
      "video 1/1 (frame 350/1489) d:\\repos\\Phone detection\\0122_cut.mp4: 384x640 (no detections), 143.2ms\n",
      "video 1/1 (frame 351/1489) d:\\repos\\Phone detection\\0122_cut.mp4: 384x640 (no detections), 174.8ms\n",
      "video 1/1 (frame 352/1489) d:\\repos\\Phone detection\\0122_cut.mp4: 384x640 (no detections), 185.3ms\n",
      "video 1/1 (frame 353/1489) d:\\repos\\Phone detection\\0122_cut.mp4: 384x640 (no detections), 191.2ms\n",
      "video 1/1 (frame 354/1489) d:\\repos\\Phone detection\\0122_cut.mp4: 384x640 (no detections), 167.5ms\n",
      "video 1/1 (frame 355/1489) d:\\repos\\Phone detection\\0122_cut.mp4: 384x640 (no detections), 168.5ms\n",
      "video 1/1 (frame 356/1489) d:\\repos\\Phone detection\\0122_cut.mp4: 384x640 (no detections), 154.6ms\n",
      "video 1/1 (frame 357/1489) d:\\repos\\Phone detection\\0122_cut.mp4: 384x640 (no detections), 161.8ms\n",
      "video 1/1 (frame 358/1489) d:\\repos\\Phone detection\\0122_cut.mp4: 384x640 (no detections), 172.8ms\n",
      "video 1/1 (frame 359/1489) d:\\repos\\Phone detection\\0122_cut.mp4: 384x640 (no detections), 160.8ms\n",
      "video 1/1 (frame 360/1489) d:\\repos\\Phone detection\\0122_cut.mp4: 384x640 (no detections), 153.2ms\n",
      "video 1/1 (frame 361/1489) d:\\repos\\Phone detection\\0122_cut.mp4: 384x640 (no detections), 152.8ms\n",
      "video 1/1 (frame 362/1489) d:\\repos\\Phone detection\\0122_cut.mp4: 384x640 (no detections), 174.2ms\n",
      "video 1/1 (frame 363/1489) d:\\repos\\Phone detection\\0122_cut.mp4: 384x640 (no detections), 194.1ms\n",
      "video 1/1 (frame 364/1489) d:\\repos\\Phone detection\\0122_cut.mp4: 384x640 (no detections), 176.8ms\n",
      "video 1/1 (frame 365/1489) d:\\repos\\Phone detection\\0122_cut.mp4: 384x640 (no detections), 151.4ms\n",
      "video 1/1 (frame 366/1489) d:\\repos\\Phone detection\\0122_cut.mp4: 384x640 (no detections), 192.0ms\n",
      "video 1/1 (frame 367/1489) d:\\repos\\Phone detection\\0122_cut.mp4: 384x640 (no detections), 164.4ms\n",
      "video 1/1 (frame 368/1489) d:\\repos\\Phone detection\\0122_cut.mp4: 384x640 (no detections), 191.0ms\n",
      "video 1/1 (frame 369/1489) d:\\repos\\Phone detection\\0122_cut.mp4: 384x640 (no detections), 163.0ms\n",
      "video 1/1 (frame 370/1489) d:\\repos\\Phone detection\\0122_cut.mp4: 384x640 (no detections), 179.1ms\n",
      "video 1/1 (frame 371/1489) d:\\repos\\Phone detection\\0122_cut.mp4: 384x640 (no detections), 189.3ms\n",
      "video 1/1 (frame 372/1489) d:\\repos\\Phone detection\\0122_cut.mp4: 384x640 (no detections), 188.2ms\n",
      "video 1/1 (frame 373/1489) d:\\repos\\Phone detection\\0122_cut.mp4: 384x640 (no detections), 212.4ms\n",
      "video 1/1 (frame 374/1489) d:\\repos\\Phone detection\\0122_cut.mp4: 384x640 (no detections), 193.1ms\n",
      "video 1/1 (frame 375/1489) d:\\repos\\Phone detection\\0122_cut.mp4: 384x640 (no detections), 181.1ms\n",
      "video 1/1 (frame 376/1489) d:\\repos\\Phone detection\\0122_cut.mp4: 384x640 (no detections), 147.1ms\n",
      "video 1/1 (frame 377/1489) d:\\repos\\Phone detection\\0122_cut.mp4: 384x640 (no detections), 195.6ms\n",
      "video 1/1 (frame 378/1489) d:\\repos\\Phone detection\\0122_cut.mp4: 384x640 (no detections), 163.2ms\n",
      "video 1/1 (frame 379/1489) d:\\repos\\Phone detection\\0122_cut.mp4: 384x640 (no detections), 155.5ms\n",
      "video 1/1 (frame 380/1489) d:\\repos\\Phone detection\\0122_cut.mp4: 384x640 (no detections), 156.2ms\n",
      "video 1/1 (frame 381/1489) d:\\repos\\Phone detection\\0122_cut.mp4: 384x640 (no detections), 160.3ms\n",
      "video 1/1 (frame 382/1489) d:\\repos\\Phone detection\\0122_cut.mp4: 384x640 (no detections), 170.6ms\n",
      "video 1/1 (frame 383/1489) d:\\repos\\Phone detection\\0122_cut.mp4: 384x640 (no detections), 172.1ms\n",
      "video 1/1 (frame 384/1489) d:\\repos\\Phone detection\\0122_cut.mp4: 384x640 (no detections), 207.6ms\n",
      "video 1/1 (frame 385/1489) d:\\repos\\Phone detection\\0122_cut.mp4: 384x640 (no detections), 175.1ms\n",
      "video 1/1 (frame 386/1489) d:\\repos\\Phone detection\\0122_cut.mp4: 384x640 (no detections), 186.9ms\n",
      "video 1/1 (frame 387/1489) d:\\repos\\Phone detection\\0122_cut.mp4: 384x640 (no detections), 155.8ms\n",
      "video 1/1 (frame 388/1489) d:\\repos\\Phone detection\\0122_cut.mp4: 384x640 (no detections), 161.9ms\n",
      "video 1/1 (frame 389/1489) d:\\repos\\Phone detection\\0122_cut.mp4: 384x640 (no detections), 147.7ms\n",
      "video 1/1 (frame 390/1489) d:\\repos\\Phone detection\\0122_cut.mp4: 384x640 (no detections), 152.0ms\n",
      "video 1/1 (frame 391/1489) d:\\repos\\Phone detection\\0122_cut.mp4: 384x640 (no detections), 138.4ms\n",
      "video 1/1 (frame 392/1489) d:\\repos\\Phone detection\\0122_cut.mp4: 384x640 (no detections), 150.6ms\n",
      "video 1/1 (frame 393/1489) d:\\repos\\Phone detection\\0122_cut.mp4: 384x640 (no detections), 164.9ms\n",
      "video 1/1 (frame 394/1489) d:\\repos\\Phone detection\\0122_cut.mp4: 384x640 (no detections), 190.1ms\n",
      "video 1/1 (frame 395/1489) d:\\repos\\Phone detection\\0122_cut.mp4: 384x640 (no detections), 172.1ms\n",
      "video 1/1 (frame 396/1489) d:\\repos\\Phone detection\\0122_cut.mp4: 384x640 (no detections), 182.2ms\n",
      "video 1/1 (frame 397/1489) d:\\repos\\Phone detection\\0122_cut.mp4: 384x640 (no detections), 168.7ms\n",
      "video 1/1 (frame 398/1489) d:\\repos\\Phone detection\\0122_cut.mp4: 384x640 (no detections), 153.9ms\n",
      "video 1/1 (frame 399/1489) d:\\repos\\Phone detection\\0122_cut.mp4: 384x640 (no detections), 167.9ms\n",
      "video 1/1 (frame 400/1489) d:\\repos\\Phone detection\\0122_cut.mp4: 384x640 (no detections), 172.9ms\n",
      "video 1/1 (frame 401/1489) d:\\repos\\Phone detection\\0122_cut.mp4: 384x640 (no detections), 143.4ms\n",
      "video 1/1 (frame 402/1489) d:\\repos\\Phone detection\\0122_cut.mp4: 384x640 (no detections), 128.0ms\n",
      "video 1/1 (frame 403/1489) d:\\repos\\Phone detection\\0122_cut.mp4: 384x640 (no detections), 143.5ms\n",
      "video 1/1 (frame 404/1489) d:\\repos\\Phone detection\\0122_cut.mp4: 384x640 (no detections), 95.1ms\n",
      "video 1/1 (frame 405/1489) d:\\repos\\Phone detection\\0122_cut.mp4: 384x640 (no detections), 136.3ms\n",
      "video 1/1 (frame 406/1489) d:\\repos\\Phone detection\\0122_cut.mp4: 384x640 (no detections), 157.3ms\n",
      "video 1/1 (frame 407/1489) d:\\repos\\Phone detection\\0122_cut.mp4: 384x640 (no detections), 166.5ms\n",
      "video 1/1 (frame 408/1489) d:\\repos\\Phone detection\\0122_cut.mp4: 384x640 (no detections), 171.1ms\n",
      "video 1/1 (frame 409/1489) d:\\repos\\Phone detection\\0122_cut.mp4: 384x640 (no detections), 159.2ms\n",
      "video 1/1 (frame 410/1489) d:\\repos\\Phone detection\\0122_cut.mp4: 384x640 (no detections), 162.2ms\n",
      "video 1/1 (frame 411/1489) d:\\repos\\Phone detection\\0122_cut.mp4: 384x640 (no detections), 148.2ms\n",
      "video 1/1 (frame 412/1489) d:\\repos\\Phone detection\\0122_cut.mp4: 384x640 (no detections), 139.0ms\n",
      "video 1/1 (frame 413/1489) d:\\repos\\Phone detection\\0122_cut.mp4: 384x640 (no detections), 119.4ms\n",
      "video 1/1 (frame 414/1489) d:\\repos\\Phone detection\\0122_cut.mp4: 384x640 (no detections), 146.0ms\n",
      "video 1/1 (frame 415/1489) d:\\repos\\Phone detection\\0122_cut.mp4: 384x640 (no detections), 107.3ms\n",
      "video 1/1 (frame 416/1489) d:\\repos\\Phone detection\\0122_cut.mp4: 384x640 (no detections), 111.9ms\n",
      "video 1/1 (frame 417/1489) d:\\repos\\Phone detection\\0122_cut.mp4: 384x640 (no detections), 117.8ms\n",
      "video 1/1 (frame 418/1489) d:\\repos\\Phone detection\\0122_cut.mp4: 384x640 (no detections), 162.2ms\n",
      "video 1/1 (frame 419/1489) d:\\repos\\Phone detection\\0122_cut.mp4: 384x640 (no detections), 182.1ms\n",
      "video 1/1 (frame 420/1489) d:\\repos\\Phone detection\\0122_cut.mp4: 384x640 (no detections), 180.1ms\n",
      "video 1/1 (frame 421/1489) d:\\repos\\Phone detection\\0122_cut.mp4: 384x640 (no detections), 170.9ms\n",
      "video 1/1 (frame 422/1489) d:\\repos\\Phone detection\\0122_cut.mp4: 384x640 (no detections), 163.8ms\n",
      "video 1/1 (frame 423/1489) d:\\repos\\Phone detection\\0122_cut.mp4: 384x640 (no detections), 164.5ms\n",
      "video 1/1 (frame 424/1489) d:\\repos\\Phone detection\\0122_cut.mp4: 384x640 (no detections), 150.8ms\n",
      "video 1/1 (frame 425/1489) d:\\repos\\Phone detection\\0122_cut.mp4: 384x640 (no detections), 170.2ms\n",
      "video 1/1 (frame 426/1489) d:\\repos\\Phone detection\\0122_cut.mp4: 384x640 (no detections), 182.6ms\n",
      "video 1/1 (frame 427/1489) d:\\repos\\Phone detection\\0122_cut.mp4: 384x640 (no detections), 187.3ms\n",
      "video 1/1 (frame 428/1489) d:\\repos\\Phone detection\\0122_cut.mp4: 384x640 (no detections), 174.8ms\n",
      "video 1/1 (frame 429/1489) d:\\repos\\Phone detection\\0122_cut.mp4: 384x640 (no detections), 223.6ms\n",
      "video 1/1 (frame 430/1489) d:\\repos\\Phone detection\\0122_cut.mp4: 384x640 (no detections), 184.8ms\n",
      "video 1/1 (frame 431/1489) d:\\repos\\Phone detection\\0122_cut.mp4: 384x640 (no detections), 173.1ms\n",
      "video 1/1 (frame 432/1489) d:\\repos\\Phone detection\\0122_cut.mp4: 384x640 (no detections), 142.3ms\n",
      "video 1/1 (frame 433/1489) d:\\repos\\Phone detection\\0122_cut.mp4: 384x640 (no detections), 148.0ms\n",
      "video 1/1 (frame 434/1489) d:\\repos\\Phone detection\\0122_cut.mp4: 384x640 (no detections), 145.1ms\n",
      "video 1/1 (frame 435/1489) d:\\repos\\Phone detection\\0122_cut.mp4: 384x640 (no detections), 167.3ms\n",
      "video 1/1 (frame 436/1489) d:\\repos\\Phone detection\\0122_cut.mp4: 384x640 (no detections), 164.2ms\n",
      "video 1/1 (frame 437/1489) d:\\repos\\Phone detection\\0122_cut.mp4: 384x640 (no detections), 188.0ms\n",
      "video 1/1 (frame 438/1489) d:\\repos\\Phone detection\\0122_cut.mp4: 384x640 (no detections), 167.9ms\n",
      "video 1/1 (frame 439/1489) d:\\repos\\Phone detection\\0122_cut.mp4: 384x640 (no detections), 147.0ms\n",
      "video 1/1 (frame 440/1489) d:\\repos\\Phone detection\\0122_cut.mp4: 384x640 (no detections), 142.9ms\n",
      "video 1/1 (frame 441/1489) d:\\repos\\Phone detection\\0122_cut.mp4: 384x640 (no detections), 108.4ms\n",
      "video 1/1 (frame 442/1489) d:\\repos\\Phone detection\\0122_cut.mp4: 384x640 (no detections), 98.2ms\n",
      "video 1/1 (frame 443/1489) d:\\repos\\Phone detection\\0122_cut.mp4: 384x640 (no detections), 118.6ms\n",
      "video 1/1 (frame 444/1489) d:\\repos\\Phone detection\\0122_cut.mp4: 384x640 (no detections), 126.6ms\n",
      "video 1/1 (frame 445/1489) d:\\repos\\Phone detection\\0122_cut.mp4: 384x640 (no detections), 105.8ms\n",
      "video 1/1 (frame 446/1489) d:\\repos\\Phone detection\\0122_cut.mp4: 384x640 (no detections), 114.8ms\n",
      "video 1/1 (frame 447/1489) d:\\repos\\Phone detection\\0122_cut.mp4: 384x640 (no detections), 104.7ms\n",
      "video 1/1 (frame 448/1489) d:\\repos\\Phone detection\\0122_cut.mp4: 384x640 (no detections), 98.0ms\n",
      "video 1/1 (frame 449/1489) d:\\repos\\Phone detection\\0122_cut.mp4: 384x640 (no detections), 133.4ms\n",
      "video 1/1 (frame 450/1489) d:\\repos\\Phone detection\\0122_cut.mp4: 384x640 (no detections), 116.6ms\n",
      "video 1/1 (frame 451/1489) d:\\repos\\Phone detection\\0122_cut.mp4: 384x640 (no detections), 137.4ms\n",
      "video 1/1 (frame 452/1489) d:\\repos\\Phone detection\\0122_cut.mp4: 384x640 (no detections), 145.9ms\n",
      "video 1/1 (frame 453/1489) d:\\repos\\Phone detection\\0122_cut.mp4: 384x640 (no detections), 188.0ms\n",
      "video 1/1 (frame 454/1489) d:\\repos\\Phone detection\\0122_cut.mp4: 384x640 (no detections), 195.5ms\n",
      "video 1/1 (frame 455/1489) d:\\repos\\Phone detection\\0122_cut.mp4: 384x640 (no detections), 209.1ms\n",
      "video 1/1 (frame 456/1489) d:\\repos\\Phone detection\\0122_cut.mp4: 384x640 (no detections), 94.3ms\n",
      "video 1/1 (frame 457/1489) d:\\repos\\Phone detection\\0122_cut.mp4: 384x640 (no detections), 96.5ms\n",
      "video 1/1 (frame 458/1489) d:\\repos\\Phone detection\\0122_cut.mp4: 384x640 (no detections), 142.1ms\n",
      "video 1/1 (frame 459/1489) d:\\repos\\Phone detection\\0122_cut.mp4: 384x640 (no detections), 137.5ms\n",
      "video 1/1 (frame 460/1489) d:\\repos\\Phone detection\\0122_cut.mp4: 384x640 (no detections), 170.1ms\n",
      "video 1/1 (frame 461/1489) d:\\repos\\Phone detection\\0122_cut.mp4: 384x640 (no detections), 206.3ms\n",
      "video 1/1 (frame 462/1489) d:\\repos\\Phone detection\\0122_cut.mp4: 384x640 (no detections), 128.0ms\n",
      "video 1/1 (frame 463/1489) d:\\repos\\Phone detection\\0122_cut.mp4: 384x640 (no detections), 98.9ms\n",
      "video 1/1 (frame 464/1489) d:\\repos\\Phone detection\\0122_cut.mp4: 384x640 (no detections), 117.1ms\n",
      "video 1/1 (frame 465/1489) d:\\repos\\Phone detection\\0122_cut.mp4: 384x640 (no detections), 150.3ms\n",
      "video 1/1 (frame 466/1489) d:\\repos\\Phone detection\\0122_cut.mp4: 384x640 (no detections), 161.7ms\n",
      "video 1/1 (frame 467/1489) d:\\repos\\Phone detection\\0122_cut.mp4: 384x640 (no detections), 147.4ms\n",
      "video 1/1 (frame 468/1489) d:\\repos\\Phone detection\\0122_cut.mp4: 384x640 (no detections), 138.8ms\n",
      "video 1/1 (frame 469/1489) d:\\repos\\Phone detection\\0122_cut.mp4: 384x640 (no detections), 125.7ms\n",
      "video 1/1 (frame 470/1489) d:\\repos\\Phone detection\\0122_cut.mp4: 384x640 (no detections), 109.8ms\n",
      "video 1/1 (frame 471/1489) d:\\repos\\Phone detection\\0122_cut.mp4: 384x640 (no detections), 162.3ms\n",
      "video 1/1 (frame 472/1489) d:\\repos\\Phone detection\\0122_cut.mp4: 384x640 (no detections), 160.3ms\n",
      "video 1/1 (frame 473/1489) d:\\repos\\Phone detection\\0122_cut.mp4: 384x640 (no detections), 159.8ms\n",
      "video 1/1 (frame 474/1489) d:\\repos\\Phone detection\\0122_cut.mp4: 384x640 (no detections), 151.9ms\n",
      "video 1/1 (frame 475/1489) d:\\repos\\Phone detection\\0122_cut.mp4: 384x640 (no detections), 162.3ms\n",
      "video 1/1 (frame 476/1489) d:\\repos\\Phone detection\\0122_cut.mp4: 384x640 (no detections), 146.1ms\n",
      "video 1/1 (frame 477/1489) d:\\repos\\Phone detection\\0122_cut.mp4: 384x640 (no detections), 169.0ms\n",
      "video 1/1 (frame 478/1489) d:\\repos\\Phone detection\\0122_cut.mp4: 384x640 (no detections), 192.8ms\n",
      "video 1/1 (frame 479/1489) d:\\repos\\Phone detection\\0122_cut.mp4: 384x640 (no detections), 143.4ms\n",
      "video 1/1 (frame 480/1489) d:\\repos\\Phone detection\\0122_cut.mp4: 384x640 (no detections), 168.3ms\n",
      "video 1/1 (frame 481/1489) d:\\repos\\Phone detection\\0122_cut.mp4: 384x640 (no detections), 162.1ms\n",
      "video 1/1 (frame 482/1489) d:\\repos\\Phone detection\\0122_cut.mp4: 384x640 (no detections), 181.3ms\n",
      "video 1/1 (frame 483/1489) d:\\repos\\Phone detection\\0122_cut.mp4: 384x640 (no detections), 173.0ms\n",
      "video 1/1 (frame 484/1489) d:\\repos\\Phone detection\\0122_cut.mp4: 384x640 (no detections), 177.4ms\n",
      "video 1/1 (frame 485/1489) d:\\repos\\Phone detection\\0122_cut.mp4: 384x640 (no detections), 148.7ms\n",
      "video 1/1 (frame 486/1489) d:\\repos\\Phone detection\\0122_cut.mp4: 384x640 (no detections), 131.9ms\n",
      "video 1/1 (frame 487/1489) d:\\repos\\Phone detection\\0122_cut.mp4: 384x640 (no detections), 139.5ms\n",
      "video 1/1 (frame 488/1489) d:\\repos\\Phone detection\\0122_cut.mp4: 384x640 (no detections), 135.1ms\n",
      "video 1/1 (frame 489/1489) d:\\repos\\Phone detection\\0122_cut.mp4: 384x640 (no detections), 133.8ms\n",
      "video 1/1 (frame 490/1489) d:\\repos\\Phone detection\\0122_cut.mp4: 384x640 (no detections), 144.2ms\n",
      "video 1/1 (frame 491/1489) d:\\repos\\Phone detection\\0122_cut.mp4: 384x640 (no detections), 164.2ms\n",
      "video 1/1 (frame 492/1489) d:\\repos\\Phone detection\\0122_cut.mp4: 384x640 (no detections), 161.9ms\n",
      "video 1/1 (frame 493/1489) d:\\repos\\Phone detection\\0122_cut.mp4: 384x640 (no detections), 112.5ms\n",
      "video 1/1 (frame 494/1489) d:\\repos\\Phone detection\\0122_cut.mp4: 384x640 (no detections), 121.0ms\n",
      "video 1/1 (frame 495/1489) d:\\repos\\Phone detection\\0122_cut.mp4: 384x640 (no detections), 143.1ms\n",
      "video 1/1 (frame 496/1489) d:\\repos\\Phone detection\\0122_cut.mp4: 384x640 (no detections), 113.9ms\n",
      "video 1/1 (frame 497/1489) d:\\repos\\Phone detection\\0122_cut.mp4: 384x640 (no detections), 97.5ms\n",
      "video 1/1 (frame 498/1489) d:\\repos\\Phone detection\\0122_cut.mp4: 384x640 (no detections), 109.1ms\n",
      "video 1/1 (frame 499/1489) d:\\repos\\Phone detection\\0122_cut.mp4: 384x640 (no detections), 154.1ms\n",
      "video 1/1 (frame 500/1489) d:\\repos\\Phone detection\\0122_cut.mp4: 384x640 (no detections), 163.2ms\n",
      "video 1/1 (frame 501/1489) d:\\repos\\Phone detection\\0122_cut.mp4: 384x640 (no detections), 211.8ms\n",
      "video 1/1 (frame 502/1489) d:\\repos\\Phone detection\\0122_cut.mp4: 384x640 (no detections), 202.3ms\n",
      "video 1/1 (frame 503/1489) d:\\repos\\Phone detection\\0122_cut.mp4: 384x640 (no detections), 116.8ms\n",
      "video 1/1 (frame 504/1489) d:\\repos\\Phone detection\\0122_cut.mp4: 384x640 (no detections), 159.2ms\n",
      "video 1/1 (frame 505/1489) d:\\repos\\Phone detection\\0122_cut.mp4: 384x640 (no detections), 149.1ms\n",
      "video 1/1 (frame 506/1489) d:\\repos\\Phone detection\\0122_cut.mp4: 384x640 (no detections), 134.7ms\n",
      "video 1/1 (frame 507/1489) d:\\repos\\Phone detection\\0122_cut.mp4: 384x640 (no detections), 161.8ms\n",
      "video 1/1 (frame 508/1489) d:\\repos\\Phone detection\\0122_cut.mp4: 384x640 (no detections), 178.6ms\n",
      "video 1/1 (frame 509/1489) d:\\repos\\Phone detection\\0122_cut.mp4: 384x640 (no detections), 169.8ms\n",
      "video 1/1 (frame 510/1489) d:\\repos\\Phone detection\\0122_cut.mp4: 384x640 (no detections), 181.2ms\n",
      "video 1/1 (frame 511/1489) d:\\repos\\Phone detection\\0122_cut.mp4: 384x640 (no detections), 186.6ms\n",
      "video 1/1 (frame 512/1489) d:\\repos\\Phone detection\\0122_cut.mp4: 384x640 (no detections), 154.5ms\n",
      "video 1/1 (frame 513/1489) d:\\repos\\Phone detection\\0122_cut.mp4: 384x640 (no detections), 165.4ms\n",
      "video 1/1 (frame 514/1489) d:\\repos\\Phone detection\\0122_cut.mp4: 384x640 (no detections), 176.6ms\n",
      "video 1/1 (frame 515/1489) d:\\repos\\Phone detection\\0122_cut.mp4: 384x640 (no detections), 159.9ms\n",
      "video 1/1 (frame 516/1489) d:\\repos\\Phone detection\\0122_cut.mp4: 384x640 (no detections), 150.7ms\n",
      "video 1/1 (frame 517/1489) d:\\repos\\Phone detection\\0122_cut.mp4: 384x640 (no detections), 201.8ms\n",
      "video 1/1 (frame 518/1489) d:\\repos\\Phone detection\\0122_cut.mp4: 384x640 (no detections), 177.0ms\n",
      "video 1/1 (frame 519/1489) d:\\repos\\Phone detection\\0122_cut.mp4: 384x640 (no detections), 157.4ms\n",
      "video 1/1 (frame 520/1489) d:\\repos\\Phone detection\\0122_cut.mp4: 384x640 (no detections), 168.9ms\n",
      "video 1/1 (frame 521/1489) d:\\repos\\Phone detection\\0122_cut.mp4: 384x640 (no detections), 173.0ms\n",
      "video 1/1 (frame 522/1489) d:\\repos\\Phone detection\\0122_cut.mp4: 384x640 (no detections), 106.7ms\n",
      "video 1/1 (frame 523/1489) d:\\repos\\Phone detection\\0122_cut.mp4: 384x640 (no detections), 202.5ms\n",
      "video 1/1 (frame 524/1489) d:\\repos\\Phone detection\\0122_cut.mp4: 384x640 (no detections), 144.0ms\n",
      "video 1/1 (frame 525/1489) d:\\repos\\Phone detection\\0122_cut.mp4: 384x640 (no detections), 173.7ms\n",
      "video 1/1 (frame 526/1489) d:\\repos\\Phone detection\\0122_cut.mp4: 384x640 (no detections), 151.2ms\n",
      "video 1/1 (frame 527/1489) d:\\repos\\Phone detection\\0122_cut.mp4: 384x640 (no detections), 174.2ms\n",
      "video 1/1 (frame 528/1489) d:\\repos\\Phone detection\\0122_cut.mp4: 384x640 (no detections), 208.8ms\n",
      "video 1/1 (frame 529/1489) d:\\repos\\Phone detection\\0122_cut.mp4: 384x640 (no detections), 175.4ms\n",
      "video 1/1 (frame 530/1489) d:\\repos\\Phone detection\\0122_cut.mp4: 384x640 (no detections), 209.4ms\n",
      "video 1/1 (frame 531/1489) d:\\repos\\Phone detection\\0122_cut.mp4: 384x640 (no detections), 167.5ms\n",
      "video 1/1 (frame 532/1489) d:\\repos\\Phone detection\\0122_cut.mp4: 384x640 (no detections), 146.1ms\n",
      "video 1/1 (frame 533/1489) d:\\repos\\Phone detection\\0122_cut.mp4: 384x640 (no detections), 156.1ms\n",
      "video 1/1 (frame 534/1489) d:\\repos\\Phone detection\\0122_cut.mp4: 384x640 (no detections), 171.2ms\n",
      "video 1/1 (frame 535/1489) d:\\repos\\Phone detection\\0122_cut.mp4: 384x640 (no detections), 163.2ms\n",
      "video 1/1 (frame 536/1489) d:\\repos\\Phone detection\\0122_cut.mp4: 384x640 (no detections), 163.3ms\n",
      "video 1/1 (frame 537/1489) d:\\repos\\Phone detection\\0122_cut.mp4: 384x640 (no detections), 174.5ms\n",
      "video 1/1 (frame 538/1489) d:\\repos\\Phone detection\\0122_cut.mp4: 384x640 (no detections), 163.3ms\n",
      "video 1/1 (frame 539/1489) d:\\repos\\Phone detection\\0122_cut.mp4: 384x640 (no detections), 148.6ms\n",
      "video 1/1 (frame 540/1489) d:\\repos\\Phone detection\\0122_cut.mp4: 384x640 (no detections), 162.3ms\n",
      "video 1/1 (frame 541/1489) d:\\repos\\Phone detection\\0122_cut.mp4: 384x640 (no detections), 153.6ms\n",
      "video 1/1 (frame 542/1489) d:\\repos\\Phone detection\\0122_cut.mp4: 384x640 (no detections), 164.4ms\n",
      "video 1/1 (frame 543/1489) d:\\repos\\Phone detection\\0122_cut.mp4: 384x640 (no detections), 156.5ms\n",
      "video 1/1 (frame 544/1489) d:\\repos\\Phone detection\\0122_cut.mp4: 384x640 (no detections), 183.2ms\n",
      "video 1/1 (frame 545/1489) d:\\repos\\Phone detection\\0122_cut.mp4: 384x640 (no detections), 160.8ms\n",
      "video 1/1 (frame 546/1489) d:\\repos\\Phone detection\\0122_cut.mp4: 384x640 (no detections), 165.1ms\n",
      "video 1/1 (frame 547/1489) d:\\repos\\Phone detection\\0122_cut.mp4: 384x640 (no detections), 134.6ms\n",
      "video 1/1 (frame 548/1489) d:\\repos\\Phone detection\\0122_cut.mp4: 384x640 (no detections), 164.1ms\n",
      "video 1/1 (frame 549/1489) d:\\repos\\Phone detection\\0122_cut.mp4: 384x640 (no detections), 141.4ms\n",
      "video 1/1 (frame 550/1489) d:\\repos\\Phone detection\\0122_cut.mp4: 384x640 (no detections), 139.5ms\n",
      "video 1/1 (frame 551/1489) d:\\repos\\Phone detection\\0122_cut.mp4: 384x640 (no detections), 139.7ms\n",
      "video 1/1 (frame 552/1489) d:\\repos\\Phone detection\\0122_cut.mp4: 384x640 (no detections), 120.2ms\n",
      "video 1/1 (frame 553/1489) d:\\repos\\Phone detection\\0122_cut.mp4: 384x640 (no detections), 145.6ms\n",
      "video 1/1 (frame 554/1489) d:\\repos\\Phone detection\\0122_cut.mp4: 384x640 (no detections), 152.1ms\n",
      "video 1/1 (frame 555/1489) d:\\repos\\Phone detection\\0122_cut.mp4: 384x640 (no detections), 160.1ms\n",
      "video 1/1 (frame 556/1489) d:\\repos\\Phone detection\\0122_cut.mp4: 384x640 (no detections), 139.7ms\n",
      "video 1/1 (frame 557/1489) d:\\repos\\Phone detection\\0122_cut.mp4: 384x640 (no detections), 161.7ms\n",
      "video 1/1 (frame 558/1489) d:\\repos\\Phone detection\\0122_cut.mp4: 384x640 (no detections), 160.7ms\n",
      "video 1/1 (frame 559/1489) d:\\repos\\Phone detection\\0122_cut.mp4: 384x640 (no detections), 191.7ms\n",
      "video 1/1 (frame 560/1489) d:\\repos\\Phone detection\\0122_cut.mp4: 384x640 (no detections), 161.3ms\n",
      "video 1/1 (frame 561/1489) d:\\repos\\Phone detection\\0122_cut.mp4: 384x640 (no detections), 106.2ms\n",
      "video 1/1 (frame 562/1489) d:\\repos\\Phone detection\\0122_cut.mp4: 384x640 (no detections), 111.1ms\n",
      "video 1/1 (frame 563/1489) d:\\repos\\Phone detection\\0122_cut.mp4: 384x640 (no detections), 121.0ms\n",
      "video 1/1 (frame 564/1489) d:\\repos\\Phone detection\\0122_cut.mp4: 384x640 (no detections), 144.5ms\n",
      "video 1/1 (frame 565/1489) d:\\repos\\Phone detection\\0122_cut.mp4: 384x640 (no detections), 140.6ms\n",
      "video 1/1 (frame 566/1489) d:\\repos\\Phone detection\\0122_cut.mp4: 384x640 (no detections), 175.5ms\n",
      "video 1/1 (frame 567/1489) d:\\repos\\Phone detection\\0122_cut.mp4: 384x640 (no detections), 175.8ms\n",
      "video 1/1 (frame 568/1489) d:\\repos\\Phone detection\\0122_cut.mp4: 384x640 (no detections), 148.5ms\n",
      "video 1/1 (frame 569/1489) d:\\repos\\Phone detection\\0122_cut.mp4: 384x640 (no detections), 178.5ms\n",
      "video 1/1 (frame 570/1489) d:\\repos\\Phone detection\\0122_cut.mp4: 384x640 (no detections), 167.4ms\n",
      "video 1/1 (frame 571/1489) d:\\repos\\Phone detection\\0122_cut.mp4: 384x640 (no detections), 183.1ms\n",
      "video 1/1 (frame 572/1489) d:\\repos\\Phone detection\\0122_cut.mp4: 384x640 (no detections), 143.8ms\n",
      "video 1/1 (frame 573/1489) d:\\repos\\Phone detection\\0122_cut.mp4: 384x640 (no detections), 147.7ms\n",
      "video 1/1 (frame 574/1489) d:\\repos\\Phone detection\\0122_cut.mp4: 384x640 (no detections), 171.4ms\n",
      "video 1/1 (frame 575/1489) d:\\repos\\Phone detection\\0122_cut.mp4: 384x640 (no detections), 198.5ms\n",
      "video 1/1 (frame 576/1489) d:\\repos\\Phone detection\\0122_cut.mp4: 384x640 (no detections), 160.5ms\n",
      "video 1/1 (frame 577/1489) d:\\repos\\Phone detection\\0122_cut.mp4: 384x640 (no detections), 177.9ms\n",
      "video 1/1 (frame 578/1489) d:\\repos\\Phone detection\\0122_cut.mp4: 384x640 (no detections), 176.0ms\n",
      "video 1/1 (frame 579/1489) d:\\repos\\Phone detection\\0122_cut.mp4: 384x640 (no detections), 154.5ms\n",
      "video 1/1 (frame 580/1489) d:\\repos\\Phone detection\\0122_cut.mp4: 384x640 (no detections), 146.0ms\n",
      "video 1/1 (frame 581/1489) d:\\repos\\Phone detection\\0122_cut.mp4: 384x640 (no detections), 140.4ms\n",
      "video 1/1 (frame 582/1489) d:\\repos\\Phone detection\\0122_cut.mp4: 384x640 (no detections), 147.2ms\n",
      "video 1/1 (frame 583/1489) d:\\repos\\Phone detection\\0122_cut.mp4: 384x640 (no detections), 181.9ms\n",
      "video 1/1 (frame 584/1489) d:\\repos\\Phone detection\\0122_cut.mp4: 384x640 (no detections), 155.0ms\n",
      "video 1/1 (frame 585/1489) d:\\repos\\Phone detection\\0122_cut.mp4: 384x640 (no detections), 179.3ms\n",
      "video 1/1 (frame 586/1489) d:\\repos\\Phone detection\\0122_cut.mp4: 384x640 (no detections), 152.0ms\n",
      "video 1/1 (frame 587/1489) d:\\repos\\Phone detection\\0122_cut.mp4: 384x640 (no detections), 146.5ms\n",
      "video 1/1 (frame 588/1489) d:\\repos\\Phone detection\\0122_cut.mp4: 384x640 (no detections), 171.4ms\n",
      "video 1/1 (frame 589/1489) d:\\repos\\Phone detection\\0122_cut.mp4: 384x640 (no detections), 163.6ms\n",
      "video 1/1 (frame 590/1489) d:\\repos\\Phone detection\\0122_cut.mp4: 384x640 (no detections), 146.5ms\n",
      "video 1/1 (frame 591/1489) d:\\repos\\Phone detection\\0122_cut.mp4: 384x640 (no detections), 125.0ms\n",
      "video 1/1 (frame 592/1489) d:\\repos\\Phone detection\\0122_cut.mp4: 384x640 (no detections), 111.7ms\n",
      "video 1/1 (frame 593/1489) d:\\repos\\Phone detection\\0122_cut.mp4: 384x640 (no detections), 103.5ms\n",
      "video 1/1 (frame 594/1489) d:\\repos\\Phone detection\\0122_cut.mp4: 384x640 (no detections), 81.4ms\n",
      "video 1/1 (frame 595/1489) d:\\repos\\Phone detection\\0122_cut.mp4: 384x640 (no detections), 94.2ms\n",
      "video 1/1 (frame 596/1489) d:\\repos\\Phone detection\\0122_cut.mp4: 384x640 (no detections), 106.9ms\n",
      "video 1/1 (frame 597/1489) d:\\repos\\Phone detection\\0122_cut.mp4: 384x640 (no detections), 157.0ms\n",
      "video 1/1 (frame 598/1489) d:\\repos\\Phone detection\\0122_cut.mp4: 384x640 (no detections), 178.2ms\n",
      "video 1/1 (frame 599/1489) d:\\repos\\Phone detection\\0122_cut.mp4: 384x640 (no detections), 174.0ms\n",
      "video 1/1 (frame 600/1489) d:\\repos\\Phone detection\\0122_cut.mp4: 384x640 (no detections), 155.8ms\n",
      "video 1/1 (frame 601/1489) d:\\repos\\Phone detection\\0122_cut.mp4: 384x640 (no detections), 151.2ms\n",
      "video 1/1 (frame 602/1489) d:\\repos\\Phone detection\\0122_cut.mp4: 384x640 (no detections), 176.2ms\n",
      "video 1/1 (frame 603/1489) d:\\repos\\Phone detection\\0122_cut.mp4: 384x640 (no detections), 168.2ms\n",
      "video 1/1 (frame 604/1489) d:\\repos\\Phone detection\\0122_cut.mp4: 384x640 (no detections), 185.2ms\n",
      "video 1/1 (frame 605/1489) d:\\repos\\Phone detection\\0122_cut.mp4: 384x640 (no detections), 149.8ms\n",
      "video 1/1 (frame 606/1489) d:\\repos\\Phone detection\\0122_cut.mp4: 384x640 (no detections), 163.2ms\n",
      "video 1/1 (frame 607/1489) d:\\repos\\Phone detection\\0122_cut.mp4: 384x640 (no detections), 166.6ms\n",
      "video 1/1 (frame 608/1489) d:\\repos\\Phone detection\\0122_cut.mp4: 384x640 (no detections), 180.4ms\n",
      "video 1/1 (frame 609/1489) d:\\repos\\Phone detection\\0122_cut.mp4: 384x640 (no detections), 162.3ms\n",
      "video 1/1 (frame 610/1489) d:\\repos\\Phone detection\\0122_cut.mp4: 384x640 (no detections), 151.9ms\n",
      "video 1/1 (frame 611/1489) d:\\repos\\Phone detection\\0122_cut.mp4: 384x640 (no detections), 175.8ms\n",
      "video 1/1 (frame 612/1489) d:\\repos\\Phone detection\\0122_cut.mp4: 384x640 (no detections), 185.4ms\n",
      "video 1/1 (frame 613/1489) d:\\repos\\Phone detection\\0122_cut.mp4: 384x640 (no detections), 180.2ms\n",
      "video 1/1 (frame 614/1489) d:\\repos\\Phone detection\\0122_cut.mp4: 384x640 (no detections), 179.3ms\n",
      "video 1/1 (frame 615/1489) d:\\repos\\Phone detection\\0122_cut.mp4: 384x640 (no detections), 180.1ms\n",
      "video 1/1 (frame 616/1489) d:\\repos\\Phone detection\\0122_cut.mp4: 384x640 (no detections), 149.9ms\n",
      "video 1/1 (frame 617/1489) d:\\repos\\Phone detection\\0122_cut.mp4: 384x640 (no detections), 125.8ms\n",
      "video 1/1 (frame 618/1489) d:\\repos\\Phone detection\\0122_cut.mp4: 384x640 (no detections), 141.1ms\n",
      "video 1/1 (frame 619/1489) d:\\repos\\Phone detection\\0122_cut.mp4: 384x640 (no detections), 122.7ms\n",
      "video 1/1 (frame 620/1489) d:\\repos\\Phone detection\\0122_cut.mp4: 384x640 (no detections), 88.6ms\n",
      "video 1/1 (frame 621/1489) d:\\repos\\Phone detection\\0122_cut.mp4: 384x640 (no detections), 107.1ms\n",
      "video 1/1 (frame 622/1489) d:\\repos\\Phone detection\\0122_cut.mp4: 384x640 (no detections), 132.9ms\n",
      "video 1/1 (frame 623/1489) d:\\repos\\Phone detection\\0122_cut.mp4: 384x640 (no detections), 95.4ms\n",
      "video 1/1 (frame 624/1489) d:\\repos\\Phone detection\\0122_cut.mp4: 384x640 (no detections), 99.5ms\n",
      "video 1/1 (frame 625/1489) d:\\repos\\Phone detection\\0122_cut.mp4: 384x640 (no detections), 157.4ms\n",
      "video 1/1 (frame 626/1489) d:\\repos\\Phone detection\\0122_cut.mp4: 384x640 (no detections), 106.9ms\n",
      "video 1/1 (frame 627/1489) d:\\repos\\Phone detection\\0122_cut.mp4: 384x640 (no detections), 112.3ms\n",
      "video 1/1 (frame 628/1489) d:\\repos\\Phone detection\\0122_cut.mp4: 384x640 (no detections), 127.5ms\n",
      "video 1/1 (frame 629/1489) d:\\repos\\Phone detection\\0122_cut.mp4: 384x640 (no detections), 148.6ms\n",
      "video 1/1 (frame 630/1489) d:\\repos\\Phone detection\\0122_cut.mp4: 384x640 (no detections), 103.8ms\n",
      "video 1/1 (frame 631/1489) d:\\repos\\Phone detection\\0122_cut.mp4: 384x640 (no detections), 151.7ms\n",
      "video 1/1 (frame 632/1489) d:\\repos\\Phone detection\\0122_cut.mp4: 384x640 (no detections), 150.2ms\n",
      "video 1/1 (frame 633/1489) d:\\repos\\Phone detection\\0122_cut.mp4: 384x640 (no detections), 180.8ms\n",
      "video 1/1 (frame 634/1489) d:\\repos\\Phone detection\\0122_cut.mp4: 384x640 (no detections), 153.0ms\n",
      "video 1/1 (frame 635/1489) d:\\repos\\Phone detection\\0122_cut.mp4: 384x640 (no detections), 148.2ms\n",
      "video 1/1 (frame 636/1489) d:\\repos\\Phone detection\\0122_cut.mp4: 384x640 (no detections), 156.3ms\n",
      "video 1/1 (frame 637/1489) d:\\repos\\Phone detection\\0122_cut.mp4: 384x640 (no detections), 137.6ms\n",
      "video 1/1 (frame 638/1489) d:\\repos\\Phone detection\\0122_cut.mp4: 384x640 (no detections), 158.8ms\n",
      "video 1/1 (frame 639/1489) d:\\repos\\Phone detection\\0122_cut.mp4: 384x640 (no detections), 171.0ms\n",
      "video 1/1 (frame 640/1489) d:\\repos\\Phone detection\\0122_cut.mp4: 384x640 (no detections), 185.0ms\n",
      "video 1/1 (frame 641/1489) d:\\repos\\Phone detection\\0122_cut.mp4: 384x640 (no detections), 219.7ms\n",
      "video 1/1 (frame 642/1489) d:\\repos\\Phone detection\\0122_cut.mp4: 384x640 (no detections), 164.5ms\n",
      "video 1/1 (frame 643/1489) d:\\repos\\Phone detection\\0122_cut.mp4: 384x640 (no detections), 145.9ms\n",
      "video 1/1 (frame 644/1489) d:\\repos\\Phone detection\\0122_cut.mp4: 384x640 (no detections), 178.2ms\n",
      "video 1/1 (frame 645/1489) d:\\repos\\Phone detection\\0122_cut.mp4: 384x640 (no detections), 174.1ms\n",
      "video 1/1 (frame 646/1489) d:\\repos\\Phone detection\\0122_cut.mp4: 384x640 (no detections), 177.3ms\n",
      "video 1/1 (frame 647/1489) d:\\repos\\Phone detection\\0122_cut.mp4: 384x640 (no detections), 156.7ms\n",
      "video 1/1 (frame 648/1489) d:\\repos\\Phone detection\\0122_cut.mp4: 384x640 (no detections), 170.3ms\n",
      "video 1/1 (frame 649/1489) d:\\repos\\Phone detection\\0122_cut.mp4: 384x640 (no detections), 135.7ms\n",
      "video 1/1 (frame 650/1489) d:\\repos\\Phone detection\\0122_cut.mp4: 384x640 (no detections), 168.0ms\n",
      "video 1/1 (frame 651/1489) d:\\repos\\Phone detection\\0122_cut.mp4: 384x640 (no detections), 161.2ms\n",
      "video 1/1 (frame 652/1489) d:\\repos\\Phone detection\\0122_cut.mp4: 384x640 (no detections), 138.5ms\n",
      "video 1/1 (frame 653/1489) d:\\repos\\Phone detection\\0122_cut.mp4: 384x640 (no detections), 168.5ms\n",
      "video 1/1 (frame 654/1489) d:\\repos\\Phone detection\\0122_cut.mp4: 384x640 (no detections), 162.6ms\n",
      "video 1/1 (frame 655/1489) d:\\repos\\Phone detection\\0122_cut.mp4: 384x640 (no detections), 145.5ms\n",
      "video 1/1 (frame 656/1489) d:\\repos\\Phone detection\\0122_cut.mp4: 384x640 (no detections), 170.7ms\n",
      "video 1/1 (frame 657/1489) d:\\repos\\Phone detection\\0122_cut.mp4: 384x640 (no detections), 182.2ms\n",
      "video 1/1 (frame 658/1489) d:\\repos\\Phone detection\\0122_cut.mp4: 384x640 (no detections), 196.8ms\n",
      "video 1/1 (frame 659/1489) d:\\repos\\Phone detection\\0122_cut.mp4: 384x640 (no detections), 176.1ms\n",
      "video 1/1 (frame 660/1489) d:\\repos\\Phone detection\\0122_cut.mp4: 384x640 (no detections), 148.5ms\n",
      "video 1/1 (frame 661/1489) d:\\repos\\Phone detection\\0122_cut.mp4: 384x640 (no detections), 168.0ms\n",
      "video 1/1 (frame 662/1489) d:\\repos\\Phone detection\\0122_cut.mp4: 384x640 (no detections), 170.2ms\n",
      "video 1/1 (frame 663/1489) d:\\repos\\Phone detection\\0122_cut.mp4: 384x640 (no detections), 162.7ms\n",
      "video 1/1 (frame 664/1489) d:\\repos\\Phone detection\\0122_cut.mp4: 384x640 (no detections), 187.6ms\n",
      "video 1/1 (frame 665/1489) d:\\repos\\Phone detection\\0122_cut.mp4: 384x640 (no detections), 154.6ms\n",
      "video 1/1 (frame 666/1489) d:\\repos\\Phone detection\\0122_cut.mp4: 384x640 (no detections), 151.1ms\n",
      "video 1/1 (frame 667/1489) d:\\repos\\Phone detection\\0122_cut.mp4: 384x640 (no detections), 164.7ms\n",
      "video 1/1 (frame 668/1489) d:\\repos\\Phone detection\\0122_cut.mp4: 384x640 (no detections), 159.0ms\n",
      "video 1/1 (frame 669/1489) d:\\repos\\Phone detection\\0122_cut.mp4: 384x640 (no detections), 155.5ms\n",
      "video 1/1 (frame 670/1489) d:\\repos\\Phone detection\\0122_cut.mp4: 384x640 (no detections), 160.0ms\n",
      "video 1/1 (frame 671/1489) d:\\repos\\Phone detection\\0122_cut.mp4: 384x640 (no detections), 128.7ms\n",
      "video 1/1 (frame 672/1489) d:\\repos\\Phone detection\\0122_cut.mp4: 384x640 (no detections), 150.0ms\n",
      "video 1/1 (frame 673/1489) d:\\repos\\Phone detection\\0122_cut.mp4: 384x640 (no detections), 122.4ms\n",
      "video 1/1 (frame 674/1489) d:\\repos\\Phone detection\\0122_cut.mp4: 384x640 (no detections), 115.7ms\n",
      "video 1/1 (frame 675/1489) d:\\repos\\Phone detection\\0122_cut.mp4: 384x640 (no detections), 127.0ms\n",
      "video 1/1 (frame 676/1489) d:\\repos\\Phone detection\\0122_cut.mp4: 384x640 (no detections), 101.0ms\n",
      "video 1/1 (frame 677/1489) d:\\repos\\Phone detection\\0122_cut.mp4: 384x640 (no detections), 123.1ms\n",
      "video 1/1 (frame 678/1489) d:\\repos\\Phone detection\\0122_cut.mp4: 384x640 (no detections), 102.0ms\n",
      "video 1/1 (frame 679/1489) d:\\repos\\Phone detection\\0122_cut.mp4: 384x640 (no detections), 114.3ms\n",
      "video 1/1 (frame 680/1489) d:\\repos\\Phone detection\\0122_cut.mp4: 384x640 (no detections), 109.1ms\n",
      "video 1/1 (frame 681/1489) d:\\repos\\Phone detection\\0122_cut.mp4: 384x640 (no detections), 123.3ms\n",
      "video 1/1 (frame 682/1489) d:\\repos\\Phone detection\\0122_cut.mp4: 384x640 (no detections), 148.8ms\n",
      "video 1/1 (frame 683/1489) d:\\repos\\Phone detection\\0122_cut.mp4: 384x640 (no detections), 139.0ms\n",
      "video 1/1 (frame 684/1489) d:\\repos\\Phone detection\\0122_cut.mp4: 384x640 (no detections), 97.0ms\n",
      "video 1/1 (frame 685/1489) d:\\repos\\Phone detection\\0122_cut.mp4: 384x640 (no detections), 88.5ms\n",
      "video 1/1 (frame 686/1489) d:\\repos\\Phone detection\\0122_cut.mp4: 384x640 (no detections), 95.0ms\n",
      "video 1/1 (frame 687/1489) d:\\repos\\Phone detection\\0122_cut.mp4: 384x640 (no detections), 94.6ms\n",
      "video 1/1 (frame 688/1489) d:\\repos\\Phone detection\\0122_cut.mp4: 384x640 (no detections), 89.6ms\n",
      "video 1/1 (frame 689/1489) d:\\repos\\Phone detection\\0122_cut.mp4: 384x640 (no detections), 110.7ms\n",
      "video 1/1 (frame 690/1489) d:\\repos\\Phone detection\\0122_cut.mp4: 384x640 (no detections), 104.8ms\n",
      "video 1/1 (frame 691/1489) d:\\repos\\Phone detection\\0122_cut.mp4: 384x640 (no detections), 88.8ms\n",
      "video 1/1 (frame 692/1489) d:\\repos\\Phone detection\\0122_cut.mp4: 384x640 (no detections), 86.0ms\n",
      "video 1/1 (frame 693/1489) d:\\repos\\Phone detection\\0122_cut.mp4: 384x640 (no detections), 99.9ms\n",
      "video 1/1 (frame 694/1489) d:\\repos\\Phone detection\\0122_cut.mp4: 384x640 (no detections), 85.0ms\n",
      "video 1/1 (frame 695/1489) d:\\repos\\Phone detection\\0122_cut.mp4: 384x640 (no detections), 86.9ms\n",
      "video 1/1 (frame 696/1489) d:\\repos\\Phone detection\\0122_cut.mp4: 384x640 (no detections), 150.3ms\n",
      "video 1/1 (frame 697/1489) d:\\repos\\Phone detection\\0122_cut.mp4: 384x640 (no detections), 153.3ms\n",
      "video 1/1 (frame 698/1489) d:\\repos\\Phone detection\\0122_cut.mp4: 384x640 (no detections), 184.5ms\n",
      "video 1/1 (frame 699/1489) d:\\repos\\Phone detection\\0122_cut.mp4: 384x640 (no detections), 145.3ms\n",
      "video 1/1 (frame 700/1489) d:\\repos\\Phone detection\\0122_cut.mp4: 384x640 (no detections), 123.8ms\n",
      "video 1/1 (frame 701/1489) d:\\repos\\Phone detection\\0122_cut.mp4: 384x640 (no detections), 155.8ms\n",
      "video 1/1 (frame 702/1489) d:\\repos\\Phone detection\\0122_cut.mp4: 384x640 (no detections), 166.3ms\n",
      "video 1/1 (frame 703/1489) d:\\repos\\Phone detection\\0122_cut.mp4: 384x640 (no detections), 156.3ms\n",
      "video 1/1 (frame 704/1489) d:\\repos\\Phone detection\\0122_cut.mp4: 384x640 (no detections), 159.0ms\n",
      "video 1/1 (frame 705/1489) d:\\repos\\Phone detection\\0122_cut.mp4: 384x640 (no detections), 154.1ms\n",
      "video 1/1 (frame 706/1489) d:\\repos\\Phone detection\\0122_cut.mp4: 384x640 (no detections), 117.8ms\n",
      "video 1/1 (frame 707/1489) d:\\repos\\Phone detection\\0122_cut.mp4: 384x640 (no detections), 111.4ms\n",
      "video 1/1 (frame 708/1489) d:\\repos\\Phone detection\\0122_cut.mp4: 384x640 (no detections), 148.2ms\n",
      "video 1/1 (frame 709/1489) d:\\repos\\Phone detection\\0122_cut.mp4: 384x640 (no detections), 146.2ms\n",
      "video 1/1 (frame 710/1489) d:\\repos\\Phone detection\\0122_cut.mp4: 384x640 (no detections), 172.1ms\n",
      "video 1/1 (frame 711/1489) d:\\repos\\Phone detection\\0122_cut.mp4: 384x640 (no detections), 184.1ms\n",
      "video 1/1 (frame 712/1489) d:\\repos\\Phone detection\\0122_cut.mp4: 384x640 (no detections), 177.9ms\n",
      "video 1/1 (frame 713/1489) d:\\repos\\Phone detection\\0122_cut.mp4: 384x640 (no detections), 186.9ms\n",
      "video 1/1 (frame 714/1489) d:\\repos\\Phone detection\\0122_cut.mp4: 384x640 (no detections), 150.3ms\n",
      "video 1/1 (frame 715/1489) d:\\repos\\Phone detection\\0122_cut.mp4: 384x640 (no detections), 166.4ms\n",
      "video 1/1 (frame 716/1489) d:\\repos\\Phone detection\\0122_cut.mp4: 384x640 (no detections), 146.5ms\n",
      "video 1/1 (frame 717/1489) d:\\repos\\Phone detection\\0122_cut.mp4: 384x640 (no detections), 130.6ms\n",
      "video 1/1 (frame 718/1489) d:\\repos\\Phone detection\\0122_cut.mp4: 384x640 (no detections), 147.7ms\n",
      "video 1/1 (frame 719/1489) d:\\repos\\Phone detection\\0122_cut.mp4: 384x640 (no detections), 141.5ms\n",
      "video 1/1 (frame 720/1489) d:\\repos\\Phone detection\\0122_cut.mp4: 384x640 (no detections), 141.0ms\n",
      "video 1/1 (frame 721/1489) d:\\repos\\Phone detection\\0122_cut.mp4: 384x640 (no detections), 151.5ms\n",
      "video 1/1 (frame 722/1489) d:\\repos\\Phone detection\\0122_cut.mp4: 384x640 (no detections), 159.8ms\n",
      "video 1/1 (frame 723/1489) d:\\repos\\Phone detection\\0122_cut.mp4: 384x640 (no detections), 157.9ms\n",
      "video 1/1 (frame 724/1489) d:\\repos\\Phone detection\\0122_cut.mp4: 384x640 (no detections), 171.9ms\n",
      "video 1/1 (frame 725/1489) d:\\repos\\Phone detection\\0122_cut.mp4: 384x640 (no detections), 112.4ms\n",
      "video 1/1 (frame 726/1489) d:\\repos\\Phone detection\\0122_cut.mp4: 384x640 (no detections), 156.7ms\n",
      "video 1/1 (frame 727/1489) d:\\repos\\Phone detection\\0122_cut.mp4: 384x640 (no detections), 151.5ms\n",
      "video 1/1 (frame 728/1489) d:\\repos\\Phone detection\\0122_cut.mp4: 384x640 (no detections), 139.1ms\n",
      "video 1/1 (frame 729/1489) d:\\repos\\Phone detection\\0122_cut.mp4: 384x640 (no detections), 163.7ms\n",
      "video 1/1 (frame 730/1489) d:\\repos\\Phone detection\\0122_cut.mp4: 384x640 (no detections), 168.4ms\n",
      "video 1/1 (frame 731/1489) d:\\repos\\Phone detection\\0122_cut.mp4: 384x640 (no detections), 134.6ms\n",
      "video 1/1 (frame 732/1489) d:\\repos\\Phone detection\\0122_cut.mp4: 384x640 (no detections), 133.5ms\n",
      "video 1/1 (frame 733/1489) d:\\repos\\Phone detection\\0122_cut.mp4: 384x640 (no detections), 161.3ms\n",
      "video 1/1 (frame 734/1489) d:\\repos\\Phone detection\\0122_cut.mp4: 384x640 (no detections), 175.5ms\n",
      "video 1/1 (frame 735/1489) d:\\repos\\Phone detection\\0122_cut.mp4: 384x640 (no detections), 143.0ms\n",
      "video 1/1 (frame 736/1489) d:\\repos\\Phone detection\\0122_cut.mp4: 384x640 (no detections), 166.0ms\n",
      "video 1/1 (frame 737/1489) d:\\repos\\Phone detection\\0122_cut.mp4: 384x640 (no detections), 122.5ms\n",
      "video 1/1 (frame 738/1489) d:\\repos\\Phone detection\\0122_cut.mp4: 384x640 (no detections), 160.6ms\n",
      "video 1/1 (frame 739/1489) d:\\repos\\Phone detection\\0122_cut.mp4: 384x640 (no detections), 166.1ms\n",
      "video 1/1 (frame 740/1489) d:\\repos\\Phone detection\\0122_cut.mp4: 384x640 (no detections), 161.6ms\n",
      "video 1/1 (frame 741/1489) d:\\repos\\Phone detection\\0122_cut.mp4: 384x640 (no detections), 119.9ms\n",
      "video 1/1 (frame 742/1489) d:\\repos\\Phone detection\\0122_cut.mp4: 384x640 (no detections), 156.2ms\n",
      "video 1/1 (frame 743/1489) d:\\repos\\Phone detection\\0122_cut.mp4: 384x640 (no detections), 181.3ms\n",
      "video 1/1 (frame 744/1489) d:\\repos\\Phone detection\\0122_cut.mp4: 384x640 (no detections), 113.3ms\n",
      "video 1/1 (frame 745/1489) d:\\repos\\Phone detection\\0122_cut.mp4: 384x640 (no detections), 138.2ms\n",
      "video 1/1 (frame 746/1489) d:\\repos\\Phone detection\\0122_cut.mp4: 384x640 (no detections), 125.3ms\n",
      "video 1/1 (frame 747/1489) d:\\repos\\Phone detection\\0122_cut.mp4: 384x640 (no detections), 98.5ms\n",
      "video 1/1 (frame 748/1489) d:\\repos\\Phone detection\\0122_cut.mp4: 384x640 (no detections), 93.1ms\n",
      "video 1/1 (frame 749/1489) d:\\repos\\Phone detection\\0122_cut.mp4: 384x640 (no detections), 103.6ms\n",
      "video 1/1 (frame 750/1489) d:\\repos\\Phone detection\\0122_cut.mp4: 384x640 (no detections), 98.6ms\n",
      "video 1/1 (frame 751/1489) d:\\repos\\Phone detection\\0122_cut.mp4: 384x640 (no detections), 98.9ms\n",
      "video 1/1 (frame 752/1489) d:\\repos\\Phone detection\\0122_cut.mp4: 384x640 (no detections), 131.1ms\n",
      "video 1/1 (frame 753/1489) d:\\repos\\Phone detection\\0122_cut.mp4: 384x640 (no detections), 105.8ms\n",
      "video 1/1 (frame 754/1489) d:\\repos\\Phone detection\\0122_cut.mp4: 384x640 (no detections), 103.1ms\n",
      "video 1/1 (frame 755/1489) d:\\repos\\Phone detection\\0122_cut.mp4: 384x640 (no detections), 108.8ms\n",
      "video 1/1 (frame 756/1489) d:\\repos\\Phone detection\\0122_cut.mp4: 384x640 (no detections), 103.7ms\n",
      "video 1/1 (frame 757/1489) d:\\repos\\Phone detection\\0122_cut.mp4: 384x640 (no detections), 102.2ms\n",
      "video 1/1 (frame 758/1489) d:\\repos\\Phone detection\\0122_cut.mp4: 384x640 (no detections), 103.3ms\n",
      "video 1/1 (frame 759/1489) d:\\repos\\Phone detection\\0122_cut.mp4: 384x640 (no detections), 103.2ms\n",
      "video 1/1 (frame 760/1489) d:\\repos\\Phone detection\\0122_cut.mp4: 384x640 (no detections), 100.2ms\n",
      "video 1/1 (frame 761/1489) d:\\repos\\Phone detection\\0122_cut.mp4: 384x640 (no detections), 96.4ms\n",
      "video 1/1 (frame 762/1489) d:\\repos\\Phone detection\\0122_cut.mp4: 384x640 (no detections), 92.0ms\n",
      "video 1/1 (frame 763/1489) d:\\repos\\Phone detection\\0122_cut.mp4: 384x640 (no detections), 94.8ms\n",
      "video 1/1 (frame 764/1489) d:\\repos\\Phone detection\\0122_cut.mp4: 384x640 (no detections), 90.7ms\n",
      "video 1/1 (frame 765/1489) d:\\repos\\Phone detection\\0122_cut.mp4: 384x640 (no detections), 90.5ms\n",
      "video 1/1 (frame 766/1489) d:\\repos\\Phone detection\\0122_cut.mp4: 384x640 (no detections), 88.1ms\n",
      "video 1/1 (frame 767/1489) d:\\repos\\Phone detection\\0122_cut.mp4: 384x640 (no detections), 110.6ms\n",
      "video 1/1 (frame 768/1489) d:\\repos\\Phone detection\\0122_cut.mp4: 384x640 (no detections), 91.2ms\n",
      "video 1/1 (frame 769/1489) d:\\repos\\Phone detection\\0122_cut.mp4: 384x640 (no detections), 134.3ms\n",
      "video 1/1 (frame 770/1489) d:\\repos\\Phone detection\\0122_cut.mp4: 384x640 (no detections), 117.2ms\n",
      "video 1/1 (frame 771/1489) d:\\repos\\Phone detection\\0122_cut.mp4: 384x640 (no detections), 149.4ms\n",
      "video 1/1 (frame 772/1489) d:\\repos\\Phone detection\\0122_cut.mp4: 384x640 (no detections), 162.9ms\n",
      "video 1/1 (frame 773/1489) d:\\repos\\Phone detection\\0122_cut.mp4: 384x640 (no detections), 171.5ms\n",
      "video 1/1 (frame 774/1489) d:\\repos\\Phone detection\\0122_cut.mp4: 384x640 (no detections), 190.5ms\n",
      "video 1/1 (frame 775/1489) d:\\repos\\Phone detection\\0122_cut.mp4: 384x640 (no detections), 175.9ms\n",
      "video 1/1 (frame 776/1489) d:\\repos\\Phone detection\\0122_cut.mp4: 384x640 (no detections), 201.2ms\n",
      "video 1/1 (frame 777/1489) d:\\repos\\Phone detection\\0122_cut.mp4: 384x640 (no detections), 154.9ms\n",
      "video 1/1 (frame 778/1489) d:\\repos\\Phone detection\\0122_cut.mp4: 384x640 (no detections), 154.5ms\n",
      "video 1/1 (frame 779/1489) d:\\repos\\Phone detection\\0122_cut.mp4: 384x640 (no detections), 138.5ms\n",
      "video 1/1 (frame 780/1489) d:\\repos\\Phone detection\\0122_cut.mp4: 384x640 (no detections), 171.4ms\n",
      "video 1/1 (frame 781/1489) d:\\repos\\Phone detection\\0122_cut.mp4: 384x640 (no detections), 162.7ms\n",
      "video 1/1 (frame 782/1489) d:\\repos\\Phone detection\\0122_cut.mp4: 384x640 (no detections), 157.2ms\n",
      "video 1/1 (frame 783/1489) d:\\repos\\Phone detection\\0122_cut.mp4: 384x640 (no detections), 177.2ms\n",
      "video 1/1 (frame 784/1489) d:\\repos\\Phone detection\\0122_cut.mp4: 384x640 (no detections), 157.4ms\n",
      "video 1/1 (frame 785/1489) d:\\repos\\Phone detection\\0122_cut.mp4: 384x640 (no detections), 157.0ms\n",
      "video 1/1 (frame 786/1489) d:\\repos\\Phone detection\\0122_cut.mp4: 384x640 (no detections), 162.2ms\n",
      "video 1/1 (frame 787/1489) d:\\repos\\Phone detection\\0122_cut.mp4: 384x640 (no detections), 172.2ms\n",
      "video 1/1 (frame 788/1489) d:\\repos\\Phone detection\\0122_cut.mp4: 384x640 (no detections), 186.4ms\n",
      "video 1/1 (frame 789/1489) d:\\repos\\Phone detection\\0122_cut.mp4: 384x640 (no detections), 147.6ms\n",
      "video 1/1 (frame 790/1489) d:\\repos\\Phone detection\\0122_cut.mp4: 384x640 (no detections), 182.6ms\n",
      "video 1/1 (frame 791/1489) d:\\repos\\Phone detection\\0122_cut.mp4: 384x640 (no detections), 197.4ms\n",
      "video 1/1 (frame 792/1489) d:\\repos\\Phone detection\\0122_cut.mp4: 384x640 (no detections), 149.3ms\n",
      "video 1/1 (frame 793/1489) d:\\repos\\Phone detection\\0122_cut.mp4: 384x640 (no detections), 165.9ms\n",
      "video 1/1 (frame 794/1489) d:\\repos\\Phone detection\\0122_cut.mp4: 384x640 (no detections), 166.4ms\n",
      "video 1/1 (frame 795/1489) d:\\repos\\Phone detection\\0122_cut.mp4: 384x640 (no detections), 187.8ms\n",
      "video 1/1 (frame 796/1489) d:\\repos\\Phone detection\\0122_cut.mp4: 384x640 (no detections), 164.0ms\n",
      "video 1/1 (frame 797/1489) d:\\repos\\Phone detection\\0122_cut.mp4: 384x640 (no detections), 143.9ms\n",
      "video 1/1 (frame 798/1489) d:\\repos\\Phone detection\\0122_cut.mp4: 384x640 (no detections), 120.3ms\n",
      "video 1/1 (frame 799/1489) d:\\repos\\Phone detection\\0122_cut.mp4: 384x640 (no detections), 115.5ms\n",
      "video 1/1 (frame 800/1489) d:\\repos\\Phone detection\\0122_cut.mp4: 384x640 (no detections), 148.4ms\n",
      "video 1/1 (frame 801/1489) d:\\repos\\Phone detection\\0122_cut.mp4: 384x640 (no detections), 137.7ms\n",
      "video 1/1 (frame 802/1489) d:\\repos\\Phone detection\\0122_cut.mp4: 384x640 (no detections), 161.0ms\n",
      "video 1/1 (frame 803/1489) d:\\repos\\Phone detection\\0122_cut.mp4: 384x640 (no detections), 150.7ms\n",
      "video 1/1 (frame 804/1489) d:\\repos\\Phone detection\\0122_cut.mp4: 384x640 (no detections), 151.8ms\n",
      "video 1/1 (frame 805/1489) d:\\repos\\Phone detection\\0122_cut.mp4: 384x640 (no detections), 120.1ms\n",
      "video 1/1 (frame 806/1489) d:\\repos\\Phone detection\\0122_cut.mp4: 384x640 (no detections), 110.1ms\n",
      "video 1/1 (frame 807/1489) d:\\repos\\Phone detection\\0122_cut.mp4: 384x640 (no detections), 123.4ms\n",
      "video 1/1 (frame 808/1489) d:\\repos\\Phone detection\\0122_cut.mp4: 384x640 (no detections), 190.8ms\n",
      "video 1/1 (frame 809/1489) d:\\repos\\Phone detection\\0122_cut.mp4: 384x640 (no detections), 212.3ms\n",
      "video 1/1 (frame 810/1489) d:\\repos\\Phone detection\\0122_cut.mp4: 384x640 (no detections), 157.4ms\n",
      "video 1/1 (frame 811/1489) d:\\repos\\Phone detection\\0122_cut.mp4: 384x640 (no detections), 188.3ms\n",
      "video 1/1 (frame 812/1489) d:\\repos\\Phone detection\\0122_cut.mp4: 384x640 (no detections), 189.3ms\n",
      "video 1/1 (frame 813/1489) d:\\repos\\Phone detection\\0122_cut.mp4: 384x640 (no detections), 182.9ms\n",
      "video 1/1 (frame 814/1489) d:\\repos\\Phone detection\\0122_cut.mp4: 384x640 (no detections), 149.2ms\n",
      "video 1/1 (frame 815/1489) d:\\repos\\Phone detection\\0122_cut.mp4: 384x640 (no detections), 100.6ms\n",
      "video 1/1 (frame 816/1489) d:\\repos\\Phone detection\\0122_cut.mp4: 384x640 (no detections), 101.9ms\n",
      "video 1/1 (frame 817/1489) d:\\repos\\Phone detection\\0122_cut.mp4: 384x640 (no detections), 114.3ms\n",
      "video 1/1 (frame 818/1489) d:\\repos\\Phone detection\\0122_cut.mp4: 384x640 (no detections), 111.5ms\n",
      "video 1/1 (frame 819/1489) d:\\repos\\Phone detection\\0122_cut.mp4: 384x640 (no detections), 158.0ms\n",
      "video 1/1 (frame 820/1489) d:\\repos\\Phone detection\\0122_cut.mp4: 384x640 (no detections), 115.6ms\n",
      "video 1/1 (frame 821/1489) d:\\repos\\Phone detection\\0122_cut.mp4: 384x640 (no detections), 116.5ms\n",
      "video 1/1 (frame 822/1489) d:\\repos\\Phone detection\\0122_cut.mp4: 384x640 (no detections), 107.5ms\n",
      "video 1/1 (frame 823/1489) d:\\repos\\Phone detection\\0122_cut.mp4: 384x640 (no detections), 104.0ms\n",
      "video 1/1 (frame 824/1489) d:\\repos\\Phone detection\\0122_cut.mp4: 384x640 (no detections), 110.7ms\n",
      "video 1/1 (frame 825/1489) d:\\repos\\Phone detection\\0122_cut.mp4: 384x640 (no detections), 100.2ms\n",
      "video 1/1 (frame 826/1489) d:\\repos\\Phone detection\\0122_cut.mp4: 384x640 (no detections), 121.1ms\n",
      "video 1/1 (frame 827/1489) d:\\repos\\Phone detection\\0122_cut.mp4: 384x640 (no detections), 112.1ms\n",
      "video 1/1 (frame 828/1489) d:\\repos\\Phone detection\\0122_cut.mp4: 384x640 (no detections), 166.1ms\n",
      "video 1/1 (frame 829/1489) d:\\repos\\Phone detection\\0122_cut.mp4: 384x640 (no detections), 148.8ms\n",
      "video 1/1 (frame 830/1489) d:\\repos\\Phone detection\\0122_cut.mp4: 384x640 (no detections), 172.0ms\n",
      "video 1/1 (frame 831/1489) d:\\repos\\Phone detection\\0122_cut.mp4: 384x640 (no detections), 158.2ms\n",
      "video 1/1 (frame 832/1489) d:\\repos\\Phone detection\\0122_cut.mp4: 384x640 (no detections), 180.0ms\n",
      "video 1/1 (frame 833/1489) d:\\repos\\Phone detection\\0122_cut.mp4: 384x640 (no detections), 131.2ms\n",
      "video 1/1 (frame 834/1489) d:\\repos\\Phone detection\\0122_cut.mp4: 384x640 (no detections), 194.5ms\n",
      "video 1/1 (frame 835/1489) d:\\repos\\Phone detection\\0122_cut.mp4: 384x640 (no detections), 166.9ms\n",
      "video 1/1 (frame 836/1489) d:\\repos\\Phone detection\\0122_cut.mp4: 384x640 (no detections), 167.1ms\n",
      "video 1/1 (frame 837/1489) d:\\repos\\Phone detection\\0122_cut.mp4: 384x640 (no detections), 126.1ms\n",
      "video 1/1 (frame 838/1489) d:\\repos\\Phone detection\\0122_cut.mp4: 384x640 (no detections), 134.9ms\n",
      "video 1/1 (frame 839/1489) d:\\repos\\Phone detection\\0122_cut.mp4: 384x640 (no detections), 133.8ms\n",
      "video 1/1 (frame 840/1489) d:\\repos\\Phone detection\\0122_cut.mp4: 384x640 (no detections), 145.0ms\n",
      "video 1/1 (frame 841/1489) d:\\repos\\Phone detection\\0122_cut.mp4: 384x640 (no detections), 158.7ms\n",
      "video 1/1 (frame 842/1489) d:\\repos\\Phone detection\\0122_cut.mp4: 384x640 (no detections), 128.9ms\n",
      "video 1/1 (frame 843/1489) d:\\repos\\Phone detection\\0122_cut.mp4: 384x640 (no detections), 150.7ms\n",
      "video 1/1 (frame 844/1489) d:\\repos\\Phone detection\\0122_cut.mp4: 384x640 (no detections), 152.3ms\n",
      "video 1/1 (frame 845/1489) d:\\repos\\Phone detection\\0122_cut.mp4: 384x640 (no detections), 160.3ms\n",
      "video 1/1 (frame 846/1489) d:\\repos\\Phone detection\\0122_cut.mp4: 384x640 (no detections), 154.2ms\n",
      "video 1/1 (frame 847/1489) d:\\repos\\Phone detection\\0122_cut.mp4: 384x640 (no detections), 154.6ms\n",
      "video 1/1 (frame 848/1489) d:\\repos\\Phone detection\\0122_cut.mp4: 384x640 (no detections), 155.2ms\n",
      "video 1/1 (frame 849/1489) d:\\repos\\Phone detection\\0122_cut.mp4: 384x640 (no detections), 188.4ms\n",
      "video 1/1 (frame 850/1489) d:\\repos\\Phone detection\\0122_cut.mp4: 384x640 (no detections), 155.7ms\n",
      "video 1/1 (frame 851/1489) d:\\repos\\Phone detection\\0122_cut.mp4: 384x640 (no detections), 164.3ms\n",
      "video 1/1 (frame 852/1489) d:\\repos\\Phone detection\\0122_cut.mp4: 384x640 (no detections), 137.6ms\n",
      "video 1/1 (frame 853/1489) d:\\repos\\Phone detection\\0122_cut.mp4: 384x640 (no detections), 163.1ms\n",
      "video 1/1 (frame 854/1489) d:\\repos\\Phone detection\\0122_cut.mp4: 384x640 (no detections), 156.4ms\n",
      "video 1/1 (frame 855/1489) d:\\repos\\Phone detection\\0122_cut.mp4: 384x640 (no detections), 176.9ms\n",
      "video 1/1 (frame 856/1489) d:\\repos\\Phone detection\\0122_cut.mp4: 384x640 (no detections), 137.7ms\n",
      "video 1/1 (frame 857/1489) d:\\repos\\Phone detection\\0122_cut.mp4: 384x640 (no detections), 156.9ms\n",
      "video 1/1 (frame 858/1489) d:\\repos\\Phone detection\\0122_cut.mp4: 384x640 (no detections), 109.3ms\n",
      "video 1/1 (frame 859/1489) d:\\repos\\Phone detection\\0122_cut.mp4: 384x640 (no detections), 120.2ms\n",
      "video 1/1 (frame 860/1489) d:\\repos\\Phone detection\\0122_cut.mp4: 384x640 (no detections), 146.3ms\n",
      "video 1/1 (frame 861/1489) d:\\repos\\Phone detection\\0122_cut.mp4: 384x640 (no detections), 168.7ms\n",
      "video 1/1 (frame 862/1489) d:\\repos\\Phone detection\\0122_cut.mp4: 384x640 (no detections), 141.3ms\n",
      "video 1/1 (frame 863/1489) d:\\repos\\Phone detection\\0122_cut.mp4: 384x640 (no detections), 134.0ms\n",
      "video 1/1 (frame 864/1489) d:\\repos\\Phone detection\\0122_cut.mp4: 384x640 (no detections), 138.4ms\n",
      "video 1/1 (frame 865/1489) d:\\repos\\Phone detection\\0122_cut.mp4: 384x640 (no detections), 158.0ms\n",
      "video 1/1 (frame 866/1489) d:\\repos\\Phone detection\\0122_cut.mp4: 384x640 (no detections), 151.0ms\n",
      "video 1/1 (frame 867/1489) d:\\repos\\Phone detection\\0122_cut.mp4: 384x640 (no detections), 176.4ms\n",
      "video 1/1 (frame 868/1489) d:\\repos\\Phone detection\\0122_cut.mp4: 384x640 (no detections), 216.8ms\n",
      "video 1/1 (frame 869/1489) d:\\repos\\Phone detection\\0122_cut.mp4: 384x640 (no detections), 196.9ms\n",
      "video 1/1 (frame 870/1489) d:\\repos\\Phone detection\\0122_cut.mp4: 384x640 (no detections), 177.1ms\n",
      "video 1/1 (frame 871/1489) d:\\repos\\Phone detection\\0122_cut.mp4: 384x640 (no detections), 173.5ms\n",
      "video 1/1 (frame 872/1489) d:\\repos\\Phone detection\\0122_cut.mp4: 384x640 (no detections), 183.1ms\n",
      "video 1/1 (frame 873/1489) d:\\repos\\Phone detection\\0122_cut.mp4: 384x640 (no detections), 155.8ms\n",
      "video 1/1 (frame 874/1489) d:\\repos\\Phone detection\\0122_cut.mp4: 384x640 (no detections), 170.6ms\n",
      "video 1/1 (frame 875/1489) d:\\repos\\Phone detection\\0122_cut.mp4: 384x640 (no detections), 208.3ms\n",
      "video 1/1 (frame 876/1489) d:\\repos\\Phone detection\\0122_cut.mp4: 384x640 (no detections), 175.1ms\n",
      "video 1/1 (frame 877/1489) d:\\repos\\Phone detection\\0122_cut.mp4: 384x640 (no detections), 183.6ms\n",
      "video 1/1 (frame 878/1489) d:\\repos\\Phone detection\\0122_cut.mp4: 384x640 (no detections), 216.6ms\n",
      "video 1/1 (frame 879/1489) d:\\repos\\Phone detection\\0122_cut.mp4: 384x640 (no detections), 143.2ms\n",
      "video 1/1 (frame 880/1489) d:\\repos\\Phone detection\\0122_cut.mp4: 384x640 (no detections), 98.4ms\n",
      "video 1/1 (frame 881/1489) d:\\repos\\Phone detection\\0122_cut.mp4: 384x640 (no detections), 201.3ms\n",
      "video 1/1 (frame 882/1489) d:\\repos\\Phone detection\\0122_cut.mp4: 384x640 (no detections), 126.4ms\n",
      "video 1/1 (frame 883/1489) d:\\repos\\Phone detection\\0122_cut.mp4: 384x640 (no detections), 149.2ms\n",
      "video 1/1 (frame 884/1489) d:\\repos\\Phone detection\\0122_cut.mp4: 384x640 (no detections), 171.0ms\n",
      "video 1/1 (frame 885/1489) d:\\repos\\Phone detection\\0122_cut.mp4: 384x640 (no detections), 182.7ms\n",
      "video 1/1 (frame 886/1489) d:\\repos\\Phone detection\\0122_cut.mp4: 384x640 (no detections), 203.9ms\n",
      "video 1/1 (frame 887/1489) d:\\repos\\Phone detection\\0122_cut.mp4: 384x640 (no detections), 201.6ms\n",
      "video 1/1 (frame 888/1489) d:\\repos\\Phone detection\\0122_cut.mp4: 384x640 (no detections), 205.3ms\n",
      "video 1/1 (frame 889/1489) d:\\repos\\Phone detection\\0122_cut.mp4: 384x640 (no detections), 192.6ms\n",
      "video 1/1 (frame 890/1489) d:\\repos\\Phone detection\\0122_cut.mp4: 384x640 (no detections), 208.0ms\n",
      "video 1/1 (frame 891/1489) d:\\repos\\Phone detection\\0122_cut.mp4: 384x640 (no detections), 151.0ms\n",
      "video 1/1 (frame 892/1489) d:\\repos\\Phone detection\\0122_cut.mp4: 384x640 (no detections), 165.4ms\n",
      "video 1/1 (frame 893/1489) d:\\repos\\Phone detection\\0122_cut.mp4: 384x640 (no detections), 177.2ms\n",
      "video 1/1 (frame 894/1489) d:\\repos\\Phone detection\\0122_cut.mp4: 384x640 (no detections), 200.8ms\n",
      "video 1/1 (frame 895/1489) d:\\repos\\Phone detection\\0122_cut.mp4: 384x640 (no detections), 197.3ms\n",
      "video 1/1 (frame 896/1489) d:\\repos\\Phone detection\\0122_cut.mp4: 384x640 (no detections), 185.1ms\n",
      "video 1/1 (frame 897/1489) d:\\repos\\Phone detection\\0122_cut.mp4: 384x640 (no detections), 197.7ms\n"
     ]
    }
   ],
   "source": [
    "import cv2\n",
    "# Path to the input video\n",
    "video_path = \"0122_cut.mp4\"\n",
    "\n",
    "# Run inference on the video\n",
    "results = model(video_path, stream=True)  # 'stream=True' processes the video frame by frame\n",
    "\n",
    "# Loop through the results and display/save the output\n",
    "for result in results:\n",
    "    # Visualize the results on the frame\n",
    "    annotated_frame = result.plot()\n",
    "\n",
    "    # Display the annotated frame\n",
    "    cv2.imshow(\"YOLOv8 Inference\", annotated_frame)\n",
    "\n",
    "    # Break the loop if 'q' is pressed\n",
    "    if cv2.waitKey(1) & 0xFF == ord(\"q\"):\n",
    "        break\n",
    "\n",
    "# Release resources\n",
    "cv2.destroyAllWindows()"
   ]
  },
  {
   "cell_type": "code",
   "execution_count": 5,
   "metadata": {},
   "outputs": [
    {
     "name": "stdout",
     "output_type": "stream",
     "text": [
      "\n",
      "image 1/1 d:\\repos\\Phone detection\\aver.jpg: 416x640 2 cellphone_uses, 211.9ms\n",
      "Speed: 5.5ms preprocess, 211.9ms inference, 1.0ms postprocess per image at shape (1, 3, 416, 640)\n"
     ]
    }
   ],
   "source": [
    "# Run inference on an image\n",
    "results = model_trained(\"aver.jpg\")\n",
    "\n",
    "# Visualize the results\n",
    "for result in results:\n",
    "    result.show()"
   ]
  },
  {
   "cell_type": "code",
   "execution_count": 9,
   "metadata": {},
   "outputs": [
    {
     "name": "stdout",
     "output_type": "stream",
     "text": [
      "\n",
      "image 1/1 d:\\repos\\Phone detection\\test_images\\aver.jpg: 416x640 2 cellphone_uses, 203.2ms\n",
      "Speed: 3.5ms preprocess, 203.2ms inference, 0.0ms postprocess per image at shape (1, 3, 416, 640)\n",
      "\n",
      "image 1/1 d:\\repos\\Phone detection\\test_images\\test_2.jpg: 352x640 (no detections), 163.1ms\n",
      "Speed: 1.0ms preprocess, 163.1ms inference, 1.5ms postprocess per image at shape (1, 3, 352, 640)\n",
      "\n",
      "image 1/1 d:\\repos\\Phone detection\\test_images\\test_3.png: 384x640 2 cellphone_uses, 154.6ms\n",
      "Speed: 3.0ms preprocess, 154.6ms inference, 2.7ms postprocess per image at shape (1, 3, 384, 640)\n",
      "\n",
      "image 1/1 d:\\repos\\Phone detection\\test_images\\test_4.jpg: 448x640 2 cellphone_uses, 156.9ms\n",
      "Speed: 4.0ms preprocess, 156.9ms inference, 1.0ms postprocess per image at shape (1, 3, 448, 640)\n",
      "\n",
      "image 1/1 d:\\repos\\Phone detection\\test_images\\test_copy.png: 640x384 (no detections), 135.5ms\n",
      "Speed: 2.5ms preprocess, 135.5ms inference, 1.0ms postprocess per image at shape (1, 3, 640, 384)\n"
     ]
    }
   ],
   "source": [
    "import os\n",
    "for img in os.listdir('test_images/'):\n",
    "    # Run inference on an image\n",
    "    results = model_trained(os.path.join('test_images/',img))\n",
    "\n",
    "    # Visualize the results\n",
    "    for result in results:\n",
    "        result.show()"
   ]
  },
  {
   "cell_type": "code",
   "execution_count": 11,
   "metadata": {},
   "outputs": [
    {
     "name": "stdout",
     "output_type": "stream",
     "text": [
      "\n",
      "image 1/1 d:\\repos\\Phone detection\\test.png: 224x224 lab_coat 0.51, library 0.06, dishwasher 0.03, barbershop 0.03, shoe_shop 0.03, 105.0ms\n",
      "Speed: 36.4ms preprocess, 105.0ms inference, 0.0ms postprocess per image at shape (1, 3, 224, 224)\n"
     ]
    }
   ],
   "source": [
    "# Load a pretrained YOLO model\n",
    "new_model = YOLO(\"yolo11m-cls.pt\")\n",
    "\n",
    "# Perform object detection on an image\n",
    "results = new_model(\"test.png\")\n",
    "\n",
    "# Visualize the results\n",
    "for result in results:\n",
    "    result.show()"
   ]
  },
  {
   "cell_type": "code",
   "execution_count": 14,
   "metadata": {},
   "outputs": [
    {
     "name": "stdout",
     "output_type": "stream",
     "text": [
      "\n",
      "image 1/1 d:\\repos\\Phone detection\\test_images\\aver.jpg: 416x640 2 cellphone_uses, 177.2ms\n",
      "Speed: 0.0ms preprocess, 177.2ms inference, 0.0ms postprocess per image at shape (1, 3, 416, 640)\n",
      "\n",
      "image 1/1 d:\\repos\\Phone detection\\test_images\\test_2.jpg: 352x640 (no detections), 138.7ms\n",
      "Speed: 3.0ms preprocess, 138.7ms inference, 0.0ms postprocess per image at shape (1, 3, 352, 640)\n",
      "\n",
      "image 1/1 d:\\repos\\Phone detection\\test_images\\test_3.png: 384x640 2 cellphone_uses, 150.5ms\n",
      "Speed: 0.0ms preprocess, 150.5ms inference, 0.0ms postprocess per image at shape (1, 3, 384, 640)\n",
      "\n",
      "image 1/1 d:\\repos\\Phone detection\\test_images\\test_4.jpg: 448x640 2 cellphone_uses, 152.3ms\n",
      "Speed: 0.0ms preprocess, 152.3ms inference, 0.4ms postprocess per image at shape (1, 3, 448, 640)\n",
      "\n",
      "image 1/1 d:\\repos\\Phone detection\\test_images\\test_copy.png: 640x384 (no detections), 142.6ms\n",
      "Speed: 0.0ms preprocess, 142.6ms inference, 1.0ms postprocess per image at shape (1, 3, 640, 384)\n"
     ]
    }
   ],
   "source": [
    "for img in os.listdir('test_images/'):\n",
    "    # Run inference on an image\n",
    "    results = model_trained(os.path.join('test_images/',img))\n",
    "\n",
    "    # Visualize the results\n",
    "    for result in results:\n",
    "        result.show()"
   ]
  },
  {
   "cell_type": "code",
   "execution_count": 15,
   "metadata": {},
   "outputs": [
    {
     "name": "stdout",
     "output_type": "stream",
     "text": [
      "Downloading https://github.com/ultralytics/assets/releases/download/v8.3.0/yolo11l.pt to 'yolo11l.pt'...\n"
     ]
    },
    {
     "name": "stderr",
     "output_type": "stream",
     "text": [
      "100%|██████████| 49.0M/49.0M [00:41<00:00, 1.23MB/s]\n"
     ]
    },
    {
     "name": "stdout",
     "output_type": "stream",
     "text": [
      "\n",
      "image 1/1 d:\\repos\\Phone detection\\test.png: 352x640 6 persons, 1 backpack, 7 chairs, 2 dining tables, 1 laptop, 1 refrigerator, 640.2ms\n",
      "Speed: 2.0ms preprocess, 640.2ms inference, 0.0ms postprocess per image at shape (1, 3, 352, 640)\n"
     ]
    }
   ],
   "source": [
    "# Load a pretrained YOLO model\n",
    "last_model = YOLO(\"yolo11l.pt\")\n",
    "\n",
    "# Perform object detection on an image\n",
    "results = last_model(\"test.png\")\n",
    "\n",
    "# Visualize the results\n",
    "for result in results:\n",
    "    result.show()"
   ]
  }
 ],
 "metadata": {
  "kernelspec": {
   "display_name": "phone",
   "language": "python",
   "name": "python3"
  },
  "language_info": {
   "codemirror_mode": {
    "name": "ipython",
    "version": 3
   },
   "file_extension": ".py",
   "mimetype": "text/x-python",
   "name": "python",
   "nbconvert_exporter": "python",
   "pygments_lexer": "ipython3",
   "version": "3.10.4"
  }
 },
 "nbformat": 4,
 "nbformat_minor": 2
}
